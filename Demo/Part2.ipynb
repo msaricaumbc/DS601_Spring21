{
 "cells": [
  {
   "cell_type": "code",
   "execution_count": 1,
   "metadata": {},
   "outputs": [],
   "source": [
    "import pickle\n",
    "import re\n",
    "import pandas as pd\n",
    "\n",
    "import nltk\n",
    "from nltk.corpus import wordnet\n",
    "from nltk.corpus import stopwords\n",
    "from nltk.stem import PorterStemmer, WordNetLemmatizer\n",
    "from nltk.tokenize import sent_tokenize, word_tokenize"
   ]
  },
  {
   "cell_type": "code",
   "execution_count": 2,
   "metadata": {},
   "outputs": [],
   "source": [
    "filename = 'model.pickle'\n",
    "\n",
    "obj = pickle.load(open(filename, 'rb'))"
   ]
  },
  {
   "cell_type": "code",
   "execution_count": 3,
   "metadata": {},
   "outputs": [],
   "source": [
    "model = obj['model']\n",
    "stopwords = obj['stopwords']\n",
    "lemmatizer = obj ['lemmatizer']\n",
    "wordnet_map = obj ['wordnet_map']\n",
    "vectorizer = obj ['vectorizer']"
   ]
  },
  {
   "cell_type": "code",
   "execution_count": 4,
   "metadata": {},
   "outputs": [],
   "source": [
    "#prediction pipeline with text vectorizer and model\n",
    "def prediction(text_input, STOPWORDS, lemmatizer, wordnet_map, vectorizer, Multinomial_NB):\n",
    "    \n",
    "    # Transform words to lower case\n",
    "    text=text_input.lower()\n",
    "    # Remove punctuation\n",
    "    text=re.sub('[^a-zA-Z]', ' ', text)\n",
    "    # Remove tags\n",
    "    text=re.sub(\"&lt;/?.*?&gt;\",\" &lt;&gt; \",text)\n",
    "    # Remove special characters and digits\n",
    "    text=re.sub(\"(\\\\d|\\\\W)+\",\" \",text)\n",
    "    # Remove stop words like : and is a and the\n",
    "    text=\" \".join([word for word in text.split() if word not in STOPWORDS])\n",
    "    # Find base word for all words in the sentence\n",
    "    pos_tagged_text=nltk.pos_tag(text.split())\n",
    "    text=\" \".join([lemmatizer.lemmatize(word, wordnet_map.get(pos[0], wordnet.NOUN)) for word, pos in pos_tagged_text])\n",
    "    \n",
    "    # specific\n",
    "    text = re.sub(r\"won\\'t\", \"will not\", text); text = re.sub(r\"can\\'t\", \"can not\", text)\n",
    "    # general\n",
    "    text = re.sub(r\"n\\'t\", \" not\", text); text = re.sub(r\"\\'re\", \" are\", text)\n",
    "    text = re.sub(r\"\\'s\", \" is\", text); text = re.sub(r\"\\'d\", \" would\", text)\n",
    "    text = re.sub(r\"\\'ll\", \" will\", text); text = re.sub(r\"\\'t\", \" not\", text)\n",
    "    text = re.sub(r\"\\'ve\", \" have\", text); text = re.sub(r\"\\'m\", \" am\", text)\n",
    "    print(text)\n",
    "    text = np.array(text).reshape(1,)\n",
    "    vec_text = vectorizer.transform(text)\n",
    "    output = Multinomial_NB.predict(vec_text)\n",
    "    \n",
    "    #creating dataframe\n",
    "    cols = ['text','emotion_0','emotion_1','emotion_2','emotion_3','emotion_4',\n",
    "            'emotion_5','emotion_6','emotion_7','emotion_8']\n",
    "    vals = [[text_input] + list(output[0])]\n",
    "    df = pd.DataFrame(vals, columns=cols)\n",
    "    \n",
    "    return df"
   ]
  },
  {
   "cell_type": "code",
   "execution_count": 5,
   "metadata": {},
   "outputs": [
    {
     "name": "stdout",
     "output_type": "stream",
     "text": [
      "myanmar coup dozen kill army open fire protester deadliest day security force strength try prevent rally local news site myanmar put death toll united nation say receive report score kill hundred injure\n"
     ]
    },
    {
     "data": {
      "text/html": [
       "<div>\n",
       "<style scoped>\n",
       "    .dataframe tbody tr th:only-of-type {\n",
       "        vertical-align: middle;\n",
       "    }\n",
       "\n",
       "    .dataframe tbody tr th {\n",
       "        vertical-align: top;\n",
       "    }\n",
       "\n",
       "    .dataframe thead th {\n",
       "        text-align: right;\n",
       "    }\n",
       "</style>\n",
       "<table border=\"1\" class=\"dataframe\">\n",
       "  <thead>\n",
       "    <tr style=\"text-align: right;\">\n",
       "      <th></th>\n",
       "      <th>text</th>\n",
       "      <th>emotion_0</th>\n",
       "      <th>emotion_1</th>\n",
       "      <th>emotion_2</th>\n",
       "      <th>emotion_3</th>\n",
       "      <th>emotion_4</th>\n",
       "      <th>emotion_5</th>\n",
       "      <th>emotion_6</th>\n",
       "      <th>emotion_7</th>\n",
       "      <th>emotion_8</th>\n",
       "    </tr>\n",
       "  </thead>\n",
       "  <tbody>\n",
       "    <tr>\n",
       "      <td>0</td>\n",
       "      <td>Myanmar coup: Dozens killed as army opens fire...</td>\n",
       "      <td>0</td>\n",
       "      <td>1</td>\n",
       "      <td>0</td>\n",
       "      <td>0</td>\n",
       "      <td>0</td>\n",
       "      <td>1</td>\n",
       "      <td>0</td>\n",
       "      <td>1</td>\n",
       "      <td>0</td>\n",
       "    </tr>\n",
       "  </tbody>\n",
       "</table>\n",
       "</div>"
      ],
      "text/plain": [
       "                                                text  emotion_0  emotion_1  \\\n",
       "0  Myanmar coup: Dozens killed as army opens fire...          0          1   \n",
       "\n",
       "   emotion_2  emotion_3  emotion_4  emotion_5  emotion_6  emotion_7  emotion_8  \n",
       "0          0          0          0          1          0          1          0  "
      ]
     },
     "execution_count": 5,
     "metadata": {},
     "output_type": "execute_result"
    }
   ],
   "source": [
    "#Source[BBC]: https://www.bbc.com/news/world-asia-56546920\n",
    "text_input= \"Myanmar coup: Dozens killed as army opens fire on protesters during deadliest day.Security forces were out in strength trying to prevent rallies.Local news site Myanmar Now put the death toll at 114, while the United Nations said it was receiving reports of scores killed and hundreds more injured.\"\n",
    "\n",
    "#Prediction output\n",
    "output= prediction(text_input, stopwords, lemmatizer, wordnet_map, vectorizer, model)\n",
    "output"
   ]
  },
  {
   "cell_type": "code",
   "execution_count": null,
   "metadata": {},
   "outputs": [],
   "source": []
  },
  {
   "cell_type": "code",
   "execution_count": 6,
   "metadata": {},
   "outputs": [],
   "source": [
    "#prediction pipeline with text vectorizer and model\n",
    "def prediction(text_input, STOPWORDS, lemmatizer, wordnet_map, vectorizer, Multinomial_NB):\n",
    "    \n",
    "    # Transform words to lower case\n",
    "    text=text_input.lower()\n",
    "    # Remove punctuation\n",
    "    text=re.sub('[^a-zA-Z]', ' ', text)\n",
    "    # Remove tags\n",
    "    text=re.sub(\"&lt;/?.*?&gt;\",\" &lt;&gt; \",text)\n",
    "    # Remove special characters and digits\n",
    "    text=re.sub(\"(\\\\d|\\\\W)+\",\" \",text)\n",
    "    # Remove stop words like : and is a and the\n",
    "    text=\" \".join([word for word in text.split() if word not in STOPWORDS])\n",
    "    # Find base word for all words in the sentence\n",
    "    pos_tagged_text=nltk.pos_tag(text.split())\n",
    "    text=\" \".join([lemmatizer.lemmatize(word, wordnet_map.get(pos[0], wordnet.NOUN)) for word, pos in pos_tagged_text])\n",
    "    \n",
    "    # specific\n",
    "    text = re.sub(r\"won\\'t\", \"will not\", text); text = re.sub(r\"can\\'t\", \"can not\", text)\n",
    "    # general\n",
    "    text = re.sub(r\"n\\'t\", \" not\", text); text = re.sub(r\"\\'re\", \" are\", text)\n",
    "    text = re.sub(r\"\\'s\", \" is\", text); text = re.sub(r\"\\'d\", \" would\", text)\n",
    "    text = re.sub(r\"\\'ll\", \" will\", text); text = re.sub(r\"\\'t\", \" not\", text)\n",
    "    text = re.sub(r\"\\'ve\", \" have\", text); text = re.sub(r\"\\'m\", \" am\", text)\n",
    "#     print(text)\n",
    "    text = np.array(text).reshape(1,)\n",
    "    vec_text = vectorizer.transform(text)\n",
    "    output = Multinomial_NB.predict(vec_text)\n",
    "    \n",
    "    cols = ['emotion_0','emotion_1','emotion_2','emotion_3','emotion_4',\n",
    "            'emotion_5','emotion_6','emotion_7','emotion_8']\n",
    "    output_values = [False if x == 0 else True for x in output[0]]  # np values are replaced with boolean\n",
    " \n",
    "    return { key: value for key, value in zip(cols, output_values)}\n"
   ]
  },
  {
   "cell_type": "code",
   "execution_count": 8,
   "metadata": {},
   "outputs": [
    {
     "data": {
      "text/plain": [
       "{'emotion_0': False,\n",
       " 'emotion_1': True,\n",
       " 'emotion_2': False,\n",
       " 'emotion_3': False,\n",
       " 'emotion_4': False,\n",
       " 'emotion_5': True,\n",
       " 'emotion_6': False,\n",
       " 'emotion_7': True,\n",
       " 'emotion_8': False}"
      ]
     },
     "execution_count": 8,
     "metadata": {},
     "output_type": "execute_result"
    }
   ],
   "source": [
    "#Source[BBC]: https://www.bbc.com/news/world-asia-56546920\n",
    "text_input= \"Myanmar coup: Dozens killed as army opens fire on protesters during deadliest day.Security forces were out in strength trying to prevent rallies.Local news site Myanmar Now put the death toll at 114, while the United Nations said it was receiving reports of scores killed and hundreds more injured.\"\n",
    "\n",
    "#Prediction output\n",
    "output= prediction(text_input, stopwords, lemmatizer, wordnet_map, vectorizer, model)\n",
    "output"
   ]
  },
  {
   "cell_type": "code",
   "execution_count": 67,
   "metadata": {},
   "outputs": [
    {
     "name": "stdout",
     "output_type": "stream",
     "text": [
      "model.pickle\r\n"
     ]
    }
   ],
   "source": [
    "!ls *.p*"
   ]
  },
  {
   "cell_type": "code",
   "execution_count": 9,
   "metadata": {},
   "outputs": [
    {
     "name": "stdout",
     "output_type": "stream",
     "text": [
      "upload: ./model.pickle to s3://com.msarica.ds/model.pickle        \n"
     ]
    }
   ],
   "source": [
    "!aws s3 cp ./model.pickle s3://com.msarica.ds/model.pickle"
   ]
  },
  {
   "cell_type": "code",
   "execution_count": 14,
   "metadata": {},
   "outputs": [
    {
     "name": "stdout",
     "output_type": "stream",
     "text": [
      "Completed 3.8 KiB/3.8 KiB (18.5 KiB/s) with 1 file(s) remaining\r",
      "upload: ./Part3.py to s3://com.msarica.ds/server.txt           \r\n"
     ]
    }
   ],
   "source": [
    "!aws s3 cp ./Part3.py s3://com.msarica.ds/server.txt"
   ]
  },
  {
   "cell_type": "code",
   "execution_count": 12,
   "metadata": {},
   "outputs": [],
   "source": [
    "# aws s3 cp s3://com.msarica.ds/server.txt ./server.txt"
   ]
  },
  {
   "cell_type": "code",
   "execution_count": null,
   "metadata": {},
   "outputs": [],
   "source": []
  }
 ],
 "metadata": {
  "kernelspec": {
   "display_name": "Python 3",
   "language": "python",
   "name": "python3"
  },
  "language_info": {
   "codemirror_mode": {
    "name": "ipython",
    "version": 3
   },
   "file_extension": ".py",
   "mimetype": "text/x-python",
   "name": "python",
   "nbconvert_exporter": "python",
   "pygments_lexer": "ipython3",
   "version": "3.7.4"
  },
  "varInspector": {
   "cols": {
    "lenName": 16,
    "lenType": 16,
    "lenVar": 40
   },
   "kernels_config": {
    "python": {
     "delete_cmd_postfix": "",
     "delete_cmd_prefix": "del ",
     "library": "var_list.py",
     "varRefreshCmd": "print(var_dic_list())"
    },
    "r": {
     "delete_cmd_postfix": ") ",
     "delete_cmd_prefix": "rm(",
     "library": "var_list.r",
     "varRefreshCmd": "cat(var_dic_list()) "
    }
   },
   "types_to_exclude": [
    "module",
    "function",
    "builtin_function_or_method",
    "instance",
    "_Feature"
   ],
   "window_display": false
  }
 },
 "nbformat": 4,
 "nbformat_minor": 2
}
