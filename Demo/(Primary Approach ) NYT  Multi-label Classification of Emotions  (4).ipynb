{
 "cells": [
  {
   "cell_type": "markdown",
   "metadata": {},
   "source": [
    "# <div align=\"center\">NYT: Multi-label Classification of Emotions\n",
    "   <div align=\"center\"> PRIMARY APPROACH\n",
    "    \n",
    "\n"
   ]
  },
  {
   "cell_type": "markdown",
   "metadata": {},
   "source": [
    "## 1. Import Libraries"
   ]
  },
  {
   "cell_type": "code",
   "execution_count": 11,
   "metadata": {},
   "outputs": [
    {
     "name": "stdout",
     "output_type": "stream",
     "text": [
      "Requirement already satisfied: plotly in /Users/msarica/anaconda3/lib/python3.7/site-packages (4.14.3)\n",
      "Requirement already satisfied: six in /Users/msarica/anaconda3/lib/python3.7/site-packages (from plotly) (1.15.0)\n",
      "Requirement already satisfied: retrying>=1.3.3 in /Users/msarica/anaconda3/lib/python3.7/site-packages (from plotly) (1.3.3)\n",
      "Requirement already satisfied: prettytable in /Users/msarica/anaconda3/lib/python3.7/site-packages (2.1.0)\n",
      "Requirement already satisfied: wcwidth in /Users/msarica/anaconda3/lib/python3.7/site-packages (from prettytable) (0.1.7)\n",
      "Requirement already satisfied: importlib-metadata in /Users/msarica/anaconda3/lib/python3.7/site-packages (from prettytable) (0.23)\n",
      "Requirement already satisfied: zipp>=0.5 in /Users/msarica/anaconda3/lib/python3.7/site-packages (from importlib-metadata->prettytable) (0.6.0)\n",
      "Requirement already satisfied: more-itertools in /Users/msarica/anaconda3/lib/python3.7/site-packages (from zipp>=0.5->importlib-metadata->prettytable) (7.2.0)\n",
      "Requirement already satisfied: wordcloud in /Users/msarica/anaconda3/lib/python3.7/site-packages (1.8.1)\n",
      "Requirement already satisfied: pillow in /Users/msarica/anaconda3/lib/python3.7/site-packages (from wordcloud) (6.2.0)\n",
      "Requirement already satisfied: numpy>=1.6.1 in /Users/msarica/anaconda3/lib/python3.7/site-packages (from wordcloud) (1.17.2)\n",
      "Requirement already satisfied: matplotlib in /Users/msarica/anaconda3/lib/python3.7/site-packages (from wordcloud) (3.1.1)\n",
      "Requirement already satisfied: cycler>=0.10 in /Users/msarica/anaconda3/lib/python3.7/site-packages (from matplotlib->wordcloud) (0.10.0)\n",
      "Requirement already satisfied: kiwisolver>=1.0.1 in /Users/msarica/anaconda3/lib/python3.7/site-packages (from matplotlib->wordcloud) (1.1.0)\n",
      "Requirement already satisfied: pyparsing!=2.0.4,!=2.1.2,!=2.1.6,>=2.0.1 in /Users/msarica/anaconda3/lib/python3.7/site-packages (from matplotlib->wordcloud) (2.4.2)\n",
      "Requirement already satisfied: python-dateutil>=2.1 in /Users/msarica/anaconda3/lib/python3.7/site-packages (from matplotlib->wordcloud) (2.7.5)\n",
      "Requirement already satisfied: six in /Users/msarica/anaconda3/lib/python3.7/site-packages (from cycler>=0.10->matplotlib->wordcloud) (1.15.0)\n",
      "Requirement already satisfied: setuptools in /Users/msarica/anaconda3/lib/python3.7/site-packages (from kiwisolver>=1.0.1->matplotlib->wordcloud) (41.4.0)\n",
      "Collecting mlxtend\n",
      "  Downloading mlxtend-0.18.0-py2.py3-none-any.whl (1.3 MB)\n",
      "\u001b[K     |████████████████████████████████| 1.3 MB 4.0 MB/s eta 0:00:01\n",
      "\u001b[?25hRequirement already satisfied: scikit-learn>=0.20.3 in /Users/msarica/anaconda3/lib/python3.7/site-packages (from mlxtend) (0.21.3)\n",
      "Requirement already satisfied: pandas>=0.24.2 in /Users/msarica/anaconda3/lib/python3.7/site-packages (from mlxtend) (0.25.1)\n",
      "Requirement already satisfied: numpy>=1.16.2 in /Users/msarica/anaconda3/lib/python3.7/site-packages (from mlxtend) (1.17.2)\n",
      "Requirement already satisfied: matplotlib>=3.0.0 in /Users/msarica/anaconda3/lib/python3.7/site-packages (from mlxtend) (3.1.1)\n",
      "Requirement already satisfied: setuptools in /Users/msarica/anaconda3/lib/python3.7/site-packages (from mlxtend) (41.4.0)\n",
      "Requirement already satisfied: scipy>=1.2.1 in /Users/msarica/anaconda3/lib/python3.7/site-packages (from mlxtend) (1.3.1)\n",
      "Requirement already satisfied: joblib>=0.13.2 in /Users/msarica/anaconda3/lib/python3.7/site-packages (from mlxtend) (0.13.2)\n",
      "Requirement already satisfied: cycler>=0.10 in /Users/msarica/anaconda3/lib/python3.7/site-packages (from matplotlib>=3.0.0->mlxtend) (0.10.0)\n",
      "Requirement already satisfied: kiwisolver>=1.0.1 in /Users/msarica/anaconda3/lib/python3.7/site-packages (from matplotlib>=3.0.0->mlxtend) (1.1.0)\n",
      "Requirement already satisfied: pyparsing!=2.0.4,!=2.1.2,!=2.1.6,>=2.0.1 in /Users/msarica/anaconda3/lib/python3.7/site-packages (from matplotlib>=3.0.0->mlxtend) (2.4.2)\n",
      "Requirement already satisfied: python-dateutil>=2.1 in /Users/msarica/anaconda3/lib/python3.7/site-packages (from matplotlib>=3.0.0->mlxtend) (2.7.5)\n",
      "Requirement already satisfied: six in /Users/msarica/anaconda3/lib/python3.7/site-packages (from cycler>=0.10->matplotlib>=3.0.0->mlxtend) (1.15.0)\n",
      "Requirement already satisfied: pytz>=2017.2 in /Users/msarica/anaconda3/lib/python3.7/site-packages (from pandas>=0.24.2->mlxtend) (2019.3)\n",
      "Installing collected packages: mlxtend\n",
      "Successfully installed mlxtend-0.18.0\n"
     ]
    }
   ],
   "source": [
    "!pip install plotly\n",
    "!pip install prettytable\n",
    "!pip install wordcloud\n",
    "!pip install mlxtend"
   ]
  },
  {
   "cell_type": "code",
   "execution_count": 12,
   "metadata": {},
   "outputs": [
    {
     "name": "stderr",
     "output_type": "stream",
     "text": [
      "[nltk_data] Downloading package stopwords to\n",
      "[nltk_data]     /Users/msarica/nltk_data...\n",
      "[nltk_data]   Package stopwords is already up-to-date!\n",
      "[nltk_data] Downloading package wordnet to /Users/msarica/nltk_data...\n",
      "[nltk_data]   Package wordnet is already up-to-date!\n",
      "[nltk_data] Downloading package averaged_perceptron_tagger to\n",
      "[nltk_data]     /Users/msarica/nltk_data...\n",
      "[nltk_data]   Package averaged_perceptron_tagger is already up-to-\n",
      "[nltk_data]       date!\n",
      "[nltk_data] Downloading package punkt to /Users/msarica/nltk_data...\n",
      "[nltk_data]   Package punkt is already up-to-date!\n"
     ]
    }
   ],
   "source": [
    "import warnings\n",
    "warnings.filterwarnings(\"ignore\")\n",
    "\n",
    "import re\n",
    "import time\n",
    "import numpy as np\n",
    "import pandas as pd\n",
    "from tqdm import tqdm\n",
    "from collections import defaultdict\n",
    "\n",
    "#viz\n",
    "import matplotlib.pyplot as plt\n",
    "import plotly.graph_objects as go\n",
    "import missingno as msno\n",
    "import seaborn as sns\n",
    "sns.set_style(\"darkgrid\")\n",
    "import missingno as msno\n",
    "from pylab import rcParams\n",
    "rcParams['figure.figsize'] = 8, 6\n",
    "pd.set_option('display.max_rows', 500)\n",
    "pd.set_option('display.max_columns', 500)\n",
    "pd.set_option('display.width', 1000)\n",
    "from plotly.offline import download_plotlyjs, init_notebook_mode, plot, iplot\n",
    "from prettytable import PrettyTable   \n",
    "PTTable = PrettyTable()\n",
    "\n",
    "#json zipped\n",
    "import gzip\n",
    "import json\n",
    "\n",
    "#text\n",
    "import nltk\n",
    "from nltk.corpus import wordnet\n",
    "from nltk.corpus import stopwords\n",
    "from nltk.stem import PorterStemmer, WordNetLemmatizer\n",
    "from nltk.tokenize import sent_tokenize, word_tokenize\n",
    "from nltk import FreqDist\n",
    "from nltk.tokenize import word_tokenize\n",
    "from wordcloud import WordCloud, STOPWORDS\n",
    "\n",
    "nltk.download('stopwords')\n",
    "stop_words = set(stopwords.words('english'))\n",
    "stopword = nltk.corpus.stopwords.words('english')\n",
    "nltk.download('wordnet')\n",
    "nltk.download('averaged_perceptron_tagger')\n",
    "nltk.download('punkt')\n",
    "\n",
    "#for models and eval\n",
    "from mlxtend.plotting import plot_confusion_matrix\n",
    "from sklearn.pipeline import Pipeline\n",
    "from sklearn import metrics\n",
    "from sklearn.preprocessing import LabelEncoder\n",
    "from sklearn.multiclass import OneVsRestClassifier\n",
    "from sklearn.feature_extraction.text import TfidfVectorizer\n",
    "from sklearn.model_selection import RandomizedSearchCV, GridSearchCV, RandomizedSearchCV, train_test_split\n",
    "from sklearn.utils import class_weight\n",
    "from sklearn.metrics import f1_score,precision_score,recall_score,accuracy_score\n",
    "\n",
    "#Models\n",
    "from sklearn.svm import LinearSVC\n",
    "from sklearn.tree import DecisionTreeClassifier\n",
    "from sklearn.naive_bayes import MultinomialNB, ComplementNB\n",
    "from sklearn.linear_model import LogisticRegression, SGDClassifier\n",
    "\n",
    "#save model\n",
    "import pickle"
   ]
  },
  {
   "cell_type": "markdown",
   "metadata": {},
   "source": [
    "## 2. Data Cleaning"
   ]
  },
  {
   "cell_type": "code",
   "execution_count": 46,
   "metadata": {},
   "outputs": [],
   "source": [
    "#import data using read_csv method\n",
    "df = pd.read_csv(\"nlp_encoded_nyt.csv\", encoding=\"utf-8\")"
   ]
  },
  {
   "cell_type": "code",
   "execution_count": 47,
   "metadata": {
    "scrolled": false
   },
   "outputs": [
    {
     "data": {
      "text/html": [
       "<div>\n",
       "<style scoped>\n",
       "    .dataframe tbody tr th:only-of-type {\n",
       "        vertical-align: middle;\n",
       "    }\n",
       "\n",
       "    .dataframe tbody tr th {\n",
       "        vertical-align: top;\n",
       "    }\n",
       "\n",
       "    .dataframe thead th {\n",
       "        text-align: right;\n",
       "    }\n",
       "</style>\n",
       "<table border=\"1\" class=\"dataframe\">\n",
       "  <thead>\n",
       "    <tr style=\"text-align: right;\">\n",
       "      <th></th>\n",
       "      <th>emotion_0</th>\n",
       "      <th>emotion_1</th>\n",
       "      <th>emotion_2</th>\n",
       "      <th>emotion_3</th>\n",
       "      <th>emotion_4</th>\n",
       "      <th>emotion_5</th>\n",
       "      <th>emotion_6</th>\n",
       "      <th>emotion_7</th>\n",
       "      <th>emotion_8</th>\n",
       "      <th>emotion_9</th>\n",
       "      <th>headline</th>\n",
       "      <th>summary</th>\n",
       "      <th>worker_id</th>\n",
       "    </tr>\n",
       "  </thead>\n",
       "  <tbody>\n",
       "    <tr>\n",
       "      <td>0</td>\n",
       "      <td>0</td>\n",
       "      <td>0</td>\n",
       "      <td>0</td>\n",
       "      <td>0</td>\n",
       "      <td>0</td>\n",
       "      <td>1</td>\n",
       "      <td>0</td>\n",
       "      <td>0</td>\n",
       "      <td>0</td>\n",
       "      <td>1</td>\n",
       "      <td>Parenting Lessons From a Partial Eclipse</td>\n",
       "      <td>I don’t do partiality. Maybe it was finally ti...</td>\n",
       "      <td>95524929</td>\n",
       "    </tr>\n",
       "    <tr>\n",
       "      <td>1</td>\n",
       "      <td>0</td>\n",
       "      <td>0</td>\n",
       "      <td>0</td>\n",
       "      <td>0</td>\n",
       "      <td>0</td>\n",
       "      <td>1</td>\n",
       "      <td>0</td>\n",
       "      <td>0</td>\n",
       "      <td>0</td>\n",
       "      <td>1</td>\n",
       "      <td>On Catalonia</td>\n",
       "      <td>Catalan lawmakers declared independence from S...</td>\n",
       "      <td>30266977</td>\n",
       "    </tr>\n",
       "  </tbody>\n",
       "</table>\n",
       "</div>"
      ],
      "text/plain": [
       "  emotion_0 emotion_1 emotion_2 emotion_3 emotion_4 emotion_5 emotion_6 emotion_7 emotion_8 emotion_9                                  headline                                            summary worker_id\n",
       "0         0         0         0         0         0         1         0         0         0         1  Parenting Lessons From a Partial Eclipse  I don’t do partiality. Maybe it was finally ti...  95524929\n",
       "1         0         0         0         0         0         1         0         0         0         1                              On Catalonia  Catalan lawmakers declared independence from S...  30266977"
      ]
     },
     "execution_count": 47,
     "metadata": {},
     "output_type": "execute_result"
    }
   ],
   "source": [
    "#getting top 2 rows\n",
    "df.head(2)"
   ]
  },
  {
   "cell_type": "code",
   "execution_count": 48,
   "metadata": {},
   "outputs": [
    {
     "name": "stdout",
     "output_type": "stream",
     "text": [
      "The shape of the dataset is (95760, 13).\n"
     ]
    }
   ],
   "source": [
    "#shape of the dataset\n",
    "print(\"The shape of the dataset is {}.\".format(df.shape))"
   ]
  },
  {
   "cell_type": "markdown",
   "metadata": {},
   "source": [
    "### 2.1 Info\n",
    "\n",
    "* To get the initial idea about the data representation such as data types, null values, total rows and columns/features etc"
   ]
  },
  {
   "cell_type": "code",
   "execution_count": 49,
   "metadata": {
    "scrolled": false
   },
   "outputs": [
    {
     "name": "stdout",
     "output_type": "stream",
     "text": [
      "<class 'pandas.core.frame.DataFrame'>\n",
      "RangeIndex: 95760 entries, 0 to 95759\n",
      "Data columns (total 13 columns):\n",
      "emotion_0    95570 non-null object\n",
      "emotion_1    95576 non-null object\n",
      "emotion_2    95606 non-null object\n",
      "emotion_3    95603 non-null object\n",
      "emotion_4    95569 non-null object\n",
      "emotion_5    95557 non-null object\n",
      "emotion_6    95561 non-null object\n",
      "emotion_7    95575 non-null object\n",
      "emotion_8    95567 non-null object\n",
      "emotion_9    95588 non-null object\n",
      "headline     95570 non-null object\n",
      "summary      95587 non-null object\n",
      "worker_id    95568 non-null object\n",
      "dtypes: object(13)\n",
      "memory usage: 9.5+ MB\n"
     ]
    }
   ],
   "source": [
    "df.info()"
   ]
  },
  {
   "cell_type": "markdown",
   "metadata": {},
   "source": [
    "* All the data types are object type.\n",
    "* Many of the features have null values present in the columns although not much"
   ]
  },
  {
   "cell_type": "markdown",
   "metadata": {},
   "source": [
    "### 2.2 Null Value Analysis"
   ]
  },
  {
   "cell_type": "code",
   "execution_count": 50,
   "metadata": {
    "scrolled": false
   },
   "outputs": [],
   "source": [
    "def null_count_analysis(df):\n",
    "    \"\"\"\n",
    "    This function provides us a dataframe which has null value analysis of given dataframe.\n",
    "    Input:\n",
    "    ------\n",
    "        DataFrame(df) : pandas dataframe\n",
    "    Output:\n",
    "    ------\n",
    "        DataFrame : dataframe with missing value analysis\n",
    "    \"\"\"\n",
    "    count = df.isnull().sum()  #getting missing value counts\n",
    "    cent = 100 * ((df.isnull().sum()) / (df.shape[0]))  #getting missing value percentage\n",
    "    null_df = pd.concat([count, cent], axis=1).rename(columns = {0:\"NULL_COUNT\", 1:\"NULL_PERCENTAGE\"})  #creating dataframe and renaming column\n",
    "    \n",
    "    return null_df"
   ]
  },
  {
   "cell_type": "code",
   "execution_count": 51,
   "metadata": {
    "scrolled": true
   },
   "outputs": [
    {
     "data": {
      "text/html": [
       "<div>\n",
       "<style scoped>\n",
       "    .dataframe tbody tr th:only-of-type {\n",
       "        vertical-align: middle;\n",
       "    }\n",
       "\n",
       "    .dataframe tbody tr th {\n",
       "        vertical-align: top;\n",
       "    }\n",
       "\n",
       "    .dataframe thead th {\n",
       "        text-align: right;\n",
       "    }\n",
       "</style>\n",
       "<table border=\"1\" class=\"dataframe\">\n",
       "  <thead>\n",
       "    <tr style=\"text-align: right;\">\n",
       "      <th></th>\n",
       "      <th>NULL_COUNT</th>\n",
       "      <th>NULL_PERCENTAGE</th>\n",
       "    </tr>\n",
       "  </thead>\n",
       "  <tbody>\n",
       "    <tr>\n",
       "      <td>emotion_0</td>\n",
       "      <td>190</td>\n",
       "      <td>0.198413</td>\n",
       "    </tr>\n",
       "    <tr>\n",
       "      <td>emotion_1</td>\n",
       "      <td>184</td>\n",
       "      <td>0.192147</td>\n",
       "    </tr>\n",
       "    <tr>\n",
       "      <td>emotion_2</td>\n",
       "      <td>154</td>\n",
       "      <td>0.160819</td>\n",
       "    </tr>\n",
       "    <tr>\n",
       "      <td>emotion_3</td>\n",
       "      <td>157</td>\n",
       "      <td>0.163952</td>\n",
       "    </tr>\n",
       "    <tr>\n",
       "      <td>emotion_4</td>\n",
       "      <td>191</td>\n",
       "      <td>0.199457</td>\n",
       "    </tr>\n",
       "    <tr>\n",
       "      <td>emotion_5</td>\n",
       "      <td>203</td>\n",
       "      <td>0.211988</td>\n",
       "    </tr>\n",
       "    <tr>\n",
       "      <td>emotion_6</td>\n",
       "      <td>199</td>\n",
       "      <td>0.207811</td>\n",
       "    </tr>\n",
       "    <tr>\n",
       "      <td>emotion_7</td>\n",
       "      <td>185</td>\n",
       "      <td>0.193191</td>\n",
       "    </tr>\n",
       "    <tr>\n",
       "      <td>emotion_8</td>\n",
       "      <td>193</td>\n",
       "      <td>0.201546</td>\n",
       "    </tr>\n",
       "    <tr>\n",
       "      <td>emotion_9</td>\n",
       "      <td>172</td>\n",
       "      <td>0.179616</td>\n",
       "    </tr>\n",
       "    <tr>\n",
       "      <td>headline</td>\n",
       "      <td>190</td>\n",
       "      <td>0.198413</td>\n",
       "    </tr>\n",
       "    <tr>\n",
       "      <td>summary</td>\n",
       "      <td>173</td>\n",
       "      <td>0.180660</td>\n",
       "    </tr>\n",
       "    <tr>\n",
       "      <td>worker_id</td>\n",
       "      <td>192</td>\n",
       "      <td>0.200501</td>\n",
       "    </tr>\n",
       "  </tbody>\n",
       "</table>\n",
       "</div>"
      ],
      "text/plain": [
       "           NULL_COUNT  NULL_PERCENTAGE\n",
       "emotion_0         190         0.198413\n",
       "emotion_1         184         0.192147\n",
       "emotion_2         154         0.160819\n",
       "emotion_3         157         0.163952\n",
       "emotion_4         191         0.199457\n",
       "emotion_5         203         0.211988\n",
       "emotion_6         199         0.207811\n",
       "emotion_7         185         0.193191\n",
       "emotion_8         193         0.201546\n",
       "emotion_9         172         0.179616\n",
       "headline          190         0.198413\n",
       "summary           173         0.180660\n",
       "worker_id         192         0.200501"
      ]
     },
     "execution_count": 51,
     "metadata": {},
     "output_type": "execute_result"
    }
   ],
   "source": [
    "null_df = null_count_analysis(df)\n",
    "null_df"
   ]
  },
  {
   "cell_type": "markdown",
   "metadata": {},
   "source": [
    "* Here the labels are the emotions. For the null values present in the emotions feature/column, imputation will be difficult as I don't have full details on why data may be missing- domain/data knowldge is key\n",
    "\n",
    "* Also null values present in the text part will add no value as we can't impute text\n",
    "\n",
    "* It is better to drop the null values from the dataset."
   ]
  },
  {
   "cell_type": "code",
   "execution_count": 52,
   "metadata": {},
   "outputs": [
    {
     "name": "stdout",
     "output_type": "stream",
     "text": [
      "Shape of m1 : (93406, 13)\n"
     ]
    }
   ],
   "source": [
    "#not many null value counts: rows can be dropped\n",
    "df_m1 = df.dropna()\n",
    "\n",
    "print(\"Shape of m1 : {}\".format(df_m1.shape))"
   ]
  },
  {
   "cell_type": "markdown",
   "metadata": {},
   "source": [
    "### 2.3 data Inconsistancies"
   ]
  },
  {
   "cell_type": "code",
   "execution_count": 53,
   "metadata": {},
   "outputs": [],
   "source": [
    "#getting all emotion columns\n",
    "emotions=['emotion_0', 'emotion_1','emotion_2','emotion_3','emotion_4',\n",
    "          'emotion_5','emotion_6','emotion_7','emotion_8','emotion_9']\n",
    "emotions_clean=['emotion_0', 'emotion_1','emotion_2','emotion_3','emotion_4','emotion_5',\n",
    "                'emotion_6','emotion_7','emotion_8']\n",
    "\n",
    "\n",
    "#emotions not binary \n",
    "def cols_val_cnts(df):\n",
    "    \"\"\"\n",
    "    This function provides us a dataframe with value counts of each emotion columns.\n",
    "    input:\n",
    "    -----\n",
    "        dataframe\n",
    "    output:\n",
    "    -------\n",
    "        value count dataframe\n",
    "    \"\"\"\n",
    "    df=df.apply(pd.Series.value_counts)\n",
    "    return pd.DataFrame(df)"
   ]
  },
  {
   "cell_type": "code",
   "execution_count": 54,
   "metadata": {},
   "outputs": [
    {
     "data": {
      "text/html": [
       "<div>\n",
       "<style scoped>\n",
       "    .dataframe tbody tr th:only-of-type {\n",
       "        vertical-align: middle;\n",
       "    }\n",
       "\n",
       "    .dataframe tbody tr th {\n",
       "        vertical-align: top;\n",
       "    }\n",
       "\n",
       "    .dataframe thead th {\n",
       "        text-align: right;\n",
       "    }\n",
       "</style>\n",
       "<table border=\"1\" class=\"dataframe\">\n",
       "  <thead>\n",
       "    <tr style=\"text-align: right;\">\n",
       "      <th></th>\n",
       "      <th>emotion_0</th>\n",
       "      <th>emotion_1</th>\n",
       "      <th>emotion_2</th>\n",
       "      <th>emotion_3</th>\n",
       "      <th>emotion_4</th>\n",
       "      <th>emotion_5</th>\n",
       "      <th>emotion_6</th>\n",
       "      <th>emotion_7</th>\n",
       "      <th>emotion_8</th>\n",
       "      <th>emotion_9</th>\n",
       "    </tr>\n",
       "  </thead>\n",
       "  <tbody>\n",
       "    <tr>\n",
       "      <td>-1</td>\n",
       "      <td>203</td>\n",
       "      <td>196</td>\n",
       "      <td>209</td>\n",
       "      <td>190</td>\n",
       "      <td>179</td>\n",
       "      <td>202</td>\n",
       "      <td>166</td>\n",
       "      <td>187</td>\n",
       "      <td>185</td>\n",
       "      <td>186.0</td>\n",
       "    </tr>\n",
       "    <tr>\n",
       "      <td>-2</td>\n",
       "      <td>171</td>\n",
       "      <td>190</td>\n",
       "      <td>181</td>\n",
       "      <td>194</td>\n",
       "      <td>197</td>\n",
       "      <td>196</td>\n",
       "      <td>178</td>\n",
       "      <td>182</td>\n",
       "      <td>185</td>\n",
       "      <td>167.0</td>\n",
       "    </tr>\n",
       "    <tr>\n",
       "      <td>0</td>\n",
       "      <td>83701</td>\n",
       "      <td>83889</td>\n",
       "      <td>85307</td>\n",
       "      <td>85686</td>\n",
       "      <td>83481</td>\n",
       "      <td>56871</td>\n",
       "      <td>89266</td>\n",
       "      <td>76471</td>\n",
       "      <td>71788</td>\n",
       "      <td>NaN</td>\n",
       "    </tr>\n",
       "    <tr>\n",
       "      <td>1</td>\n",
       "      <td>8920</td>\n",
       "      <td>8760</td>\n",
       "      <td>7338</td>\n",
       "      <td>6960</td>\n",
       "      <td>9175</td>\n",
       "      <td>35759</td>\n",
       "      <td>3438</td>\n",
       "      <td>16180</td>\n",
       "      <td>20890</td>\n",
       "      <td>92669.0</td>\n",
       "    </tr>\n",
       "    <tr>\n",
       "      <td>cat</td>\n",
       "      <td>219</td>\n",
       "      <td>190</td>\n",
       "      <td>179</td>\n",
       "      <td>171</td>\n",
       "      <td>192</td>\n",
       "      <td>196</td>\n",
       "      <td>165</td>\n",
       "      <td>192</td>\n",
       "      <td>179</td>\n",
       "      <td>175.0</td>\n",
       "    </tr>\n",
       "    <tr>\n",
       "      <td>fnord</td>\n",
       "      <td>192</td>\n",
       "      <td>181</td>\n",
       "      <td>192</td>\n",
       "      <td>205</td>\n",
       "      <td>182</td>\n",
       "      <td>182</td>\n",
       "      <td>193</td>\n",
       "      <td>194</td>\n",
       "      <td>179</td>\n",
       "      <td>209.0</td>\n",
       "    </tr>\n",
       "  </tbody>\n",
       "</table>\n",
       "</div>"
      ],
      "text/plain": [
       "       emotion_0  emotion_1  emotion_2  emotion_3  emotion_4  emotion_5  emotion_6  emotion_7  emotion_8  emotion_9\n",
       "-1           203        196        209        190        179        202        166        187        185      186.0\n",
       "-2           171        190        181        194        197        196        178        182        185      167.0\n",
       "0          83701      83889      85307      85686      83481      56871      89266      76471      71788        NaN\n",
       "1           8920       8760       7338       6960       9175      35759       3438      16180      20890    92669.0\n",
       "cat          219        190        179        171        192        196        165        192        179      175.0\n",
       "fnord        192        181        192        205        182        182        193        194        179      209.0"
      ]
     },
     "execution_count": 54,
     "metadata": {},
     "output_type": "execute_result"
    }
   ],
   "source": [
    "cols_val_cnts(df_m1[emotions])"
   ]
  },
  {
   "cell_type": "code",
   "execution_count": 55,
   "metadata": {},
   "outputs": [],
   "source": [
    "#removal of emotion_9 column\n",
    "df_m2 = df_m1.drop(columns=[\"emotion_9\"])"
   ]
  },
  {
   "cell_type": "markdown",
   "metadata": {},
   "source": [
    "* The dataset contain values such as \"-1\", \"-2\", \"cat\", and \"fnord\".\n",
    "* All emotion_9 values belong to 1, and has rest NaN values. This column can be dropped as it adds no value to model training"
   ]
  },
  {
   "cell_type": "code",
   "execution_count": 56,
   "metadata": {},
   "outputs": [],
   "source": [
    "#removing rows with \"cat\", \"fnord\", \"-2\", and \"-1\"\n",
    "for col in list(df_m2.columns):\n",
    "    df_m2 = df_m2[df_m2[col] != \"cat\"]\n",
    "    df_m2 = df_m2[df_m2[col] != \"fnord\"]\n",
    "    df_m2 = df_m2[df_m2[col] != \"-2\"]\n",
    "    df_m2 = df_m2[df_m2[col] != \"-1\"]  "
   ]
  },
  {
   "cell_type": "markdown",
   "metadata": {},
   "source": [
    "* As I don't have full details on data acquisition or domain details regarding these data inconsistancies, I'll drop them\n",
    "* As the count of data inconsistancies are not many in the dataset, I'll drop respective rows where these values are present."
   ]
  },
  {
   "cell_type": "code",
   "execution_count": 57,
   "metadata": {},
   "outputs": [
    {
     "name": "stdout",
     "output_type": "stream",
     "text": [
      "Shape of m2 : (84853, 12)\n"
     ]
    }
   ],
   "source": [
    "print(\"Shape of m2 : {}\".format(df_m2.shape))"
   ]
  },
  {
   "cell_type": "markdown",
   "metadata": {},
   "source": [
    "### 2.4 dtype conversion"
   ]
  },
  {
   "cell_type": "code",
   "execution_count": 58,
   "metadata": {},
   "outputs": [
    {
     "data": {
      "text/html": [
       "<div>\n",
       "<style scoped>\n",
       "    .dataframe tbody tr th:only-of-type {\n",
       "        vertical-align: middle;\n",
       "    }\n",
       "\n",
       "    .dataframe tbody tr th {\n",
       "        vertical-align: top;\n",
       "    }\n",
       "\n",
       "    .dataframe thead th {\n",
       "        text-align: right;\n",
       "    }\n",
       "</style>\n",
       "<table border=\"1\" class=\"dataframe\">\n",
       "  <thead>\n",
       "    <tr style=\"text-align: right;\">\n",
       "      <th></th>\n",
       "      <th>emotion_0</th>\n",
       "      <th>emotion_1</th>\n",
       "      <th>emotion_2</th>\n",
       "      <th>emotion_3</th>\n",
       "      <th>emotion_4</th>\n",
       "      <th>emotion_5</th>\n",
       "      <th>emotion_6</th>\n",
       "      <th>emotion_7</th>\n",
       "      <th>emotion_8</th>\n",
       "    </tr>\n",
       "  </thead>\n",
       "  <tbody>\n",
       "    <tr>\n",
       "      <td>0</td>\n",
       "      <td>76639</td>\n",
       "      <td>76857</td>\n",
       "      <td>78134</td>\n",
       "      <td>78476</td>\n",
       "      <td>76450</td>\n",
       "      <td>52150</td>\n",
       "      <td>81684</td>\n",
       "      <td>70041</td>\n",
       "      <td>65703</td>\n",
       "    </tr>\n",
       "    <tr>\n",
       "      <td>1</td>\n",
       "      <td>8214</td>\n",
       "      <td>7996</td>\n",
       "      <td>6719</td>\n",
       "      <td>6377</td>\n",
       "      <td>8403</td>\n",
       "      <td>32703</td>\n",
       "      <td>3169</td>\n",
       "      <td>14812</td>\n",
       "      <td>19150</td>\n",
       "    </tr>\n",
       "  </tbody>\n",
       "</table>\n",
       "</div>"
      ],
      "text/plain": [
       "   emotion_0  emotion_1  emotion_2  emotion_3  emotion_4  emotion_5  emotion_6  emotion_7  emotion_8\n",
       "0      76639      76857      78134      78476      76450      52150      81684      70041      65703\n",
       "1       8214       7996       6719       6377       8403      32703       3169      14812      19150"
      ]
     },
     "execution_count": 58,
     "metadata": {},
     "output_type": "execute_result"
    }
   ],
   "source": [
    "#iterating over columns to convert object type into float type then to int\n",
    "for col in emotions[0:-1]:\n",
    "    df_m2[col] = df_m2[col].astype(float).astype(int)\n",
    "    \n",
    "cols_val_cnts(df_m2[emotions[0:-1]])"
   ]
  },
  {
   "cell_type": "markdown",
   "metadata": {},
   "source": [
    "### 2.5 sum of emotion columns"
   ]
  },
  {
   "cell_type": "code",
   "execution_count": 59,
   "metadata": {},
   "outputs": [],
   "source": [
    "# getting summation of each emotion columns and populating it into a new column called \"sum\"\n",
    "df_m2[\"sum\"] = df_m2[emotions[0:-1]].sum(axis=1)\n",
    "#sorting dataframe with sum column\n",
    "df_m2 = df_m2.sort_values(by='sum', ascending = True)#low sum first"
   ]
  },
  {
   "cell_type": "markdown",
   "metadata": {},
   "source": [
    "### 2.6 Drop Duplicates by entire row"
   ]
  },
  {
   "cell_type": "code",
   "execution_count": 60,
   "metadata": {},
   "outputs": [],
   "source": [
    "#adding a new column to fetch the duplicate count of each row\n",
    "df_m2[\"duplicate_count\"] = [0 for i in range(0,df_m2.shape[0])]\n",
    "#using groupby method to count the duplicate columns\n",
    "duplicate_df = df_m2.groupby(list(df_m2.columns)[0:-1]).agg(\"count\").reset_index()\n",
    "#dropping the column duplicate_count from the parent dataframe\n",
    "df_m2 = df_m2.drop(columns = [\"duplicate_count\"])"
   ]
  },
  {
   "cell_type": "code",
   "execution_count": 61,
   "metadata": {},
   "outputs": [
    {
     "data": {
      "text/plain": [
       "1    84791\n",
       "2       31\n",
       "Name: duplicate_count, dtype: int64"
      ]
     },
     "execution_count": 61,
     "metadata": {},
     "output_type": "execute_result"
    }
   ],
   "source": [
    "#getting duplicate value count for each column\n",
    "duplicate_df[\"duplicate_count\"].value_counts()"
   ]
  },
  {
   "cell_type": "code",
   "execution_count": 62,
   "metadata": {
    "scrolled": true
   },
   "outputs": [
    {
     "data": {
      "text/html": [
       "<div>\n",
       "<style scoped>\n",
       "    .dataframe tbody tr th:only-of-type {\n",
       "        vertical-align: middle;\n",
       "    }\n",
       "\n",
       "    .dataframe tbody tr th {\n",
       "        vertical-align: top;\n",
       "    }\n",
       "\n",
       "    .dataframe thead th {\n",
       "        text-align: right;\n",
       "    }\n",
       "</style>\n",
       "<table border=\"1\" class=\"dataframe\">\n",
       "  <thead>\n",
       "    <tr style=\"text-align: right;\">\n",
       "      <th></th>\n",
       "      <th>emotion_0</th>\n",
       "      <th>emotion_1</th>\n",
       "      <th>emotion_2</th>\n",
       "      <th>emotion_3</th>\n",
       "      <th>emotion_4</th>\n",
       "      <th>emotion_5</th>\n",
       "      <th>emotion_6</th>\n",
       "      <th>emotion_7</th>\n",
       "      <th>emotion_8</th>\n",
       "      <th>headline</th>\n",
       "      <th>summary</th>\n",
       "      <th>worker_id</th>\n",
       "      <th>sum</th>\n",
       "      <th>duplicate_count</th>\n",
       "    </tr>\n",
       "  </thead>\n",
       "  <tbody>\n",
       "    <tr>\n",
       "      <td>65</td>\n",
       "      <td>0</td>\n",
       "      <td>0</td>\n",
       "      <td>0</td>\n",
       "      <td>0</td>\n",
       "      <td>0</td>\n",
       "      <td>0</td>\n",
       "      <td>0</td>\n",
       "      <td>0</td>\n",
       "      <td>1</td>\n",
       "      <td>10 New Books We Recommend This Week</td>\n",
       "      <td>Suggested reading from critics and editors at ...</td>\n",
       "      <td>82710287</td>\n",
       "      <td>1</td>\n",
       "      <td>2</td>\n",
       "    </tr>\n",
       "    <tr>\n",
       "      <td>3225</td>\n",
       "      <td>0</td>\n",
       "      <td>0</td>\n",
       "      <td>0</td>\n",
       "      <td>0</td>\n",
       "      <td>0</td>\n",
       "      <td>0</td>\n",
       "      <td>0</td>\n",
       "      <td>0</td>\n",
       "      <td>1</td>\n",
       "      <td>Catalonia’s Independence Bid Shows Signs of St...</td>\n",
       "      <td>Demonstrators held a general strike in the res...</td>\n",
       "      <td>18956295</td>\n",
       "      <td>1</td>\n",
       "      <td>2</td>\n",
       "    </tr>\n",
       "  </tbody>\n",
       "</table>\n",
       "</div>"
      ],
      "text/plain": [
       "      emotion_0  emotion_1  emotion_2  emotion_3  emotion_4  emotion_5  emotion_6  emotion_7  emotion_8                                           headline                                            summary worker_id  sum  duplicate_count\n",
       "65            0          0          0          0          0          0          0          0          1                10 New Books We Recommend This Week  Suggested reading from critics and editors at ...  82710287    1                2\n",
       "3225          0          0          0          0          0          0          0          0          1  Catalonia’s Independence Bid Shows Signs of St...  Demonstrators held a general strike in the res...  18956295    1                2"
      ]
     },
     "execution_count": 62,
     "metadata": {},
     "output_type": "execute_result"
    }
   ],
   "source": [
    "duplicate_df[duplicate_df[\"duplicate_count\"] == 2].head(2)"
   ]
  },
  {
   "cell_type": "markdown",
   "metadata": {},
   "source": [
    "* From the entire df, we can see that 31 rows are repeated twice- identical\n",
    "* This is not looking at the texts only, but text+emotion or all columns rowise"
   ]
  },
  {
   "cell_type": "code",
   "execution_count": 63,
   "metadata": {},
   "outputs": [],
   "source": [
    "#dopping all duplicate rows\n",
    "df_m3 = df_m2.drop_duplicates(subset=None, keep=\"first\", inplace=False)#keeping the first unique row"
   ]
  },
  {
   "cell_type": "code",
   "execution_count": 64,
   "metadata": {},
   "outputs": [
    {
     "name": "stdout",
     "output_type": "stream",
     "text": [
      "Shape of m3 : (84822, 13)\n"
     ]
    }
   ],
   "source": [
    "print(\"Shape of m3 : {}\".format(df_m3.shape))"
   ]
  },
  {
   "cell_type": "code",
   "execution_count": 65,
   "metadata": {},
   "outputs": [
    {
     "data": {
      "text/plain": [
       "1    67197\n",
       "2    13329\n",
       "3     3584\n",
       "4      661\n",
       "5       43\n",
       "6        6\n",
       "7        1\n",
       "0        1\n",
       "Name: sum, dtype: int64"
      ]
     },
     "execution_count": 65,
     "metadata": {},
     "output_type": "execute_result"
    }
   ],
   "source": [
    "df_m3['sum'].value_counts()"
   ]
  },
  {
   "cell_type": "markdown",
   "metadata": {},
   "source": [
    "*  here we can see that there are many rows with emotions > one label"
   ]
  },
  {
   "cell_type": "markdown",
   "metadata": {},
   "source": [
    "### 2.7 Handling duplicate texts"
   ]
  },
  {
   "cell_type": "code",
   "execution_count": 66,
   "metadata": {},
   "outputs": [],
   "source": [
    "#column mapping\n",
    "data_dict = {\"emotion_0\":\"sum\", \"emotion_1\":\"sum\", \"emotion_2\":\"sum\",\"emotion_3\":\"sum\",\n",
    "             \"emotion_4\":\"sum\", \"emotion_5\":\"sum\",\"emotion_6\":\"sum\", \"emotion_7\":\"sum\",\n",
    "             \"emotion_8\":\"sum\"}\n",
    "#getting total repetition column wise\n",
    "df_m4 = df_m3.groupby(['headline','summary'], as_index = False).agg(data_dict)"
   ]
  },
  {
   "cell_type": "code",
   "execution_count": 67,
   "metadata": {},
   "outputs": [
    {
     "data": {
      "text/html": [
       "<div>\n",
       "<style scoped>\n",
       "    .dataframe tbody tr th:only-of-type {\n",
       "        vertical-align: middle;\n",
       "    }\n",
       "\n",
       "    .dataframe tbody tr th {\n",
       "        vertical-align: top;\n",
       "    }\n",
       "\n",
       "    .dataframe thead th {\n",
       "        text-align: right;\n",
       "    }\n",
       "</style>\n",
       "<table border=\"1\" class=\"dataframe\">\n",
       "  <thead>\n",
       "    <tr style=\"text-align: right;\">\n",
       "      <th></th>\n",
       "      <th>headline</th>\n",
       "      <th>summary</th>\n",
       "      <th>emotion_0</th>\n",
       "      <th>emotion_1</th>\n",
       "      <th>emotion_2</th>\n",
       "      <th>emotion_3</th>\n",
       "      <th>emotion_4</th>\n",
       "      <th>emotion_5</th>\n",
       "      <th>emotion_6</th>\n",
       "      <th>emotion_7</th>\n",
       "      <th>emotion_8</th>\n",
       "    </tr>\n",
       "  </thead>\n",
       "  <tbody>\n",
       "    <tr>\n",
       "      <td>0</td>\n",
       "      <td>#MeToo Floods Social Media With Stories of Har...</td>\n",
       "      <td>Many women, as well as men, are using the hash...</td>\n",
       "      <td>0</td>\n",
       "      <td>0</td>\n",
       "      <td>0</td>\n",
       "      <td>1</td>\n",
       "      <td>4</td>\n",
       "      <td>2</td>\n",
       "      <td>0</td>\n",
       "      <td>7</td>\n",
       "      <td>2</td>\n",
       "    </tr>\n",
       "    <tr>\n",
       "      <td>1</td>\n",
       "      <td>$1.3 Million Homes in Oregon, Michigan and Cal...</td>\n",
       "      <td>A Dwell-style home in Portland; a 1929 Tudor h...</td>\n",
       "      <td>1</td>\n",
       "      <td>0</td>\n",
       "      <td>0</td>\n",
       "      <td>0</td>\n",
       "      <td>1</td>\n",
       "      <td>3</td>\n",
       "      <td>0</td>\n",
       "      <td>0</td>\n",
       "      <td>5</td>\n",
       "    </tr>\n",
       "  </tbody>\n",
       "</table>\n",
       "</div>"
      ],
      "text/plain": [
       "                                            headline                                            summary  emotion_0  emotion_1  emotion_2  emotion_3  emotion_4  emotion_5  emotion_6  emotion_7  emotion_8\n",
       "0  #MeToo Floods Social Media With Stories of Har...  Many women, as well as men, are using the hash...          0          0          0          1          4          2          0          7          2\n",
       "1  $1.3 Million Homes in Oregon, Michigan and Cal...  A Dwell-style home in Portland; a 1929 Tudor h...          1          0          0          0          1          3          0          0          5"
      ]
     },
     "execution_count": 67,
     "metadata": {},
     "output_type": "execute_result"
    }
   ],
   "source": [
    "df_m4.head(2)"
   ]
  },
  {
   "cell_type": "markdown",
   "metadata": {},
   "source": [
    "I am adding each duplicate row's emotion labels and adding them one by one- For example, if emotion_5=3, then the duplicated texts = emotion_5=1 *3 "
   ]
  },
  {
   "cell_type": "code",
   "execution_count": 68,
   "metadata": {},
   "outputs": [
    {
     "name": "stdout",
     "output_type": "stream",
     "text": [
      "Shape of m4 : (9343, 11)\n"
     ]
    }
   ],
   "source": [
    "print(\"Shape of m4 : {}\".format(df_m4.shape))"
   ]
  },
  {
   "cell_type": "code",
   "execution_count": 69,
   "metadata": {},
   "outputs": [
    {
     "name": "stdout",
     "output_type": "stream",
     "text": [
      "---- headline ---\n",
      "Homes for Sale in New York City                                             21\n",
      "What to Cook This Weekend                                                   19\n",
      "Homes for Sale in New York and New Jersey                                   10\n",
      "Homes for Sale in New York and Connecticut                                   9\n",
      "What to Cook This Week                                                       8\n",
      "                                                                            ..\n",
      "The Best and Worst of the Golden Globes                                      1\n",
      "Where Tourism Thrives in Mexico, Bloodshed and Poverty Are Blocks Away       1\n",
      "Terrorizing if Not Clearly Terrorist: What to Call the Las Vegas Attack?     1\n",
      "Brett Ratner, Prominent Producer, Accused of Sexual Misconduct               1\n",
      "New Zealand’s Election Had Been Predictable. Then ‘Jacindamania’ Hit.        1\n",
      "Name: headline, Length: 9261, dtype: int64\n",
      "---- summary ---\n",
      "Here’s what you need to know to start your day.                                                                                                               82\n",
      "Here’s what you need to know at the end of the day.                                                                                                           32\n",
      "Welcome to the latest edition of the Smarter Living newsletter.                                                                                               12\n",
      "Here’s what you need to know about the week’s top stories.                                                                                                    10\n",
      "Recent residential sales in New York City and the region.                                                                                                      9\n",
      "                                                                                                                                                              ..\n",
      "Riders only lose when the mayor and governor place responsibility with each other.                                                                             1\n",
      "Kim Jong-un’s outreach gave President Moon Jae-in a long-awaited chance to open a dialogue, but a true thaw in relations could prove elusive.                  1\n",
      "A Facebook group said little beyond that clowns planned to appear late at night, but news coverage breathlessly described the group as “a chilling threat”     1\n",
      "The Times’s Sports editor explains the selection process for the visuals showing the bodies of climbers who died near the summit.                              1\n",
      "Behind the scenes with President Trump as he tried and failed to make a surprise visit to one of the world’s most dangerous borders.                           1\n",
      "Name: summary, Length: 9191, dtype: int64\n",
      "---- emotion_0 ---\n",
      "0     4428\n",
      "1     2759\n",
      "2     1369\n",
      "3      551\n",
      "4      160\n",
      "5       52\n",
      "6       16\n",
      "7        5\n",
      "13       1\n",
      "10       1\n",
      "8        1\n",
      "Name: emotion_0, dtype: int64\n",
      "---- emotion_1 ---\n",
      "0     5586\n",
      "1     1784\n",
      "2      873\n",
      "3      500\n",
      "4      296\n",
      "5      158\n",
      "6       83\n",
      "7       39\n",
      "8       11\n",
      "9        6\n",
      "10       3\n",
      "11       2\n",
      "13       1\n",
      "12       1\n",
      "Name: emotion_1, dtype: int64\n",
      "---- emotion_2 ---\n",
      "0     5627\n",
      "1     2040\n",
      "2      916\n",
      "3      420\n",
      "4      203\n",
      "5       83\n",
      "6       38\n",
      "7        9\n",
      "8        5\n",
      "18       1\n",
      "10       1\n",
      "Name: emotion_2, dtype: int64\n",
      "---- emotion_3 ---\n",
      "0     5989\n",
      "1     1741\n",
      "2      832\n",
      "3      420\n",
      "4      208\n",
      "5       88\n",
      "6       38\n",
      "7       18\n",
      "8        5\n",
      "13       1\n",
      "11       1\n",
      "10       1\n",
      "9        1\n",
      "Name: emotion_3, dtype: int64\n",
      "---- emotion_4 ---\n",
      "0     4804\n",
      "1     2539\n",
      "2     1023\n",
      "3      498\n",
      "4      241\n",
      "5      129\n",
      "6       66\n",
      "7       30\n",
      "8        9\n",
      "9        3\n",
      "10       1\n",
      "Name: emotion_4, dtype: int64\n",
      "---- emotion_5 ---\n",
      "3     1796\n",
      "2     1668\n",
      "4     1651\n",
      "5     1187\n",
      "1     1117\n",
      "6      789\n",
      "0      436\n",
      "7      395\n",
      "8      194\n",
      "9       54\n",
      "10      18\n",
      "11      11\n",
      "13       7\n",
      "12       6\n",
      "15       4\n",
      "20       2\n",
      "14       2\n",
      "16       2\n",
      "68       1\n",
      "23       1\n",
      "18       1\n",
      "39       1\n",
      "Name: emotion_5, dtype: int64\n",
      "---- emotion_6 ---\n",
      "0    7197\n",
      "1    1506\n",
      "2     394\n",
      "3     149\n",
      "4      66\n",
      "5      23\n",
      "6       7\n",
      "7       1\n",
      "Name: emotion_6, dtype: int64\n",
      "---- emotion_7 ---\n",
      "0     4300\n",
      "1     1765\n",
      "2     1031\n",
      "3      693\n",
      "4      470\n",
      "5      389\n",
      "6      255\n",
      "7      182\n",
      "8      143\n",
      "9       72\n",
      "10      26\n",
      "11       7\n",
      "16       4\n",
      "14       3\n",
      "13       2\n",
      "12       1\n",
      "Name: emotion_7, dtype: int64\n",
      "---- emotion_8 ---\n",
      "1     2369\n",
      "2     2114\n",
      "0     1647\n",
      "3     1565\n",
      "4      914\n",
      "5      410\n",
      "6      218\n",
      "7       73\n",
      "8       14\n",
      "9        8\n",
      "10       3\n",
      "11       2\n",
      "14       2\n",
      "13       1\n",
      "17       1\n",
      "16       1\n",
      "15       1\n",
      "Name: emotion_8, dtype: int64\n"
     ]
    }
   ],
   "source": [
    "#iterating over columns for value counts\n",
    "for i in df_m4.columns:\n",
    "    print (\"---- %s ---\" % i)\n",
    "    print (df_m4[i].value_counts())"
   ]
  },
  {
   "cell_type": "markdown",
   "metadata": {},
   "source": [
    "With the redundancies seen, we can now map them to binary 0,1 emotions"
   ]
  },
  {
   "cell_type": "markdown",
   "metadata": {},
   "source": [
    "### 2.8 mapping the output emotions to binary values"
   ]
  },
  {
   "cell_type": "code",
   "execution_count": 70,
   "metadata": {},
   "outputs": [
    {
     "data": {
      "text/plain": [
       "['emotion_0',\n",
       " 'emotion_1',\n",
       " 'emotion_2',\n",
       " 'emotion_3',\n",
       " 'emotion_4',\n",
       " 'emotion_5',\n",
       " 'emotion_6',\n",
       " 'emotion_7',\n",
       " 'emotion_8',\n",
       " 'emotion_9']"
      ]
     },
     "execution_count": 70,
     "metadata": {},
     "output_type": "execute_result"
    }
   ],
   "source": [
    "emotions"
   ]
  },
  {
   "cell_type": "code",
   "execution_count": 71,
   "metadata": {},
   "outputs": [],
   "source": [
    "#mapping highest values to 1 and making it binary\n",
    "val_dict = {0:0, 1:1, 2:1, 3:1, 4:1, 5:1, 6:1, 7:1, 8:1, 9:1, 10:1, 11:1, 12:1, 13:1, 14:1, 15:1, 16:1, 17:1, 18:1, 19:1, 20:1,\n",
    "           23:1, 39:1, 68:1}\n",
    "#iterating over columns to map higher values to binary\n",
    "for col in emotions[0:-1]:\n",
    "#     df_m4 = df_m4.replace({col : val_dict})\n",
    "    df_m4[col] = df_m4[col].map(val_dict)"
   ]
  },
  {
   "cell_type": "code",
   "execution_count": 72,
   "metadata": {
    "scrolled": true
   },
   "outputs": [
    {
     "data": {
      "text/html": [
       "<div>\n",
       "<style scoped>\n",
       "    .dataframe tbody tr th:only-of-type {\n",
       "        vertical-align: middle;\n",
       "    }\n",
       "\n",
       "    .dataframe tbody tr th {\n",
       "        vertical-align: top;\n",
       "    }\n",
       "\n",
       "    .dataframe thead th {\n",
       "        text-align: right;\n",
       "    }\n",
       "</style>\n",
       "<table border=\"1\" class=\"dataframe\">\n",
       "  <thead>\n",
       "    <tr style=\"text-align: right;\">\n",
       "      <th></th>\n",
       "      <th>headline</th>\n",
       "      <th>summary</th>\n",
       "      <th>emotion_0</th>\n",
       "      <th>emotion_1</th>\n",
       "      <th>emotion_2</th>\n",
       "      <th>emotion_3</th>\n",
       "      <th>emotion_4</th>\n",
       "      <th>emotion_5</th>\n",
       "      <th>emotion_6</th>\n",
       "      <th>emotion_7</th>\n",
       "      <th>emotion_8</th>\n",
       "    </tr>\n",
       "  </thead>\n",
       "  <tbody>\n",
       "    <tr>\n",
       "      <td>0</td>\n",
       "      <td>#MeToo Floods Social Media With Stories of Har...</td>\n",
       "      <td>Many women, as well as men, are using the hash...</td>\n",
       "      <td>0</td>\n",
       "      <td>0</td>\n",
       "      <td>0</td>\n",
       "      <td>1</td>\n",
       "      <td>1</td>\n",
       "      <td>1</td>\n",
       "      <td>0</td>\n",
       "      <td>1</td>\n",
       "      <td>1</td>\n",
       "    </tr>\n",
       "    <tr>\n",
       "      <td>1</td>\n",
       "      <td>$1.3 Million Homes in Oregon, Michigan and Cal...</td>\n",
       "      <td>A Dwell-style home in Portland; a 1929 Tudor h...</td>\n",
       "      <td>1</td>\n",
       "      <td>0</td>\n",
       "      <td>0</td>\n",
       "      <td>0</td>\n",
       "      <td>1</td>\n",
       "      <td>1</td>\n",
       "      <td>0</td>\n",
       "      <td>0</td>\n",
       "      <td>1</td>\n",
       "    </tr>\n",
       "  </tbody>\n",
       "</table>\n",
       "</div>"
      ],
      "text/plain": [
       "                                            headline                                            summary  emotion_0  emotion_1  emotion_2  emotion_3  emotion_4  emotion_5  emotion_6  emotion_7  emotion_8\n",
       "0  #MeToo Floods Social Media With Stories of Har...  Many women, as well as men, are using the hash...          0          0          0          1          1          1          0          1          1\n",
       "1  $1.3 Million Homes in Oregon, Michigan and Cal...  A Dwell-style home in Portland; a 1929 Tudor h...          1          0          0          0          1          1          0          0          1"
      ]
     },
     "execution_count": 72,
     "metadata": {},
     "output_type": "execute_result"
    }
   ],
   "source": [
    "df_m4.head(2)"
   ]
  },
  {
   "cell_type": "markdown",
   "metadata": {},
   "source": [
    "### 2.9  sum of emotion columns"
   ]
  },
  {
   "cell_type": "code",
   "execution_count": 73,
   "metadata": {},
   "outputs": [],
   "source": [
    "# getting summation of each emotion columns and making it to a new column called sum\n",
    "df_m4[\"sum\"] = df_m4[emotions[0:-1]].sum(axis=1)"
   ]
  },
  {
   "cell_type": "code",
   "execution_count": 74,
   "metadata": {},
   "outputs": [
    {
     "data": {
      "text/plain": [
       "1      10\n",
       "2     229\n",
       "3    1310\n",
       "4    2579\n",
       "5    2786\n",
       "6    1751\n",
       "7     521\n",
       "8     137\n",
       "9      20\n",
       "Name: sum, dtype: int64"
      ]
     },
     "execution_count": 74,
     "metadata": {},
     "output_type": "execute_result"
    }
   ],
   "source": [
    "df_m4[\"sum\"].value_counts().sort_index()"
   ]
  },
  {
   "cell_type": "code",
   "execution_count": null,
   "metadata": {},
   "outputs": [],
   "source": []
  },
  {
   "cell_type": "code",
   "execution_count": 89,
   "metadata": {},
   "outputs": [
    {
     "data": {
      "image/png": "[encoded data removed]",
      "text/plain": [
       "<Figure size 576x432 with 1 Axes>"
      ]
     },
     "metadata": {},
     "output_type": "display_data"
    }
   ],
   "source": [
    "#plot the repetation\n",
    "df_m4[\"sum\"].value_counts().sort_index().plot(kind=\"bar\")\n",
    "plt.show()"
   ]
  },
  {
   "cell_type": "markdown",
   "metadata": {},
   "source": [
    "### 2.10 getting final dataset after data cleaning"
   ]
  },
  {
   "cell_type": "code",
   "execution_count": 90,
   "metadata": {},
   "outputs": [
    {
     "data": {
      "text/html": [
       "<div>\n",
       "<style scoped>\n",
       "    .dataframe tbody tr th:only-of-type {\n",
       "        vertical-align: middle;\n",
       "    }\n",
       "\n",
       "    .dataframe tbody tr th {\n",
       "        vertical-align: top;\n",
       "    }\n",
       "\n",
       "    .dataframe thead th {\n",
       "        text-align: right;\n",
       "    }\n",
       "</style>\n",
       "<table border=\"1\" class=\"dataframe\">\n",
       "  <thead>\n",
       "    <tr style=\"text-align: right;\">\n",
       "      <th></th>\n",
       "      <th>headline</th>\n",
       "      <th>summary</th>\n",
       "      <th>emotion_0</th>\n",
       "      <th>emotion_1</th>\n",
       "      <th>emotion_2</th>\n",
       "      <th>emotion_3</th>\n",
       "      <th>emotion_4</th>\n",
       "      <th>emotion_5</th>\n",
       "      <th>emotion_6</th>\n",
       "      <th>emotion_7</th>\n",
       "      <th>emotion_8</th>\n",
       "      <th>sum</th>\n",
       "      <th>text</th>\n",
       "    </tr>\n",
       "  </thead>\n",
       "  <tbody>\n",
       "    <tr>\n",
       "      <td>0</td>\n",
       "      <td>#MeToo Floods Social Media With Stories of Har...</td>\n",
       "      <td>Many women, as well as men, are using the hash...</td>\n",
       "      <td>0</td>\n",
       "      <td>0</td>\n",
       "      <td>0</td>\n",
       "      <td>1</td>\n",
       "      <td>1</td>\n",
       "      <td>1</td>\n",
       "      <td>0</td>\n",
       "      <td>1</td>\n",
       "      <td>1</td>\n",
       "      <td>5</td>\n",
       "      <td>#MeToo Floods Social Media With Stories of Har...</td>\n",
       "    </tr>\n",
       "    <tr>\n",
       "      <td>1</td>\n",
       "      <td>$1.3 Million Homes in Oregon, Michigan and Cal...</td>\n",
       "      <td>A Dwell-style home in Portland; a 1929 Tudor h...</td>\n",
       "      <td>1</td>\n",
       "      <td>0</td>\n",
       "      <td>0</td>\n",
       "      <td>0</td>\n",
       "      <td>1</td>\n",
       "      <td>1</td>\n",
       "      <td>0</td>\n",
       "      <td>0</td>\n",
       "      <td>1</td>\n",
       "      <td>4</td>\n",
       "      <td>$1.3 Million Homes in Oregon, Michigan and Cal...</td>\n",
       "    </tr>\n",
       "  </tbody>\n",
       "</table>\n",
       "</div>"
      ],
      "text/plain": [
       "                                            headline                                            summary  emotion_0  emotion_1  emotion_2  emotion_3  emotion_4  emotion_5  emotion_6  emotion_7  emotion_8  sum                                               text\n",
       "0  #MeToo Floods Social Media With Stories of Har...  Many women, as well as men, are using the hash...          0          0          0          1          1          1          0          1          1    5  #MeToo Floods Social Media With Stories of Har...\n",
       "1  $1.3 Million Homes in Oregon, Michigan and Cal...  A Dwell-style home in Portland; a 1929 Tudor h...          1          0          0          0          1          1          0          0          1    4  $1.3 Million Homes in Oregon, Michigan and Cal..."
      ]
     },
     "execution_count": 90,
     "metadata": {},
     "output_type": "execute_result"
    }
   ],
   "source": [
    "df_m5 = df_m4\n",
    "#creating only text feature by adding headline and summary row-wise\n",
    "df_m5[\"text\"] = df_m4[\"headline\"] + \". \" + df_m4[\"summary\"]\n",
    "#view\n",
    "df_m5.head(2)"
   ]
  },
  {
   "cell_type": "code",
   "execution_count": 91,
   "metadata": {},
   "outputs": [
    {
     "data": {
      "text/plain": [
       "1      10\n",
       "9      20\n",
       "8     137\n",
       "2     229\n",
       "7     521\n",
       "3    1310\n",
       "6    1751\n",
       "4    2579\n",
       "5    2786\n",
       "Name: sum, dtype: int64"
      ]
     },
     "execution_count": 91,
     "metadata": {},
     "output_type": "execute_result"
    }
   ],
   "source": [
    "df_m5['sum'].value_counts(ascending=True)"
   ]
  },
  {
   "cell_type": "markdown",
   "metadata": {},
   "source": [
    "There are 20 instances with all 9 emotions- difficult without domain understanding whether to drop or not"
   ]
  },
  {
   "cell_type": "code",
   "execution_count": 92,
   "metadata": {},
   "outputs": [
    {
     "name": "stdout",
     "output_type": "stream",
     "text": [
      "Shape of m5 : (9343, 13)\n"
     ]
    }
   ],
   "source": [
    "print(\"Shape of m5 : {}\".format(df_m5.shape))"
   ]
  },
  {
   "cell_type": "code",
   "execution_count": 93,
   "metadata": {},
   "outputs": [],
   "source": [
    "final_df=df_m5"
   ]
  },
  {
   "cell_type": "code",
   "execution_count": 94,
   "metadata": {},
   "outputs": [
    {
     "data": {
      "text/html": [
       "<div>\n",
       "<style scoped>\n",
       "    .dataframe tbody tr th:only-of-type {\n",
       "        vertical-align: middle;\n",
       "    }\n",
       "\n",
       "    .dataframe tbody tr th {\n",
       "        vertical-align: top;\n",
       "    }\n",
       "\n",
       "    .dataframe thead th {\n",
       "        text-align: right;\n",
       "    }\n",
       "</style>\n",
       "<table border=\"1\" class=\"dataframe\">\n",
       "  <thead>\n",
       "    <tr style=\"text-align: right;\">\n",
       "      <th></th>\n",
       "      <th>headline</th>\n",
       "      <th>summary</th>\n",
       "      <th>emotion_0</th>\n",
       "      <th>emotion_1</th>\n",
       "      <th>emotion_2</th>\n",
       "      <th>emotion_3</th>\n",
       "      <th>emotion_4</th>\n",
       "      <th>emotion_5</th>\n",
       "      <th>emotion_6</th>\n",
       "      <th>emotion_7</th>\n",
       "      <th>emotion_8</th>\n",
       "      <th>sum</th>\n",
       "      <th>text</th>\n",
       "    </tr>\n",
       "  </thead>\n",
       "  <tbody>\n",
       "  </tbody>\n",
       "</table>\n",
       "</div>"
      ],
      "text/plain": [
       "Empty DataFrame\n",
       "Columns: [headline, summary, emotion_0, emotion_1, emotion_2, emotion_3, emotion_4, emotion_5, emotion_6, emotion_7, emotion_8, sum, text]\n",
       "Index: []"
      ]
     },
     "execution_count": 94,
     "metadata": {},
     "output_type": "execute_result"
    }
   ],
   "source": [
    "#final check of duplicated text\n",
    "duplicate_check = final_df[final_df.duplicated(['text'])]\n",
    "duplicate_check"
   ]
  },
  {
   "cell_type": "markdown",
   "metadata": {},
   "source": [
    "# 3.0  Exploration of text anamolies"
   ]
  },
  {
   "cell_type": "code",
   "execution_count": 95,
   "metadata": {},
   "outputs": [
    {
     "name": "stdout",
     "output_type": "stream",
     "text": [
      "\n",
      "Minimum length of the text: 35\n",
      "\n",
      "Maximum length of the text: 342\n",
      "\n",
      "Mean length of the text: 188\n"
     ]
    }
   ],
   "source": [
    "# printing min, max and mean of text length \n",
    "text_len = final_df.text.apply(lambda x: len(x))\n",
    "\n",
    "print('\\nMinimum length of the text:', text_len.min())\n",
    "print('\\nMaximum length of the text:', text_len.max())\n",
    "print('\\nMean length of the text:', int(text_len.mean()))"
   ]
  },
  {
   "cell_type": "code",
   "execution_count": 96,
   "metadata": {},
   "outputs": [
    {
     "name": "stdout",
     "output_type": "stream",
     "text": [
      "High School Students Explain Why They Protest Anthems and Pledges. Colin Kaepernick’s decision to sit or take a knee during the national anthem exploded into a national conversation about race. Here, high school students tell us why they sit or kneel during the national anthem or the Pledge of Allegiance — or why they stand and participate.\n"
     ]
    }
   ],
   "source": [
    "#print max text\n",
    "text_length = final_df.text.astype(str).map(len)\n",
    "print (final_df.loc[text_length.argmax(), 'text'])"
   ]
  },
  {
   "cell_type": "code",
   "execution_count": 97,
   "metadata": {},
   "outputs": [
    {
     "name": "stdout",
     "output_type": "stream",
     "text": [
      "Harvey, Part II. A new state motto?\n"
     ]
    }
   ],
   "source": [
    "#print min text\n",
    "print (final_df.loc[text_length.argmin(), 'text'])"
   ]
  },
  {
   "cell_type": "code",
   "execution_count": 98,
   "metadata": {},
   "outputs": [
    {
     "data": {
      "text/html": [
       "<div>\n",
       "<style scoped>\n",
       "    .dataframe tbody tr th:only-of-type {\n",
       "        vertical-align: middle;\n",
       "    }\n",
       "\n",
       "    .dataframe tbody tr th {\n",
       "        vertical-align: top;\n",
       "    }\n",
       "\n",
       "    .dataframe thead th {\n",
       "        text-align: right;\n",
       "    }\n",
       "</style>\n",
       "<table border=\"1\" class=\"dataframe\">\n",
       "  <thead>\n",
       "    <tr style=\"text-align: right;\">\n",
       "      <th></th>\n",
       "      <th>headline</th>\n",
       "      <th>summary</th>\n",
       "      <th>emotion_0</th>\n",
       "      <th>emotion_1</th>\n",
       "      <th>emotion_2</th>\n",
       "      <th>emotion_3</th>\n",
       "      <th>emotion_4</th>\n",
       "      <th>emotion_5</th>\n",
       "      <th>emotion_6</th>\n",
       "      <th>emotion_7</th>\n",
       "      <th>emotion_8</th>\n",
       "      <th>sum</th>\n",
       "      <th>text</th>\n",
       "      <th>lentext</th>\n",
       "    </tr>\n",
       "  </thead>\n",
       "  <tbody>\n",
       "    <tr>\n",
       "      <td>2991</td>\n",
       "      <td>Harvey, Part II</td>\n",
       "      <td>A new state motto?</td>\n",
       "      <td>1</td>\n",
       "      <td>0</td>\n",
       "      <td>0</td>\n",
       "      <td>0</td>\n",
       "      <td>1</td>\n",
       "      <td>1</td>\n",
       "      <td>0</td>\n",
       "      <td>1</td>\n",
       "      <td>1</td>\n",
       "      <td>5</td>\n",
       "      <td>Harvey, Part II. A new state motto?</td>\n",
       "      <td>35</td>\n",
       "    </tr>\n",
       "    <tr>\n",
       "      <td>5380</td>\n",
       "      <td>On Net Neutrality</td>\n",
       "      <td>Ctrl + Alt + Del.</td>\n",
       "      <td>0</td>\n",
       "      <td>1</td>\n",
       "      <td>0</td>\n",
       "      <td>0</td>\n",
       "      <td>0</td>\n",
       "      <td>1</td>\n",
       "      <td>0</td>\n",
       "      <td>1</td>\n",
       "      <td>1</td>\n",
       "      <td>4</td>\n",
       "      <td>On Net Neutrality. Ctrl + Alt + Del.</td>\n",
       "      <td>36</td>\n",
       "    </tr>\n",
       "    <tr>\n",
       "      <td>6537</td>\n",
       "      <td>Shell Game</td>\n",
       "      <td>David Steinberg fools us.</td>\n",
       "      <td>0</td>\n",
       "      <td>1</td>\n",
       "      <td>0</td>\n",
       "      <td>0</td>\n",
       "      <td>0</td>\n",
       "      <td>1</td>\n",
       "      <td>0</td>\n",
       "      <td>0</td>\n",
       "      <td>1</td>\n",
       "      <td>3</td>\n",
       "      <td>Shell Game. David Steinberg fools us.</td>\n",
       "      <td>37</td>\n",
       "    </tr>\n",
       "    <tr>\n",
       "      <td>5401</td>\n",
       "      <td>On the Paradise Papers</td>\n",
       "      <td>Abandon ship.</td>\n",
       "      <td>1</td>\n",
       "      <td>1</td>\n",
       "      <td>1</td>\n",
       "      <td>0</td>\n",
       "      <td>1</td>\n",
       "      <td>1</td>\n",
       "      <td>0</td>\n",
       "      <td>1</td>\n",
       "      <td>1</td>\n",
       "      <td>7</td>\n",
       "      <td>On the Paradise Papers. Abandon ship.</td>\n",
       "      <td>37</td>\n",
       "    </tr>\n",
       "    <tr>\n",
       "      <td>1796</td>\n",
       "      <td>Compromise</td>\n",
       "      <td>Peter Collins likes his medium.</td>\n",
       "      <td>0</td>\n",
       "      <td>0</td>\n",
       "      <td>0</td>\n",
       "      <td>0</td>\n",
       "      <td>0</td>\n",
       "      <td>1</td>\n",
       "      <td>1</td>\n",
       "      <td>0</td>\n",
       "      <td>1</td>\n",
       "      <td>3</td>\n",
       "      <td>Compromise. Peter Collins likes his medium.</td>\n",
       "      <td>43</td>\n",
       "    </tr>\n",
       "    <tr>\n",
       "      <td>...</td>\n",
       "      <td>...</td>\n",
       "      <td>...</td>\n",
       "      <td>...</td>\n",
       "      <td>...</td>\n",
       "      <td>...</td>\n",
       "      <td>...</td>\n",
       "      <td>...</td>\n",
       "      <td>...</td>\n",
       "      <td>...</td>\n",
       "      <td>...</td>\n",
       "      <td>...</td>\n",
       "      <td>...</td>\n",
       "      <td>...</td>\n",
       "      <td>...</td>\n",
       "    </tr>\n",
       "    <tr>\n",
       "      <td>4550</td>\n",
       "      <td>M.L.B. 2017: Going ... Going ... Gone!</td>\n",
       "      <td>Baseball ran on a power cord in 2017, setting ...</td>\n",
       "      <td>1</td>\n",
       "      <td>0</td>\n",
       "      <td>1</td>\n",
       "      <td>0</td>\n",
       "      <td>0</td>\n",
       "      <td>1</td>\n",
       "      <td>1</td>\n",
       "      <td>0</td>\n",
       "      <td>1</td>\n",
       "      <td>5</td>\n",
       "      <td>M.L.B. 2017: Going ... Going ... Gone!. Baseba...</td>\n",
       "      <td>302</td>\n",
       "    </tr>\n",
       "    <tr>\n",
       "      <td>8104</td>\n",
       "      <td>Turkish Gold Trader Cuts Deal With Prosecutors...</td>\n",
       "      <td>The trader, who was arrested in 2016, is coope...</td>\n",
       "      <td>1</td>\n",
       "      <td>0</td>\n",
       "      <td>0</td>\n",
       "      <td>0</td>\n",
       "      <td>1</td>\n",
       "      <td>1</td>\n",
       "      <td>0</td>\n",
       "      <td>1</td>\n",
       "      <td>1</td>\n",
       "      <td>5</td>\n",
       "      <td>Turkish Gold Trader Cuts Deal With Prosecutors...</td>\n",
       "      <td>302</td>\n",
       "    </tr>\n",
       "    <tr>\n",
       "      <td>114</td>\n",
       "      <td>5 Destinations for the Thanksgiving Traveler</td>\n",
       "      <td>For many Americans, Thanksgiving travel genera...</td>\n",
       "      <td>0</td>\n",
       "      <td>1</td>\n",
       "      <td>1</td>\n",
       "      <td>0</td>\n",
       "      <td>0</td>\n",
       "      <td>1</td>\n",
       "      <td>0</td>\n",
       "      <td>0</td>\n",
       "      <td>1</td>\n",
       "      <td>4</td>\n",
       "      <td>5 Destinations for the Thanksgiving Traveler. ...</td>\n",
       "      <td>317</td>\n",
       "    </tr>\n",
       "    <tr>\n",
       "      <td>5737</td>\n",
       "      <td>Puerto Rico’s Health Care Is in Dire Condition...</td>\n",
       "      <td>As the island struggles to recover from the de...</td>\n",
       "      <td>0</td>\n",
       "      <td>1</td>\n",
       "      <td>0</td>\n",
       "      <td>1</td>\n",
       "      <td>1</td>\n",
       "      <td>1</td>\n",
       "      <td>1</td>\n",
       "      <td>1</td>\n",
       "      <td>0</td>\n",
       "      <td>6</td>\n",
       "      <td>Puerto Rico’s Health Care Is in Dire Condition...</td>\n",
       "      <td>321</td>\n",
       "    </tr>\n",
       "    <tr>\n",
       "      <td>3070</td>\n",
       "      <td>High School Students Explain Why They Protest ...</td>\n",
       "      <td>Colin Kaepernick’s decision to sit or take a k...</td>\n",
       "      <td>1</td>\n",
       "      <td>0</td>\n",
       "      <td>0</td>\n",
       "      <td>1</td>\n",
       "      <td>1</td>\n",
       "      <td>1</td>\n",
       "      <td>1</td>\n",
       "      <td>1</td>\n",
       "      <td>1</td>\n",
       "      <td>7</td>\n",
       "      <td>High School Students Explain Why They Protest ...</td>\n",
       "      <td>342</td>\n",
       "    </tr>\n",
       "  </tbody>\n",
       "</table>\n",
       "<p>9343 rows × 14 columns</p>\n",
       "</div>"
      ],
      "text/plain": [
       "                                               headline                                            summary  emotion_0  emotion_1  emotion_2  emotion_3  emotion_4  emotion_5  emotion_6  emotion_7  emotion_8  sum                                               text  lentext\n",
       "2991                                    Harvey, Part II                                 A new state motto?          1          0          0          0          1          1          0          1          1    5                Harvey, Part II. A new state motto?       35\n",
       "5380                                  On Net Neutrality                                  Ctrl + Alt + Del.          0          1          0          0          0          1          0          1          1    4               On Net Neutrality. Ctrl + Alt + Del.       36\n",
       "6537                                         Shell Game                          David Steinberg fools us.          0          1          0          0          0          1          0          0          1    3              Shell Game. David Steinberg fools us.       37\n",
       "5401                             On the Paradise Papers                                      Abandon ship.          1          1          1          0          1          1          0          1          1    7              On the Paradise Papers. Abandon ship.       37\n",
       "1796                                         Compromise                    Peter Collins likes his medium.          0          0          0          0          0          1          1          0          1    3        Compromise. Peter Collins likes his medium.       43\n",
       "...                                                 ...                                                ...        ...        ...        ...        ...        ...        ...        ...        ...        ...  ...                                                ...      ...\n",
       "4550             M.L.B. 2017: Going ... Going ... Gone!  Baseball ran on a power cord in 2017, setting ...          1          0          1          0          0          1          1          0          1    5  M.L.B. 2017: Going ... Going ... Gone!. Baseba...      302\n",
       "8104  Turkish Gold Trader Cuts Deal With Prosecutors...  The trader, who was arrested in 2016, is coope...          1          0          0          0          1          1          0          1          1    5  Turkish Gold Trader Cuts Deal With Prosecutors...      302\n",
       "114        5 Destinations for the Thanksgiving Traveler  For many Americans, Thanksgiving travel genera...          0          1          1          0          0          1          0          0          1    4  5 Destinations for the Thanksgiving Traveler. ...      317\n",
       "5737  Puerto Rico’s Health Care Is in Dire Condition...  As the island struggles to recover from the de...          0          1          0          1          1          1          1          1          0    6  Puerto Rico’s Health Care Is in Dire Condition...      321\n",
       "3070  High School Students Explain Why They Protest ...  Colin Kaepernick’s decision to sit or take a k...          1          0          0          1          1          1          1          1          1    7  High School Students Explain Why They Protest ...      342\n",
       "\n",
       "[9343 rows x 14 columns]"
      ]
     },
     "execution_count": 98,
     "metadata": {},
     "output_type": "execute_result"
    }
   ],
   "source": [
    "#create a column of text length and sort ascending order\n",
    "final_df['lentext'] = final_df['text'].str.len()\n",
    "final_df.sort_values(by='lentext', ascending=True)"
   ]
  },
  {
   "cell_type": "code",
   "execution_count": 99,
   "metadata": {},
   "outputs": [
    {
     "data": {
      "text/plain": [
       "<matplotlib.axes._subplots.AxesSubplot at 0x7fc203d46810>"
      ]
     },
     "execution_count": 99,
     "metadata": {},
     "output_type": "execute_result"
    },
    {
     "data": {
      "image/png": "[encoded data removed]",
      "text/plain": [
       "<Figure size 576x432 with 1 Axes>"
      ]
     },
     "metadata": {},
     "output_type": "display_data"
    }
   ],
   "source": [
    "#Hist of lencount\n",
    "final_df['lentext'].hist(bins=8)"
   ]
  },
  {
   "cell_type": "markdown",
   "metadata": {},
   "source": [
    "Looks like the bulk of headline + summary are b/n 150 and 250 characters "
   ]
  },
  {
   "cell_type": "code",
   "execution_count": 100,
   "metadata": {},
   "outputs": [
    {
     "data": {
      "text/plain": [
       "<matplotlib.axes._subplots.AxesSubplot at 0x7fc20024f6d0>"
      ]
     },
     "execution_count": 100,
     "metadata": {},
     "output_type": "execute_result"
    },
    {
     "data": {
      "image/png": "[encoded data removed]",
      "text/plain": [
       "<Figure size 576x432 with 1 Axes>"
      ]
     },
     "metadata": {},
     "output_type": "display_data"
    }
   ],
   "source": [
    "#text outliers\n",
    "sns.boxplot(x=final_df[\"lentext\"])"
   ]
  },
  {
   "cell_type": "markdown",
   "metadata": {},
   "source": [
    "Text len outliers present on both tails, more so left tail"
   ]
  },
  {
   "cell_type": "code",
   "execution_count": 101,
   "metadata": {},
   "outputs": [
    {
     "data": {
      "text/plain": [
       "(242.0, 106.0)"
      ]
     },
     "execution_count": 101,
     "metadata": {},
     "output_type": "execute_result"
    }
   ],
   "source": [
    "def find_outliers(df, var):\n",
    "    lower_boundary = df[var].quantile(0.05)\n",
    "    upper_boundary = df[var].quantile(0.95)\n",
    "    return upper_boundary, lower_boundary\n",
    "text_upper_limit, text_lower_limit = find_outliers(final_df, 'lentext')\n",
    "text_upper_limit, text_lower_limit"
   ]
  },
  {
   "cell_type": "markdown",
   "metadata": {},
   "source": [
    "text length > 242 and <106 are considered outliers for NYT headline+summaries combined"
   ]
  },
  {
   "cell_type": "code",
   "execution_count": 102,
   "metadata": {},
   "outputs": [],
   "source": [
    "#capture upper and lower len anomolies \n",
    "for column in final_df.columns:\n",
    "    upper_text_len = final_df[final_df['lentext']>242.0]\n",
    "    \n",
    "for column in final_df.columns:\n",
    "    lower_text_len = final_df[final_df['lentext']<106.0]\n",
    "    \n",
    "upper_text_len = ''.join(upper_text_len.text)\n",
    "lower_text_len = ''.join(lower_text_len.text)"
   ]
  },
  {
   "cell_type": "code",
   "execution_count": 103,
   "metadata": {},
   "outputs": [
    {
     "data": {
      "image/png": "[encoded data removed]",
      "text/plain": [
       "<Figure size 576x432 with 1 Axes>"
      ]
     },
     "metadata": {},
     "output_type": "display_data"
    }
   ],
   "source": [
    "wordcloud = WordCloud().generate(upper_text_len)\n",
    "# take relative word frequencies into account, lower max_font_size\n",
    "wordcloud = WordCloud(background_color=\"white\",max_words=len(upper_text_len),max_font_size=40, relative_scaling=.5).generate(upper_text_len)\n",
    "plt.figure()\n",
    "plt.imshow(wordcloud)\n",
    "plt.axis(\"off\")\n",
    "plt.show()"
   ]
  },
  {
   "cell_type": "code",
   "execution_count": 104,
   "metadata": {},
   "outputs": [
    {
     "data": {
      "image/png": "[encoded data removed]",
      "text/plain": [
       "<Figure size 576x432 with 1 Axes>"
      ]
     },
     "metadata": {},
     "output_type": "display_data"
    }
   ],
   "source": [
    "wordcloud = WordCloud().generate(lower_text_len)\n",
    "# take relative word frequencies into account, lower max_font_size\n",
    "wordcloud = WordCloud(background_color=\"white\",max_words=len(lower_text_len),max_font_size=40, relative_scaling=.5).generate(lower_text_len)\n",
    "plt.figure()\n",
    "plt.imshow(wordcloud)\n",
    "plt.axis(\"off\")\n",
    "plt.show()"
   ]
  },
  {
   "cell_type": "markdown",
   "metadata": {},
   "source": [
    "There is a slight distinction between upper and lower outliers. Where upper outliers are dominated by politics and int'l affairs, lower outliers tend to include diverse topics such as dating,couples,health, education, etc.."
   ]
  },
  {
   "cell_type": "code",
   "execution_count": 105,
   "metadata": {},
   "outputs": [],
   "source": [
    "#text with all emotion and with only one emotion for word cloud\n",
    "all_emotions=final_df.loc[final_df['sum'] == 9]\n",
    "one_emotion=final_df.loc[final_df['sum'] == 1]\n",
    "\n",
    "all_emotions = ''.join(all_emotions.text)\n",
    "one_emotion = ''.join(one_emotion.text)"
   ]
  },
  {
   "cell_type": "code",
   "execution_count": 109,
   "metadata": {},
   "outputs": [
    {
     "data": {
      "image/png": "[encoded data removed]",
      "text/plain": [
       "<Figure size 576x432 with 1 Axes>"
      ]
     },
     "metadata": {},
     "output_type": "display_data"
    }
   ],
   "source": [
    "wordcloud = WordCloud().generate(all_emotions)\n",
    "# take relative word frequencies into account, lower max_font_size\n",
    "wordcloud = WordCloud(background_color=\"white\",max_words=len(all_emotions),max_font_size=40, relative_scaling=.5).generate(all_emotions)\n",
    "plt.figure()\n",
    "plt.imshow(wordcloud)\n",
    "plt.axis(\"off\")\n",
    "plt.show()"
   ]
  },
  {
   "cell_type": "code",
   "execution_count": 110,
   "metadata": {},
   "outputs": [
    {
     "data": {
      "image/png": "[encoded data removed]",
      "text/plain": [
       "<Figure size 576x432 with 1 Axes>"
      ]
     },
     "metadata": {},
     "output_type": "display_data"
    }
   ],
   "source": [
    "wordcloud = WordCloud().generate(one_emotion)\n",
    "# take relative word frequencies into account, lower max_font_size\n",
    "wordcloud = WordCloud(background_color=\"white\",max_words=len(one_emotion),max_font_size=40, relative_scaling=.5).generate(one_emotion)\n",
    "plt.figure()\n",
    "plt.imshow(wordcloud)\n",
    "plt.axis(\"off\")\n",
    "plt.show()"
   ]
  },
  {
   "cell_type": "markdown",
   "metadata": {},
   "source": [
    "*  texts with **all** emotions seem in someway to be associated with politics\n",
    "*  texts with **one** emotion seem in someway to be associated with crime, violence, accident"
   ]
  },
  {
   "cell_type": "markdown",
   "metadata": {},
   "source": [
    "## 3. Text Preprocessing"
   ]
  },
  {
   "cell_type": "code",
   "execution_count": 111,
   "metadata": {},
   "outputs": [],
   "source": [
    "# This recieves a sentence 1 at a time\n",
    "# Use a loop if you want to process a dataset or a lambda\n",
    "def text_preprocess(text, stopwords, lemmatizer, wordnet_map):\n",
    "    # Transform words to lower case\n",
    "    text=text.lower()\n",
    "    # Remove punctuation\n",
    "    text=re.sub('[^a-zA-Z]', ' ', text)\n",
    "    # Remove tags\n",
    "    text=re.sub(\"&lt;/?.*?&gt;\",\" &lt;&gt; \",text)\n",
    "    # Remove special characters and digits\n",
    "    text=re.sub(\"(\\\\d|\\\\W)+\",\" \",text)\n",
    "    # Remove stop words like : and is a and the\n",
    "    text=\" \".join([word for word in text.split() if word not in stopwords])\n",
    "    # Find base word for all words in the sentence\n",
    "    pos_tagged_text=nltk.pos_tag(text.split())\n",
    "    text=\" \".join([lemmatizer.lemmatize(word, wordnet_map.get(pos[0], wordnet.NOUN)) for word, pos in pos_tagged_text])\n",
    "    return text\n",
    "\n",
    "# List of stop words [and, it, the, is, of, or, ...]\n",
    "STOPWORDS=set(stopwords.words('english'))  \n",
    "# Construct a lemmatizer for finding base words\n",
    "lemmatizer=WordNetLemmatizer()\n",
    "# Helper word map to find better base words than base lemmatizer \n",
    "wordnet_map={\"N\":wordnet.NOUN, \"V\":wordnet.VERB, \"J\":wordnet.ADJ, \"R\":wordnet.ADV}"
   ]
  },
  {
   "cell_type": "code",
   "execution_count": 112,
   "metadata": {},
   "outputs": [
    {
     "name": "stderr",
     "output_type": "stream",
     "text": [
      "9343it [00:00, 33858.20it/s]\n",
      "9343it [00:00, 36393.59it/s]\n"
     ]
    }
   ],
   "source": [
    "#Source:- https://stackoverflow.com/questions/19790188/expanding-english-language-contractions-in-python/47091490#47091490\n",
    "def decontracted(text):\n",
    "    for idx,val in tqdm(enumerate(text.values)):\n",
    "        # specific\n",
    "        val = re.sub(r\"won\\'t\", \"will not\", val)\n",
    "        val = re.sub(r\"won\\''t\", \"will not\", val)\n",
    "        val = re.sub(r\"won\\\"t\", \"will not\", val)\n",
    "        val = re.sub(r\"can\\'t\", \"can not\", val)\n",
    "        val = re.sub(r\"can\\''t\", \"can not\", val)\n",
    "        val = re.sub(r\"can\\\"t\", \"can not\", val)\n",
    "        # general\n",
    "        val = re.sub(r\"n\\'t\", \" not\", val)\n",
    "        val = re.sub(r\"n\\''t\", \" not\", val)\n",
    "        val = re.sub(r\"n\\\"t\", \" not\", val)\n",
    "        val = re.sub(r\"\\'re\", \" are\", val)\n",
    "        val = re.sub(r\"\\''re\", \" are\", val)\n",
    "        val = re.sub(r\"\\\"re\", \" are\", val)\n",
    "        val = re.sub(r\"\\'s\", \" is\", val)\n",
    "        val = re.sub(r\"\\''s\", \" is\", val)\n",
    "        val = re.sub(r\"\\\"s\", \" is\", val)\n",
    "        val = re.sub(r\"\\'d\", \" would\", val)\n",
    "        val = re.sub(r\"\\''d\", \" would\", val)\n",
    "        val = re.sub(r\"\\\"d\", \" would\", val)\n",
    "        val = re.sub(r\"\\'ll\", \" will\", val)\n",
    "        val = re.sub(r\"\\''ll\", \" will\", val)\n",
    "        val = re.sub(r\"\\\"ll\", \" will\", val)\n",
    "        val = re.sub(r\"\\'t\", \" not\", val)\n",
    "        val = re.sub(r\"\\''t\", \" not\", val)\n",
    "        val = re.sub(r\"\\\"t\", \" not\", val)\n",
    "        val = re.sub(r\"\\'ve\", \" have\", val)\n",
    "        val = re.sub(r\"\\''ve\", \" have\", val)\n",
    "        val = re.sub(r\"\\\"ve\", \" have\", val)\n",
    "        val = re.sub(r\"\\'m\", \" am\", val)\n",
    "        val = re.sub(r\"\\''m\",\" am\", val)\n",
    "        val = re.sub(r\"\\\"m\",\" am\", val)\n",
    "\n",
    "        text.values[idx] = val.strip()\n",
    "    return text\n",
    "\n",
    "final_df['text'] = decontracted(final_df['text'])\n",
    "final_df['text'] = decontracted(final_df['text'])"
   ]
  },
  {
   "cell_type": "code",
   "execution_count": 113,
   "metadata": {},
   "outputs": [],
   "source": [
    "# Perform the text processing for all comments in the dataset using the text_preprocess method\n",
    "final_df[\"preprocessed_text\"] = df_m5['text'].apply(lambda x: text_preprocess(x, STOPWORDS, lemmatizer, wordnet_map))"
   ]
  },
  {
   "cell_type": "code",
   "execution_count": 114,
   "metadata": {},
   "outputs": [
    {
     "data": {
      "text/plain": [
       "'hour kigali rwanda year horrific genocide rwanda kigali emerge proud city know great coffee din progressive start ups energetic art scene'"
      ]
     },
     "execution_count": 114,
     "metadata": {},
     "output_type": "execute_result"
    }
   ],
   "source": [
    "#example\n",
    "final_df[\"preprocessed_text\"].values[100]"
   ]
  },
  {
   "cell_type": "code",
   "execution_count": 115,
   "metadata": {},
   "outputs": [],
   "source": [
    "#replacing empty strings in our preprocessed column to np.nan and dropping Nan\n",
    "final_df['preprocessed_text'].replace('', np.nan, inplace=True)\n",
    "final_df.dropna(subset=['preprocessed_text'], inplace=True)"
   ]
  },
  {
   "cell_type": "code",
   "execution_count": 116,
   "metadata": {},
   "outputs": [
    {
     "data": {
      "image/png": "[encoded data removed]",
      "text/plain": [
       "<Figure size 1152x360 with 1 Axes>"
      ]
     },
     "metadata": {},
     "output_type": "display_data"
    }
   ],
   "source": [
    "emotion_df_sorted = final_df.sort_values(['sum'], ascending=False)\n",
    "label_count = emotion_df_sorted['sum'].values\n",
    "\n",
    "#plot\n",
    "plt.figure(figsize=(16,5))\n",
    "plt.plot(label_count)\n",
    "plt.title(\"Distribution of number of times emotion appeared in the texts\", fontsize=15)\n",
    "plt.xlabel(\"Rows (n)\")\n",
    "plt.ylabel(\"Number of times Emotions appeared\")\n",
    "plt.grid()\n",
    "plt.show()"
   ]
  },
  {
   "cell_type": "code",
   "execution_count": 119,
   "metadata": {},
   "outputs": [
    {
     "data": {
      "image/png": "[encoded data removed]",
      "text/plain": [
       "<Figure size 1080x360 with 1 Axes>"
      ]
     },
     "metadata": {},
     "output_type": "display_data"
    }
   ],
   "source": [
    "#plot the repetation\n",
    "final_df[\"sum\"].value_counts().plot(kind=\"bar\", figsize=(15,5))\n",
    "plt.show()"
   ]
  },
  {
   "cell_type": "markdown",
   "metadata": {},
   "source": [
    "#### Observation:\n",
    "\n",
    "* Emotion 5, 4 and 6 occure more frequently than other emotions\n"
   ]
  },
  {
   "cell_type": "code",
   "execution_count": 120,
   "metadata": {},
   "outputs": [
    {
     "data": {
      "image/png": "[encoded data removed]",
      "text/plain": [
       "<Figure size 1080x720 with 2 Axes>"
      ]
     },
     "metadata": {},
     "output_type": "display_data"
    }
   ],
   "source": [
    "rcParams['figure.figsize'] = 15, 10\n",
    "corrMatrix = final_df[emotions_clean].corr(method=\"pearson\")\n",
    "sns.heatmap(corrMatrix, annot=True)\n",
    "plt.show()"
   ]
  },
  {
   "cell_type": "markdown",
   "metadata": {},
   "source": [
    "No correlation b/n emotions"
   ]
  },
  {
   "cell_type": "code",
   "execution_count": 121,
   "metadata": {},
   "outputs": [
    {
     "name": "stdout",
     "output_type": "stream",
     "text": [
      "<FreqDist with 18117 samples and 180639 outcomes>\n",
      "there are no rare words\n"
     ]
    },
    {
     "data": {
      "text/html": [
       "<div>\n",
       "<style scoped>\n",
       "    .dataframe tbody tr th:only-of-type {\n",
       "        vertical-align: middle;\n",
       "    }\n",
       "\n",
       "    .dataframe tbody tr th {\n",
       "        vertical-align: top;\n",
       "    }\n",
       "\n",
       "    .dataframe thead th {\n",
       "        text-align: right;\n",
       "    }\n",
       "</style>\n",
       "<table border=\"1\" class=\"dataframe\">\n",
       "  <thead>\n",
       "    <tr style=\"text-align: right;\">\n",
       "      <th></th>\n",
       "      <th>Word</th>\n",
       "      <th>Frequency</th>\n",
       "    </tr>\n",
       "  </thead>\n",
       "  <tbody>\n",
       "    <tr>\n",
       "      <td>19</td>\n",
       "      <td>game</td>\n",
       "      <td>446</td>\n",
       "    </tr>\n",
       "    <tr>\n",
       "      <td>18</td>\n",
       "      <td>mr</td>\n",
       "      <td>460</td>\n",
       "    </tr>\n",
       "    <tr>\n",
       "      <td>17</td>\n",
       "      <td>republican</td>\n",
       "      <td>463</td>\n",
       "    </tr>\n",
       "    <tr>\n",
       "      <td>16</td>\n",
       "      <td>woman</td>\n",
       "      <td>463</td>\n",
       "    </tr>\n",
       "    <tr>\n",
       "      <td>15</td>\n",
       "      <td>take</td>\n",
       "      <td>478</td>\n",
       "    </tr>\n",
       "    <tr>\n",
       "      <td>14</td>\n",
       "      <td>north</td>\n",
       "      <td>503</td>\n",
       "    </tr>\n",
       "    <tr>\n",
       "      <td>13</td>\n",
       "      <td>first</td>\n",
       "      <td>531</td>\n",
       "    </tr>\n",
       "    <tr>\n",
       "      <td>12</td>\n",
       "      <td>time</td>\n",
       "      <td>548</td>\n",
       "    </tr>\n",
       "    <tr>\n",
       "      <td>11</td>\n",
       "      <td>city</td>\n",
       "      <td>558</td>\n",
       "    </tr>\n",
       "    <tr>\n",
       "      <td>10</td>\n",
       "      <td>state</td>\n",
       "      <td>581</td>\n",
       "    </tr>\n",
       "    <tr>\n",
       "      <td>9</td>\n",
       "      <td>u</td>\n",
       "      <td>594</td>\n",
       "    </tr>\n",
       "    <tr>\n",
       "      <td>8</td>\n",
       "      <td>make</td>\n",
       "      <td>657</td>\n",
       "    </tr>\n",
       "    <tr>\n",
       "      <td>7</td>\n",
       "      <td>york</td>\n",
       "      <td>667</td>\n",
       "    </tr>\n",
       "    <tr>\n",
       "      <td>6</td>\n",
       "      <td>tax</td>\n",
       "      <td>675</td>\n",
       "    </tr>\n",
       "    <tr>\n",
       "      <td>5</td>\n",
       "      <td>one</td>\n",
       "      <td>681</td>\n",
       "    </tr>\n",
       "    <tr>\n",
       "      <td>4</td>\n",
       "      <td>year</td>\n",
       "      <td>813</td>\n",
       "    </tr>\n",
       "    <tr>\n",
       "      <td>3</td>\n",
       "      <td>president</td>\n",
       "      <td>976</td>\n",
       "    </tr>\n",
       "    <tr>\n",
       "      <td>2</td>\n",
       "      <td>say</td>\n",
       "      <td>1359</td>\n",
       "    </tr>\n",
       "    <tr>\n",
       "      <td>1</td>\n",
       "      <td>trump</td>\n",
       "      <td>1528</td>\n",
       "    </tr>\n",
       "    <tr>\n",
       "      <td>0</td>\n",
       "      <td>new</td>\n",
       "      <td>1775</td>\n",
       "    </tr>\n",
       "  </tbody>\n",
       "</table>\n",
       "</div>"
      ],
      "text/plain": [
       "          Word  Frequency\n",
       "19        game        446\n",
       "18          mr        460\n",
       "17  republican        463\n",
       "16       woman        463\n",
       "15        take        478\n",
       "14       north        503\n",
       "13       first        531\n",
       "12        time        548\n",
       "11        city        558\n",
       "10       state        581\n",
       "9            u        594\n",
       "8         make        657\n",
       "7         york        667\n",
       "6          tax        675\n",
       "5          one        681\n",
       "4         year        813\n",
       "3    president        976\n",
       "2          say       1359\n",
       "1        trump       1528\n",
       "0          new       1775"
      ]
     },
     "execution_count": 121,
     "metadata": {},
     "output_type": "execute_result"
    }
   ],
   "source": [
    "#least frequent words\n",
    "least_freq = 20\n",
    "#if not necessary all lower\n",
    "k= final_df['preprocessed_text'].str.lower().str.cat(sep=' ')\n",
    "words = nltk.tokenize.word_tokenize(k)\n",
    "word_dist = nltk.FreqDist(words)\n",
    "print (word_dist)\n",
    "\n",
    "result = pd.DataFrame(word_dist.most_common(least_freq),\n",
    "                    columns=['Word', 'Frequency'])\n",
    "\n",
    "print('there are no rare words')\n",
    "\n",
    "result.sort_values(by='Frequency', ascending=True)"
   ]
  },
  {
   "cell_type": "markdown",
   "metadata": {},
   "source": [
    "# 4. Train-Test Split and Text Vectorization"
   ]
  },
  {
   "cell_type": "code",
   "execution_count": 122,
   "metadata": {},
   "outputs": [],
   "source": [
    "train, test = train_test_split(final_df, random_state=42, test_size=0.20, shuffle=True)"
   ]
  },
  {
   "cell_type": "code",
   "execution_count": 123,
   "metadata": {},
   "outputs": [
    {
     "name": "stdout",
     "output_type": "stream",
     "text": [
      "(7473,)\n",
      "(1869,)\n"
     ]
    }
   ],
   "source": [
    "train_emotions = train.preprocessed_text\n",
    "test_emotions = test.preprocessed_text\n",
    "print(train_emotions.shape)\n",
    "print(test_emotions.shape)"
   ]
  },
  {
   "cell_type": "code",
   "execution_count": 124,
   "metadata": {},
   "outputs": [
    {
     "data": {
      "image/png": "[encoded data removed]",
      "text/plain": [
       "<Figure size 1152x360 with 2 Axes>"
      ]
     },
     "metadata": {},
     "output_type": "display_data"
    }
   ],
   "source": [
    "#plot train test dist\n",
    "fig, ax = plt.subplots(ncols=2, figsize=(16,5))\n",
    "train_sum = train[\"sum\"].value_counts().plot(kind=\"bar\",ax=ax[0], title=\"Train Dataset\")\n",
    "test_sum = test[\"sum\"].value_counts().plot(kind=\"bar\",ax=ax[1], title=\"Test Dataset\")\n",
    "plt.show()"
   ]
  },
  {
   "cell_type": "code",
   "execution_count": 125,
   "metadata": {},
   "outputs": [
    {
     "data": {
      "text/plain": [
       "TfidfVectorizer(analyzer='word', binary=False, decode_error='strict',\n",
       "                dtype=<class 'numpy.float64'>, encoding='utf-8',\n",
       "                input='content', lowercase=True, max_df=0.9, max_features=None,\n",
       "                min_df=5, ngram_range=(1, 3), norm='l2', preprocessor=None,\n",
       "                smooth_idf=True, stop_words=None, strip_accents='unicode',\n",
       "                sublinear_tf=True, token_pattern='(?u)\\\\b\\\\w\\\\w+\\\\b',\n",
       "                tokenizer=None, use_idf=True, vocabulary=None)"
      ]
     },
     "execution_count": 125,
     "metadata": {},
     "output_type": "execute_result"
    }
   ],
   "source": [
    "#creating an object of TfidfVectorizer\n",
    "vectorizer = TfidfVectorizer(ngram_range=(1,3), min_df=5, \n",
    "                             max_df=0.9,strip_accents='unicode',\n",
    "                             use_idf=True, smooth_idf=True,\n",
    "                             sublinear_tf=True)\n",
    "vectorizer.fit(train_emotions)\n",
    "vectorizer.fit(test_emotions)"
   ]
  },
  {
   "cell_type": "code",
   "execution_count": 126,
   "metadata": {},
   "outputs": [],
   "source": [
    "X_train = vectorizer.transform(train_emotions)\n",
    "ytrain = train.drop(labels = ['headline','summary','text','preprocessed_text','sum','lentext'], axis=1)\n",
    "\n",
    "X_test = vectorizer.transform(test_emotions)\n",
    "ytest = test.drop(labels = ['headline','summary','text','preprocessed_text','sum','lentext'], axis=1)"
   ]
  },
  {
   "cell_type": "markdown",
   "metadata": {},
   "source": [
    "# 5. Model Building"
   ]
  },
  {
   "cell_type": "markdown",
   "metadata": {},
   "source": [
    "### 5.1 Naive Bayes - Multinomial NB"
   ]
  },
  {
   "cell_type": "code",
   "execution_count": 127,
   "metadata": {},
   "outputs": [
    {
     "data": {
      "text/plain": [
       "dict_keys(['alpha', 'class_prior', 'fit_prior'])"
      ]
     },
     "execution_count": 127,
     "metadata": {},
     "output_type": "execute_result"
    }
   ],
   "source": [
    "MultinomialNB().get_params().keys()"
   ]
  },
  {
   "cell_type": "code",
   "execution_count": 128,
   "metadata": {},
   "outputs": [
    {
     "name": "stdout",
     "output_type": "stream",
     "text": [
      "OneVsRestClassifier(estimator=MultinomialNB(alpha=1, class_prior=None,\n",
      "                                            fit_prior=True),\n",
      "                    n_jobs=-1)\n",
      "Best Cross Validation Score:  0.7565236455120141\n",
      "\n",
      " Accuracy : 0.07865168539325842\n",
      "Hamming loss  0.24879614767255218\n",
      "\n",
      " Micro-average\n",
      "Precision: 0.7694, Recall: 0.7546, F1: 0.7619\n"
     ]
    }
   ],
   "source": [
    "param = [{'estimator__alpha': [1, 0.1, 0.01, 0.001, 0.0001, 0.00001]}]  # creating parameter grid\n",
    "\n",
    "# Optimal alpha by grid search \n",
    "NB_clf = OneVsRestClassifier(MultinomialNB(), n_jobs=-1)\n",
    "Multinomial_NB = GridSearchCV(NB_clf, param, scoring = 'f1_micro', cv=5)\n",
    "\n",
    "#fit and print best estimator  & CV Score\n",
    "Multinomial_NB.fit(X_train, ytrain)\n",
    "print(Multinomial_NB.best_estimator_)\n",
    "print(\"Best Cross Validation Score: \",Multinomial_NB.best_score_)\n",
    "\n",
    "#fit tuned clf on test set and gather accuracy and hamming loss\n",
    "predictions = Multinomial_NB.predict(X_test)\n",
    "print(\"\\n Accuracy :\",metrics.accuracy_score(ytest, predictions))\n",
    "print(\"Hamming loss \",metrics.hamming_loss(ytest,predictions))\n",
    "\n",
    "#micro- precision, recall, f1\n",
    "precision=precision_score(ytest, predictions, average='micro')\n",
    "recall=recall_score(ytest, predictions, average='micro')\n",
    "f1=f1_score(ytest, predictions, average='micro')\n",
    "\n",
    "#print precision, recall, f1 scores \n",
    "print(\"\\n Micro-average\")\n",
    "print(\"Precision: {:.4f}, Recall: {:.4f}, F1: {:.4f}\".format(precision, recall, f1))\n"
   ]
  },
  {
   "cell_type": "code",
   "execution_count": 129,
   "metadata": {},
   "outputs": [
    {
     "name": "stdout",
     "output_type": "stream",
     "text": [
      "\n",
      " Macro-average\n",
      "Precision: 0.7171, Recall: 0.6686, F1-measure: 0.6790\n",
      "\n",
      "Classification Report\n",
      "              precision    recall  f1-score   support\n",
      "\n",
      "           0       0.66      0.74      0.70       964\n",
      "           1       0.70      0.63      0.66       775\n",
      "           2       0.63      0.47      0.54       749\n",
      "           3       0.69      0.62      0.65       644\n",
      "           4       0.61      0.57      0.59       945\n",
      "           5       0.96      1.00      0.98      1791\n",
      "           6       0.61      0.21      0.31       448\n",
      "           7       0.76      0.80      0.78      1020\n",
      "           8       0.83      0.98      0.90      1538\n",
      "\n",
      "   micro avg       0.77      0.75      0.76      8874\n",
      "   macro avg       0.72      0.67      0.68      8874\n",
      "weighted avg       0.76      0.75      0.75      8874\n",
      " samples avg       0.78      0.77      0.75      8874\n",
      "\n"
     ]
    }
   ],
   "source": [
    "#macro- precision, recall, f1 for micro avarage\n",
    "precision=precision_score(ytest, predictions, average='macro')\n",
    "recall=recall_score(ytest, predictions, average='macro')\n",
    "f1=f1_score(ytest, predictions, average='macro')\n",
    " \n",
    "#print precision, recall, f1 scores for micro avarage  \n",
    "print(\"\\n Macro-average\")\n",
    "print(\"Precision: {:.4f}, Recall: {:.4f}, F1-measure: {:.4f}\".format(precision, recall, f1))\n",
    "\n",
    "#print classification report of the multiple labels\n",
    "print(\"\\nClassification Report\")\n",
    "print (metrics.classification_report(ytest, predictions))"
   ]
  },
  {
   "cell_type": "markdown",
   "metadata": {},
   "source": [
    "### 5.2 Logistic Regression"
   ]
  },
  {
   "cell_type": "code",
   "execution_count": 130,
   "metadata": {},
   "outputs": [
    {
     "data": {
      "text/plain": [
       "dict_keys(['C', 'class_weight', 'dual', 'fit_intercept', 'intercept_scaling', 'l1_ratio', 'max_iter', 'multi_class', 'n_jobs', 'penalty', 'random_state', 'solver', 'tol', 'verbose', 'warm_start'])"
      ]
     },
     "execution_count": 130,
     "metadata": {},
     "output_type": "execute_result"
    }
   ],
   "source": [
    "#Parameters for classifier\n",
    "LogisticRegression().get_params().keys()"
   ]
  },
  {
   "cell_type": "code",
   "execution_count": 131,
   "metadata": {},
   "outputs": [
    {
     "name": "stdout",
     "output_type": "stream",
     "text": [
      "OneVsRestClassifier(estimator=LogisticRegression(C=0.1, class_weight='balanced',\n",
      "                                                 dual=False, fit_intercept=True,\n",
      "                                                 intercept_scaling=1,\n",
      "                                                 l1_ratio=None, max_iter=100,\n",
      "                                                 multi_class='warn',\n",
      "                                                 n_jobs=None, penalty='l2',\n",
      "                                                 random_state=None,\n",
      "                                                 solver='warn', tol=0.0001,\n",
      "                                                 verbose=0, warm_start=False),\n",
      "                    n_jobs=-1)\n",
      "Best Cross Validation Score:  0.719802288272271\n",
      "\n",
      " Accuracy : 0.04922418405564473\n",
      "Hamming loss  0.2847036442542061\n",
      "\n",
      " Micro-average\n",
      "Precision: 0.7340, Recall: 0.7220, F1: 0.7279\n"
     ]
    }
   ],
   "source": [
    "#alpha param space\n",
    "param = [{'estimator__C': [100, 10, 1, 0.1, 0.01, 0.001, 0.0001]}]\n",
    "\n",
    "# Optimal C by grid search \n",
    "log_reg_clf = OneVsRestClassifier(LogisticRegression(penalty='l2', class_weight='balanced'), n_jobs=-1)\n",
    "logisticR = GridSearchCV(log_reg_clf, param,scoring = 'f1_micro', cv=5)\n",
    "\n",
    "\n",
    "#fit and print best estimator  & CV Score\n",
    "logisticR.fit(X_train, ytrain)\n",
    "print(logisticR.best_estimator_)\n",
    "print(\"Best Cross Validation Score: \",logisticR.best_score_)\n",
    "\n",
    "#fit tuned clf on test set and gather accuracy and hamming loss\n",
    "predictions = logisticR.predict(X_test)\n",
    "print(\"\\n Accuracy :\",metrics.accuracy_score(ytest, predictions))\n",
    "print(\"Hamming loss \",metrics.hamming_loss(ytest,predictions))\n",
    "\n",
    "#micro- precision, recall, f1\n",
    "precision=precision_score(ytest, predictions, average='micro')\n",
    "recall=recall_score(ytest, predictions, average='micro')\n",
    "f1=f1_score(ytest, predictions, average='micro')\n",
    "\n",
    "#print precision, recall, f1 scores \n",
    "print(\"\\n Micro-average\")\n",
    "print(\"Precision: {:.4f}, Recall: {:.4f}, F1: {:.4f}\".format(precision, recall, f1))"
   ]
  },
  {
   "cell_type": "code",
   "execution_count": 132,
   "metadata": {},
   "outputs": [
    {
     "name": "stdout",
     "output_type": "stream",
     "text": [
      "\n",
      " Macro-average\n",
      "Precision: 0.6927, Recall: 0.6967, F1-measure: 0.6914\n",
      "\n",
      "Classification Report\n",
      "              precision    recall  f1-score   support\n",
      "\n",
      "           0       0.67      0.67      0.67       964\n",
      "           1       0.67      0.71      0.69       775\n",
      "           2       0.59      0.63      0.61       749\n",
      "           3       0.64      0.69      0.67       644\n",
      "           4       0.61      0.61      0.61       945\n",
      "           5       0.97      0.88      0.92      1791\n",
      "           6       0.43      0.62      0.51       448\n",
      "           7       0.77      0.75      0.76      1020\n",
      "           8       0.88      0.72      0.79      1538\n",
      "\n",
      "   micro avg       0.73      0.72      0.73      8874\n",
      "   macro avg       0.69      0.70      0.69      8874\n",
      "weighted avg       0.75      0.72      0.73      8874\n",
      " samples avg       0.74      0.73      0.72      8874\n",
      "\n"
     ]
    }
   ],
   "source": [
    "#macro- precision, recall, f1 for micro avarage\n",
    "precision=precision_score(ytest, predictions, average='macro')\n",
    "recall=recall_score(ytest, predictions, average='macro')\n",
    "f1=f1_score(ytest, predictions, average='macro')\n",
    " \n",
    "#print precision, recall, f1 scores for micro avarage  \n",
    "print(\"\\n Macro-average\")\n",
    "print(\"Precision: {:.4f}, Recall: {:.4f}, F1-measure: {:.4f}\".format(precision, recall, f1))\n",
    "\n",
    "#print classification report of the multiple labels\n",
    "print(\"\\nClassification Report\")\n",
    "print (metrics.classification_report(ytest, predictions))"
   ]
  },
  {
   "cell_type": "markdown",
   "metadata": {},
   "source": [
    "### 5.3 SGDClassiffier with log loss "
   ]
  },
  {
   "cell_type": "code",
   "execution_count": 133,
   "metadata": {},
   "outputs": [
    {
     "data": {
      "text/plain": [
       "dict_keys(['alpha', 'average', 'class_weight', 'early_stopping', 'epsilon', 'eta0', 'fit_intercept', 'l1_ratio', 'learning_rate', 'loss', 'max_iter', 'n_iter_no_change', 'n_jobs', 'penalty', 'power_t', 'random_state', 'shuffle', 'tol', 'validation_fraction', 'verbose', 'warm_start'])"
      ]
     },
     "execution_count": 133,
     "metadata": {},
     "output_type": "execute_result"
    }
   ],
   "source": [
    "SGDClassifier().get_params().keys()"
   ]
  },
  {
   "cell_type": "code",
   "execution_count": 134,
   "metadata": {},
   "outputs": [
    {
     "name": "stdout",
     "output_type": "stream",
     "text": [
      "OneVsRestClassifier(estimator=SGDClassifier(alpha=0.001, average=False,\n",
      "                                            class_weight='balanced',\n",
      "                                            early_stopping=False, epsilon=100,\n",
      "                                            eta0=0.0, fit_intercept=True,\n",
      "                                            l1_ratio=0.15,\n",
      "                                            learning_rate='optimal', loss='log',\n",
      "                                            max_iter=1000, n_iter_no_change=5,\n",
      "                                            n_jobs=None, penalty='l2',\n",
      "                                            power_t=0.5, random_state=42,\n",
      "                                            shuffle=True, tol=0.001,\n",
      "                                            validation_fraction=0.1, verbose=0,\n",
      "                                            warm_start=False),\n",
      "                    n_jobs=-1)\n",
      "Best Cross Validation Score:  0.7176011320247684\n",
      "\n",
      " Accuracy : 0.051364365971107544\n",
      "Hamming loss  0.28613043219784795\n",
      "\n",
      " Micro-average\n",
      "Precision: 0.7341, Recall: 0.7176, F1: 0.7257\n"
     ]
    }
   ],
   "source": [
    "#setup params\n",
    "param= {'estimator__alpha':[100, 10, 1, 0.1, 0.01, 0.001, 0.0001],\n",
    "              'estimator__epsilon':[100, 10, 1, 0.1, 0.01, 0.001, 0.0001]} #creating parameter grid\n",
    "\n",
    "# Optimal alpha,epsilon by grid search #logloss \n",
    "SGDC_clf = OneVsRestClassifier(SGDClassifier(loss = 'log', random_state=42,class_weight='balanced'), n_jobs=-1)\n",
    "SGDC_log = GridSearchCV(SGDC_clf, param,scoring = 'f1_micro', cv=5)\n",
    "\n",
    "#fit and print best estimator  & CV Score\n",
    "SGDC_log.fit(X_train, ytrain)\n",
    "print(SGDC_log.best_estimator_)\n",
    "print(\"Best Cross Validation Score: \",SGDC_log.best_score_)\n",
    "\n",
    "#fit tuned clf on test set and gather accuracy and hamming loss\n",
    "predictions = SGDC_log.predict(X_test)\n",
    "print(\"\\n Accuracy :\",metrics.accuracy_score(ytest, predictions))\n",
    "print(\"Hamming loss \",metrics.hamming_loss(ytest,predictions))\n",
    "\n",
    "#micro- precision, recall, f1\n",
    "precision=precision_score(ytest, predictions, average='micro')\n",
    "recall=recall_score(ytest, predictions, average='micro')\n",
    "f1=f1_score(ytest, predictions, average='micro')\n",
    "\n",
    "#print precision, recall, f1 scores \n",
    "print(\"\\n Micro-average\")\n",
    "print(\"Precision: {:.4f}, Recall: {:.4f}, F1: {:.4f}\".format(precision, recall, f1))\n"
   ]
  },
  {
   "cell_type": "code",
   "execution_count": 135,
   "metadata": {},
   "outputs": [
    {
     "name": "stdout",
     "output_type": "stream",
     "text": [
      "\n",
      " Macro-average\n",
      "Precision: 0.6943, Recall: 0.6956, F1-measure: 0.6913\n",
      "\n",
      "Classification Report\n",
      "              precision    recall  f1-score   support\n",
      "\n",
      "           0       0.67      0.67      0.67       964\n",
      "           1       0.67      0.71      0.69       775\n",
      "           2       0.59      0.63      0.61       749\n",
      "           3       0.65      0.70      0.67       644\n",
      "           4       0.61      0.60      0.61       945\n",
      "           5       0.97      0.86      0.91      1791\n",
      "           6       0.44      0.63      0.51       448\n",
      "           7       0.77      0.75      0.76      1020\n",
      "           8       0.88      0.71      0.79      1538\n",
      "\n",
      "   micro avg       0.73      0.72      0.73      8874\n",
      "   macro avg       0.69      0.70      0.69      8874\n",
      "weighted avg       0.75      0.72      0.73      8874\n",
      " samples avg       0.74      0.73      0.71      8874\n",
      "\n"
     ]
    }
   ],
   "source": [
    "#macro- precision, recall, f1 for micro avarage\n",
    "precision=precision_score(ytest, predictions, average='macro')\n",
    "recall=recall_score(ytest, predictions, average='macro')\n",
    "f1=f1_score(ytest, predictions, average='macro')\n",
    " \n",
    "#print precision, recall, f1 scores for micro avarage  \n",
    "print(\"\\n Macro-average\")\n",
    "print(\"Precision: {:.4f}, Recall: {:.4f}, F1-measure: {:.4f}\".format(precision, recall, f1))\n",
    "\n",
    "#print classification report of the multiple labels\n",
    "print(\"\\nClassification Report\")\n",
    "print (metrics.classification_report(ytest, predictions))"
   ]
  },
  {
   "cell_type": "markdown",
   "metadata": {},
   "source": [
    "### 5.4 SGDClassifier with Hinge loss"
   ]
  },
  {
   "cell_type": "code",
   "execution_count": 136,
   "metadata": {},
   "outputs": [
    {
     "name": "stdout",
     "output_type": "stream",
     "text": [
      "OneVsRestClassifier(estimator=SGDClassifier(alpha=0.001, average=False,\n",
      "                                            class_weight='balanced',\n",
      "                                            early_stopping=False, epsilon=100,\n",
      "                                            eta0=0.0, fit_intercept=True,\n",
      "                                            l1_ratio=0.15,\n",
      "                                            learning_rate='optimal',\n",
      "                                            loss='hinge', max_iter=1000,\n",
      "                                            n_iter_no_change=5, n_jobs=None,\n",
      "                                            penalty='l2', power_t=0.5,\n",
      "                                            random_state=42, shuffle=True,\n",
      "                                            tol=0.001, validation_fraction=0.1,\n",
      "                                            verbose=0, warm_start=False),\n",
      "                    n_jobs=-1)\n",
      "Best Cross Validation Score:  0.7131620534672881\n",
      "\n",
      " Accuracy : 0.04173354735152488\n",
      "Hamming loss  0.28975685155460434\n",
      "\n",
      " Micro-average\n",
      "Precision: 0.7320, Recall: 0.7111, F1: 0.7214\n"
     ]
    }
   ],
   "source": [
    "#setup params\n",
    "param= {'estimator__alpha':[100, 10, 1, 0.1, 0.01, 0.001, 0.0001],\n",
    "              'estimator__epsilon':[100, 10, 1, 0.1, 0.01, 0.001, 0.0001]} #creating parameter grid\n",
    "\n",
    "\n",
    "# Optimal alpha,epsilon by grid search #hinge\n",
    "SGDC_clf = OneVsRestClassifier(SGDClassifier(loss = 'hinge', random_state=42,class_weight='balanced'), n_jobs=-1)\n",
    "SGDC_log = GridSearchCV(SGDC_clf, param,scoring = 'f1_micro', cv=5)\n",
    "\n",
    "#fit and print best estimator  & CV Score\n",
    "SGDC_log.fit(X_train, ytrain)\n",
    "print(SGDC_log.best_estimator_)\n",
    "print(\"Best Cross Validation Score: \",SGDC_log.best_score_)\n",
    "\n",
    "#fit tuned clf on test set and gather accuracy and hamming loss\n",
    "predictions = SGDC_log.predict(X_test)\n",
    "print(\"\\n Accuracy :\",metrics.accuracy_score(ytest, predictions))\n",
    "print(\"Hamming loss \",metrics.hamming_loss(ytest,predictions))\n",
    "\n",
    "#micro- precision, recall, f1\n",
    "precision=precision_score(ytest, predictions, average='micro')\n",
    "recall=recall_score(ytest, predictions, average='micro')\n",
    "f1=f1_score(ytest, predictions, average='micro')\n",
    "\n",
    "#print precision, recall, f1 scores \n",
    "print(\"\\n Micro-average\")\n",
    "print(\"Precision: {:.4f}, Recall: {:.4f}, F1: {:.4f}\".format(precision, recall, f1))\n"
   ]
  },
  {
   "cell_type": "code",
   "execution_count": 137,
   "metadata": {},
   "outputs": [
    {
     "name": "stdout",
     "output_type": "stream",
     "text": [
      "\n",
      " Macro-average\n",
      "Precision: 0.6943, Recall: 0.6883, F1-measure: 0.6876\n",
      "\n",
      "Classification Report\n",
      "              precision    recall  f1-score   support\n",
      "\n",
      "           0       0.66      0.69      0.68       964\n",
      "           1       0.68      0.69      0.68       775\n",
      "           2       0.60      0.62      0.61       749\n",
      "           3       0.65      0.66      0.66       644\n",
      "           4       0.60      0.63      0.61       945\n",
      "           5       0.97      0.83      0.90      1791\n",
      "           6       0.43      0.62      0.51       448\n",
      "           7       0.78      0.73      0.75      1020\n",
      "           8       0.88      0.72      0.80      1538\n",
      "\n",
      "   micro avg       0.73      0.71      0.72      8874\n",
      "   macro avg       0.69      0.69      0.69      8874\n",
      "weighted avg       0.75      0.71      0.73      8874\n",
      " samples avg       0.74      0.72      0.71      8874\n",
      "\n"
     ]
    }
   ],
   "source": [
    "#macro- precision, recall, f1 for micro avarage\n",
    "precision=precision_score(ytest, predictions, average='macro')\n",
    "recall=recall_score(ytest, predictions, average='macro')\n",
    "f1=f1_score(ytest, predictions, average='macro')\n",
    " \n",
    "#print precision, recall, f1 scores for micro avarage  \n",
    "print(\"\\n Macro-average\")\n",
    "print(\"Precision: {:.4f}, Recall: {:.4f}, F1-measure: {:.4f}\".format(precision, recall, f1))\n",
    "\n",
    "#print classification report of the multiple labels\n",
    "print(\"\\nClassification Report\")\n",
    "print (metrics.classification_report(ytest, predictions))"
   ]
  },
  {
   "cell_type": "markdown",
   "metadata": {},
   "source": [
    "### 5.5 Support Vector Machine"
   ]
  },
  {
   "cell_type": "code",
   "execution_count": 138,
   "metadata": {},
   "outputs": [
    {
     "data": {
      "text/plain": [
       "dict_keys(['C', 'class_weight', 'dual', 'fit_intercept', 'intercept_scaling', 'loss', 'max_iter', 'multi_class', 'penalty', 'random_state', 'tol', 'verbose'])"
      ]
     },
     "execution_count": 138,
     "metadata": {},
     "output_type": "execute_result"
    }
   ],
   "source": [
    "LinearSVC().get_params().keys()"
   ]
  },
  {
   "cell_type": "code",
   "execution_count": 139,
   "metadata": {},
   "outputs": [
    {
     "name": "stdout",
     "output_type": "stream",
     "text": [
      "OneVsRestClassifier(estimator=LinearSVC(C=0.01, class_weight='balanced',\n",
      "                                        dual=True, fit_intercept=True,\n",
      "                                        intercept_scaling=1,\n",
      "                                        loss='squared_hinge', max_iter=1000,\n",
      "                                        multi_class='ovr', penalty='l2',\n",
      "                                        random_state=None, tol=0.0001,\n",
      "                                        verbose=0),\n",
      "                    n_jobs=-1)\n",
      "Best Cross Validation Score:  0.7200088849989909\n",
      "\n",
      " Accuracy : 0.047619047619047616\n",
      "Hamming loss  0.28315795731526067\n",
      "\n",
      " Micro-average\n",
      "Precision: 0.7354, Recall: 0.7237, F1: 0.7295\n"
     ]
    }
   ],
   "source": [
    "#alpha param space\n",
    "param = [{'estimator__C': [100, 10, 1, 0.1, 0.01, 0.001, 0.0001]}]\n",
    "\n",
    "# Optimal C by grid search \n",
    "svc_clf = OneVsRestClassifier(LinearSVC(class_weight='balanced'), n_jobs=-1)\n",
    "linear_SVC = GridSearchCV(svc_clf, param, scoring = 'f1_micro', cv=5)\n",
    "\n",
    "#fit and print best estimator  & CV Score\n",
    "linear_SVC.fit(X_train, ytrain)\n",
    "print(linear_SVC.best_estimator_)\n",
    "print(\"Best Cross Validation Score: \",linear_SVC.best_score_)\n",
    "\n",
    "#fit tuned clf on test set and gather accuracy and hamming loss\n",
    "predictions = linear_SVC.predict(X_test)\n",
    "print(\"\\n Accuracy :\",metrics.accuracy_score(ytest, predictions))\n",
    "print(\"Hamming loss \",metrics.hamming_loss(ytest,predictions))\n",
    "\n",
    "#micro- precision, recall, f1\n",
    "precision=precision_score(ytest, predictions, average='micro')\n",
    "recall=recall_score(ytest, predictions, average='micro')\n",
    "f1=f1_score(ytest, predictions, average='micro')\n",
    "\n",
    "#print precision, recall, f1 scores \n",
    "print(\"\\n Micro-average\")\n",
    "print(\"Precision: {:.4f}, Recall: {:.4f}, F1: {:.4f}\".format(precision, recall, f1))\n"
   ]
  },
  {
   "cell_type": "code",
   "execution_count": 140,
   "metadata": {},
   "outputs": [
    {
     "name": "stdout",
     "output_type": "stream",
     "text": [
      "\n",
      " Macro-average\n",
      "Precision: 0.6936, Recall: 0.6975, F1-measure: 0.6924\n",
      "\n",
      "Classification Report\n",
      "              precision    recall  f1-score   support\n",
      "\n",
      "           0       0.67      0.67      0.67       964\n",
      "           1       0.67      0.70      0.68       775\n",
      "           2       0.59      0.63      0.61       749\n",
      "           3       0.64      0.68      0.66       644\n",
      "           4       0.61      0.61      0.61       945\n",
      "           5       0.97      0.89      0.93      1791\n",
      "           6       0.43      0.62      0.51       448\n",
      "           7       0.77      0.75      0.76      1020\n",
      "           8       0.88      0.72      0.79      1538\n",
      "\n",
      "   micro avg       0.74      0.72      0.73      8874\n",
      "   macro avg       0.69      0.70      0.69      8874\n",
      "weighted avg       0.75      0.72      0.74      8874\n",
      " samples avg       0.74      0.74      0.72      8874\n",
      "\n"
     ]
    }
   ],
   "source": [
    "#macro- precision, recall, f1 for micro avarage\n",
    "precision=precision_score(ytest, predictions, average='macro')\n",
    "recall=recall_score(ytest, predictions, average='macro')\n",
    "f1=f1_score(ytest, predictions, average='macro')\n",
    " \n",
    "#print precision, recall, f1 scores for micro avarage  \n",
    "print(\"\\n Macro-average\")\n",
    "print(\"Precision: {:.4f}, Recall: {:.4f}, F1-measure: {:.4f}\".format(precision, recall, f1))\n",
    "\n",
    "#print classification report of the multiple labels\n",
    "print(\"\\nClassification Report\")\n",
    "print (metrics.classification_report(ytest, predictions))"
   ]
  },
  {
   "cell_type": "markdown",
   "metadata": {},
   "source": [
    "### 5.6 Decision Tree Classifier"
   ]
  },
  {
   "cell_type": "code",
   "execution_count": 141,
   "metadata": {},
   "outputs": [
    {
     "data": {
      "text/plain": [
       "dict_keys(['class_weight', 'criterion', 'max_depth', 'max_features', 'max_leaf_nodes', 'min_impurity_decrease', 'min_impurity_split', 'min_samples_leaf', 'min_samples_split', 'min_weight_fraction_leaf', 'presort', 'random_state', 'splitter'])"
      ]
     },
     "execution_count": 141,
     "metadata": {},
     "output_type": "execute_result"
    }
   ],
   "source": [
    "DecisionTreeClassifier().get_params().keys()"
   ]
  },
  {
   "cell_type": "code",
   "execution_count": 142,
   "metadata": {},
   "outputs": [
    {
     "name": "stdout",
     "output_type": "stream",
     "text": [
      "OneVsRestClassifier(estimator=DecisionTreeClassifier(class_weight='balanced',\n",
      "                                                     criterion='gini',\n",
      "                                                     max_depth=50,\n",
      "                                                     max_features=None,\n",
      "                                                     max_leaf_nodes=None,\n",
      "                                                     min_impurity_decrease=0.0,\n",
      "                                                     min_impurity_split=None,\n",
      "                                                     min_samples_leaf=1,\n",
      "                                                     min_samples_split=500,\n",
      "                                                     min_weight_fraction_leaf=0.0,\n",
      "                                                     presort=False,\n",
      "                                                     random_state=None,\n",
      "                                                     splitter='best'),\n",
      "                    n_jobs=-1)\n",
      "Best Cross Validation Score:  0.654433861202667\n",
      "\n",
      " Accuracy : 0.023006955591225255\n",
      "Hamming loss  0.35669698591046906\n",
      "\n",
      " Micro-average\n",
      "Precision: 0.6651, Recall: 0.6524, F1: 0.6587\n"
     ]
    }
   ],
   "source": [
    "param= {'estimator__max_depth':[50,100,200,300,500,1000],\n",
    "              'estimator__min_samples_split':[100,200,300,500]} #parameter grid\n",
    "\n",
    "\n",
    "#Optimal depth and split by grid search \n",
    "DT_clf = OneVsRestClassifier(DecisionTreeClassifier(class_weight='balanced'), n_jobs=-1)\n",
    "DTree = GridSearchCV(DT_clf, param, scoring = 'f1_micro', cv=5)\n",
    "\n",
    "#fit and print best estimator  & CV Score\n",
    "DTree.fit(X_train, ytrain)\n",
    "print(DTree.best_estimator_)\n",
    "print(\"Best Cross Validation Score: \",DTree.best_score_)\n",
    "\n",
    "#fit tuned clf on test set and gather accuracy and hamming loss\n",
    "predictions = DTree.predict(X_test)\n",
    "print(\"\\n Accuracy :\",metrics.accuracy_score(ytest, predictions))\n",
    "print(\"Hamming loss \",metrics.hamming_loss(ytest,predictions))\n",
    "\n",
    "#micro- precision, recall, f1\n",
    "precision=precision_score(ytest, predictions, average='micro')\n",
    "recall=recall_score(ytest, predictions, average='micro')\n",
    "f1=f1_score(ytest, predictions, average='micro')\n",
    "\n",
    "#print precision, recall, f1 scores \n",
    "print(\"\\n Micro-average\")\n",
    "print(\"Precision: {:.4f}, Recall: {:.4f}, F1: {:.4f}\".format(precision, recall, f1))\n"
   ]
  },
  {
   "cell_type": "code",
   "execution_count": 143,
   "metadata": {},
   "outputs": [
    {
     "name": "stdout",
     "output_type": "stream",
     "text": [
      "\n",
      " Macro-average\n",
      "Precision: 0.6441, Recall: 0.6414, F1-measure: 0.6213\n",
      "\n",
      "Classification Report\n",
      "              precision    recall  f1-score   support\n",
      "\n",
      "           0       0.58      0.82      0.68       964\n",
      "           1       0.62      0.62      0.62       775\n",
      "           2       0.58      0.41      0.48       749\n",
      "           3       0.55      0.69      0.61       644\n",
      "           4       0.60      0.38      0.47       945\n",
      "           5       0.97      0.75      0.85      1791\n",
      "           6       0.31      0.78      0.45       448\n",
      "           7       0.73      0.63      0.68      1020\n",
      "           8       0.86      0.70      0.77      1538\n",
      "\n",
      "   micro avg       0.67      0.65      0.66      8874\n",
      "   macro avg       0.64      0.64      0.62      8874\n",
      "weighted avg       0.71      0.65      0.67      8874\n",
      " samples avg       0.67      0.66      0.65      8874\n",
      "\n"
     ]
    }
   ],
   "source": [
    "#macro- precision, recall, f1 for micro avarage\n",
    "precision=precision_score(ytest, predictions, average='macro')\n",
    "recall=recall_score(ytest, predictions, average='macro')\n",
    "f1=f1_score(ytest, predictions, average='macro')\n",
    " \n",
    "#print precision, recall, f1 scores for micro avarage  \n",
    "print(\"\\n Macro-average\")\n",
    "print(\"Precision: {:.4f}, Recall: {:.4f}, F1-measure: {:.4f}\".format(precision, recall, f1))\n",
    "\n",
    "#print classification report of the multiple labels\n",
    "print(\"\\nClassification Report\")\n",
    "print (metrics.classification_report(ytest, predictions))"
   ]
  },
  {
   "cell_type": "markdown",
   "metadata": {},
   "source": [
    "# 6. Model performance summary"
   ]
  },
  {
   "cell_type": "code",
   "execution_count": 144,
   "metadata": {},
   "outputs": [
    {
     "name": "stdout",
     "output_type": "stream",
     "text": [
      "+-------+------------------------+----------+--------------+-----------+--------+----------------+\n",
      "| Sl No |         Model          | CV Score | Hamming Loss | Precision | Recall | F1[Micro Avg.] |\n",
      "+-------+------------------------+----------+--------------+-----------+--------+----------------+\n",
      "|   1   |     MultinomialNB      |   0.76   |     0.25     |    0.77   |  0.75  |      0.76      |\n",
      "|   2   |  Logistic Regression   |   0.72   |     0.29     |    0.72   |  0.73  |      0.73      |\n",
      "|       |                        |          |              |           |        |                |\n",
      "|       |                        |          |              |           |        |                |\n",
      "|   3   |  SGDClassifierLogLoss  |   0.72   |     0.29     |    0.73   |  0.72  |      0.73      |\n",
      "|   4   | SGDClassifierHingeLoss |   0.71   |     0.29     |    0.73   |  0.71  |      0.72      |\n",
      "|       |                        |          |              |           |        |                |\n",
      "|       |                        |          |              |           |        |                |\n",
      "|   5   |       LinearSVM        |   0.72   |     0.28     |    0.74   |  0.72  |      0.73      |\n",
      "|   6   |     Decision Tree      |   0.65   |     0.36     |    0.67   |  0.65  |      0.66      |\n",
      "+-------+------------------------+----------+--------------+-----------+--------+----------------+\n"
     ]
    }
   ],
   "source": [
    "#summary of the different models\n",
    "PTTable.field_names = [\"Sl No\", \"Model\", \"CV Score\", \"Hamming Loss\",\"Precision\",\"Recall\",\"F1[Micro Avg.]\"]\n",
    "PTTable.add_row([1, \"MultinomialNB\", 0.76,0.25,0.77,0.75,0.76])\n",
    "PTTable.add_row([2, \"Logistic Regression\", 0.72, 0.29,0.72,0.73,0.73])\n",
    "PTTable.add_row([\"\\n\",\"\\n\",\"\\n\",\"\\n\",\"\\n\",\"\\n\",\"\"])\n",
    "PTTable.add_row([3, \"SGDClassifierLogLoss\", 0.72, 0.29,0.73,0.72,0.73])\n",
    "PTTable.add_row([4, \"SGDClassifierHingeLoss\", 0.71,0.29,0.73,0.71,0.72])\n",
    "PTTable.add_row([\"\\n\",\"\\n\",\"\\n\",\"\\n\",\"\\n\",\"\\n\",\"\"])\n",
    "PTTable.add_row([5, \"LinearSVM\", 0.72,0.28,0.74,0.72,0.73])\n",
    "PTTable.add_row([6, \"Decision Tree\",0.65,0.36,0.67,0.65,0.66])\n",
    "\n",
    "\n",
    "print(PTTable)"
   ]
  },
  {
   "cell_type": "markdown",
   "metadata": {},
   "source": [
    "# 7. Save model and predict"
   ]
  },
  {
   "cell_type": "code",
   "execution_count": 145,
   "metadata": {},
   "outputs": [],
   "source": [
    "# save best model\n",
    "# filename = 'Multinomial_NB.pickle'\n",
    "# pickle.dump(Multinomial_NB, open(filename, 'wb'))"
   ]
  },
  {
   "cell_type": "code",
   "execution_count": 153,
   "metadata": {},
   "outputs": [],
   "source": [
    "# List of stop words [and, it, the, is, of, or, ...]\n",
    "STOPWORDS=set(stopwords.words('english'))  \n",
    "# Construct a lemmatizer for finding base words\n",
    "lemmatizer=WordNetLemmatizer()\n",
    "# Helper word map to find better base words than base lemmatizer \n",
    "wordnet_map={\"N\":wordnet.NOUN, \"V\":wordnet.VERB, \"J\":wordnet.ADJ, \"R\":wordnet.ADV}"
   ]
  },
  {
   "cell_type": "code",
   "execution_count": 154,
   "metadata": {},
   "outputs": [],
   "source": [
    "filename = 'model.pickle'\n",
    "what_to_pickle = {\n",
    "    'model': Multinomial_NB,\n",
    "    'stopwords': STOPWORDS,\n",
    "    'lemmatizer': lemmatizer,\n",
    "    'wordnet_map': wordnet_map,\n",
    "    'vectorizer': vectorizer\n",
    "}\n",
    "\n",
    "pickle.dump(what_to_pickle, open(filename, 'wb'))"
   ]
  },
  {
   "cell_type": "code",
   "execution_count": 155,
   "metadata": {},
   "outputs": [],
   "source": [
    "#prediction pipeline with text vectorizer and model\n",
    "def prediction(text_input, STOPWORDS, lemmatizer, wordnet_map, vectorizer, Multinomial_NB):\n",
    "    \n",
    "    # Transform words to lower case\n",
    "    text=text_input.lower()\n",
    "    # Remove punctuation\n",
    "    text=re.sub('[^a-zA-Z]', ' ', text)\n",
    "    # Remove tags\n",
    "    text=re.sub(\"&lt;/?.*?&gt;\",\" &lt;&gt; \",text)\n",
    "    # Remove special characters and digits\n",
    "    text=re.sub(\"(\\\\d|\\\\W)+\",\" \",text)\n",
    "    # Remove stop words like : and is a and the\n",
    "    text=\" \".join([word for word in text.split() if word not in STOPWORDS])\n",
    "    # Find base word for all words in the sentence\n",
    "    pos_tagged_text=nltk.pos_tag(text.split())\n",
    "    text=\" \".join([lemmatizer.lemmatize(word, wordnet_map.get(pos[0], wordnet.NOUN)) for word, pos in pos_tagged_text])\n",
    "    \n",
    "    # specific\n",
    "    text = re.sub(r\"won\\'t\", \"will not\", text); text = re.sub(r\"can\\'t\", \"can not\", text)\n",
    "    # general\n",
    "    text = re.sub(r\"n\\'t\", \" not\", text); text = re.sub(r\"\\'re\", \" are\", text)\n",
    "    text = re.sub(r\"\\'s\", \" is\", text); text = re.sub(r\"\\'d\", \" would\", text)\n",
    "    text = re.sub(r\"\\'ll\", \" will\", text); text = re.sub(r\"\\'t\", \" not\", text)\n",
    "    text = re.sub(r\"\\'ve\", \" have\", text); text = re.sub(r\"\\'m\", \" am\", text)\n",
    "    print(text)\n",
    "    text = np.array(text).reshape(1,)\n",
    "    vec_text = vectorizer.transform(text)\n",
    "    output = Multinomial_NB.predict(vec_text)\n",
    "    \n",
    "    #creating dataframe\n",
    "    cols = ['text','emotion_0','emotion_1','emotion_2','emotion_3','emotion_4',\n",
    "            'emotion_5','emotion_6','emotion_7','emotion_8']\n",
    "    vals = [[text_input] + list(output[0])]\n",
    "    df = pd.DataFrame(vals, columns=cols)\n",
    "    \n",
    "    return df\n"
   ]
  },
  {
   "cell_type": "code",
   "execution_count": 156,
   "metadata": {},
   "outputs": [
    {
     "name": "stdout",
     "output_type": "stream",
     "text": [
      "Myanmar coup: Dozens killed as army opens fire on protesters during deadliest day.Security forces were out in strength trying to prevent rallies.Local news site Myanmar Now put the death toll at 114, while the United Nations said it was receiving reports of scores killed and hundreds more injured.\n"
     ]
    }
   ],
   "source": [
    "#Source[BBC]: https://www.bbc.com/news/world-asia-56546920\n",
    "text_input= \"Myanmar coup: Dozens killed as army opens fire on protesters during deadliest day.Security forces were out in strength trying to prevent rallies.Local news site Myanmar Now put the death toll at 114, while the United Nations said it was receiving reports of scores killed and hundreds more injured.\"\n",
    "print(text_input)"
   ]
  },
  {
   "cell_type": "code",
   "execution_count": 157,
   "metadata": {},
   "outputs": [
    {
     "name": "stdout",
     "output_type": "stream",
     "text": [
      "myanmar coup dozen kill army open fire protester deadliest day security force strength try prevent rally local news site myanmar put death toll united nation say receive report score kill hundred injure\n"
     ]
    },
    {
     "data": {
      "text/html": [
       "<div>\n",
       "<style scoped>\n",
       "    .dataframe tbody tr th:only-of-type {\n",
       "        vertical-align: middle;\n",
       "    }\n",
       "\n",
       "    .dataframe tbody tr th {\n",
       "        vertical-align: top;\n",
       "    }\n",
       "\n",
       "    .dataframe thead th {\n",
       "        text-align: right;\n",
       "    }\n",
       "</style>\n",
       "<table border=\"1\" class=\"dataframe\">\n",
       "  <thead>\n",
       "    <tr style=\"text-align: right;\">\n",
       "      <th></th>\n",
       "      <th>text</th>\n",
       "      <th>emotion_0</th>\n",
       "      <th>emotion_1</th>\n",
       "      <th>emotion_2</th>\n",
       "      <th>emotion_3</th>\n",
       "      <th>emotion_4</th>\n",
       "      <th>emotion_5</th>\n",
       "      <th>emotion_6</th>\n",
       "      <th>emotion_7</th>\n",
       "      <th>emotion_8</th>\n",
       "    </tr>\n",
       "  </thead>\n",
       "  <tbody>\n",
       "    <tr>\n",
       "      <td>0</td>\n",
       "      <td>Myanmar coup: Dozens killed as army opens fire...</td>\n",
       "      <td>0</td>\n",
       "      <td>1</td>\n",
       "      <td>0</td>\n",
       "      <td>0</td>\n",
       "      <td>0</td>\n",
       "      <td>1</td>\n",
       "      <td>0</td>\n",
       "      <td>1</td>\n",
       "      <td>0</td>\n",
       "    </tr>\n",
       "  </tbody>\n",
       "</table>\n",
       "</div>"
      ],
      "text/plain": [
       "                                                text  emotion_0  emotion_1  emotion_2  emotion_3  emotion_4  emotion_5  emotion_6  emotion_7  emotion_8\n",
       "0  Myanmar coup: Dozens killed as army opens fire...          0          1          0          0          0          1          0          1          0"
      ]
     },
     "execution_count": 157,
     "metadata": {},
     "output_type": "execute_result"
    }
   ],
   "source": [
    "#Prediction output\n",
    "output= prediction(text_input, STOPWORDS, lemmatizer, wordnet_map, vectorizer, Multinomial_NB)\n",
    "output"
   ]
  },
  {
   "cell_type": "markdown",
   "metadata": {},
   "source": [
    "The new input text can be classfied within emotions: 1,5 and 7"
   ]
  },
  {
   "cell_type": "code",
   "execution_count": null,
   "metadata": {},
   "outputs": [],
   "source": []
  },
  {
   "cell_type": "code",
   "execution_count": null,
   "metadata": {},
   "outputs": [],
   "source": []
  }
 ],
 "metadata": {
  "kernelspec": {
   "display_name": "Python 3",
   "language": "python",
   "name": "python3"
  },
  "language_info": {
   "codemirror_mode": {
    "name": "ipython",
    "version": 3
   },
   "file_extension": ".py",
   "mimetype": "text/x-python",
   "name": "python",
   "nbconvert_exporter": "python",
   "pygments_lexer": "ipython3",
   "version": "3.7.4"
  },
  "varInspector": {
   "cols": {
    "lenName": 16,
    "lenType": 16,
    "lenVar": 40
   },
   "kernels_config": {
    "python": {
     "delete_cmd_postfix": "",
     "delete_cmd_prefix": "del ",
     "library": "var_list.py",
     "varRefreshCmd": "print(var_dic_list())"
    },
    "r": {
     "delete_cmd_postfix": ") ",
     "delete_cmd_prefix": "rm(",
     "library": "var_list.r",
     "varRefreshCmd": "cat(var_dic_list()) "
    }
   },
   "types_to_exclude": [
    "module",
    "function",
    "builtin_function_or_method",
    "instance",
    "_Feature"
   ],
   "window_display": false
  }
 },
 "nbformat": 4,
 "nbformat_minor": 4
}
