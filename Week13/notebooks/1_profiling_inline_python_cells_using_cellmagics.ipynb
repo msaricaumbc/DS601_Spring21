{
 "cells": [
  {
   "cell_type": "markdown",
   "metadata": {},
   "source": [
    "# Profile Python"
   ]
  },
  {
   "cell_type": "markdown",
   "metadata": {},
   "source": [
    "https://jakevdp.github.io/PythonDataScienceHandbook/01.07-timing-and-profiling.html summary:\n",
    "\n",
    "* `%time`: Time the execution of a single statement\n",
    "* `%timeit`: Time repeated execution of a single statement for more accuracy\n",
    "* `%prun`: Run code with the profiler\n",
    "* `%lprun`: Run code with the line-by-line profiler\n",
    "* `%memit`: Measure the memory use of a single statement\n",
    "* `%mprun`: Run code with the line-by-line memory profiler\n",
    "\n",
    "See also <BR>\n",
    "http://codedelish.com/resources/Python/profiling.html<BR>\n",
    "http://pynash.org/2013/03/06/timing-and-profiling/"
   ]
  },
  {
   "cell_type": "code",
   "execution_count": 5,
   "metadata": {},
   "outputs": [
    {
     "name": "stdout",
     "output_type": "stream",
     "text": [
      "3.7.4 (default, Aug 13 2019, 15:17:50) \n",
      "[Clang 4.0.1 (tags/RELEASE_401/final)]\n"
     ]
    }
   ],
   "source": [
    "import sys\n",
    "print(sys.version)"
   ]
  },
  {
   "cell_type": "code",
   "execution_count": 5,
   "metadata": {},
   "outputs": [
    {
     "name": "stdout",
     "output_type": "stream",
     "text": [
      "Requirement already satisfied: line-profiler in /Users/msarica/.local/lib/python3.7/site-packages (2.1.1)\n",
      "Requirement already satisfied: IPython>=0.13 in /Users/msarica/anaconda3/lib/python3.7/site-packages (from line-profiler) (7.8.0)\n",
      "Requirement already satisfied: backcall in /Users/msarica/anaconda3/lib/python3.7/site-packages (from IPython>=0.13->line-profiler) (0.1.0)\n",
      "Requirement already satisfied: decorator in /Users/msarica/anaconda3/lib/python3.7/site-packages (from IPython>=0.13->line-profiler) (4.4.0)\n",
      "Requirement already satisfied: pickleshare in /Users/msarica/anaconda3/lib/python3.7/site-packages (from IPython>=0.13->line-profiler) (0.7.5)\n",
      "Requirement already satisfied: pygments in /Users/msarica/anaconda3/lib/python3.7/site-packages (from IPython>=0.13->line-profiler) (2.4.2)\n",
      "Requirement already satisfied: setuptools>=18.5 in /Users/msarica/anaconda3/lib/python3.7/site-packages (from IPython>=0.13->line-profiler) (41.4.0)\n",
      "Requirement already satisfied: appnope in /Users/msarica/anaconda3/lib/python3.7/site-packages (from IPython>=0.13->line-profiler) (0.1.0)\n",
      "Requirement already satisfied: pexpect in /Users/msarica/anaconda3/lib/python3.7/site-packages (from IPython>=0.13->line-profiler) (4.7.0)\n",
      "Requirement already satisfied: jedi>=0.10 in /Users/msarica/anaconda3/lib/python3.7/site-packages (from IPython>=0.13->line-profiler) (0.15.1)\n",
      "Requirement already satisfied: prompt-toolkit<2.1.0,>=2.0.0 in /Users/msarica/anaconda3/lib/python3.7/site-packages (from IPython>=0.13->line-profiler) (2.0.10)\n",
      "Requirement already satisfied: traitlets>=4.2 in /Users/msarica/anaconda3/lib/python3.7/site-packages (from IPython>=0.13->line-profiler) (4.3.3)\n",
      "Requirement already satisfied: parso>=0.5.0 in /Users/msarica/anaconda3/lib/python3.7/site-packages (from jedi>=0.10->IPython>=0.13->line-profiler) (0.5.1)\n",
      "Requirement already satisfied: six>=1.9.0 in /Users/msarica/anaconda3/lib/python3.7/site-packages (from prompt-toolkit<2.1.0,>=2.0.0->IPython>=0.13->line-profiler) (1.15.0)\n",
      "Requirement already satisfied: wcwidth in /Users/msarica/anaconda3/lib/python3.7/site-packages (from prompt-toolkit<2.1.0,>=2.0.0->IPython>=0.13->line-profiler) (0.1.7)\n",
      "Requirement already satisfied: ipython-genutils in /Users/msarica/anaconda3/lib/python3.7/site-packages (from traitlets>=4.2->IPython>=0.13->line-profiler) (0.2.0)\n",
      "Requirement already satisfied: ptyprocess>=0.5 in /Users/msarica/anaconda3/lib/python3.7/site-packages (from pexpect->IPython>=0.13->line-profiler) (0.6.0)\n",
      "Requirement already satisfied: psutil in /Users/msarica/anaconda3/lib/python3.7/site-packages (5.6.3)\n",
      "Requirement already satisfied: memory_profiler in /Users/msarica/anaconda3/lib/python3.7/site-packages (0.58.0)\n",
      "Requirement already satisfied: psutil in /Users/msarica/anaconda3/lib/python3.7/site-packages (from memory_profiler) (5.6.3)\n"
     ]
    }
   ],
   "source": [
    "!pip install line-profiler # if you are using a mac, there is an issue https://github.com/rkern/line_profiler/issues/132\n",
    "!pip install psutil\n",
    "!pip install memory_profiler"
   ]
  },
  {
   "cell_type": "code",
   "execution_count": 4,
   "metadata": {},
   "outputs": [
    {
     "name": "stdout",
     "output_type": "stream",
     "text": [
      "Cloning into 'line_profiler'...\n",
      "remote: Enumerating objects: 348, done.\u001b[K\n",
      "remote: Total 348 (delta 0), reused 0 (delta 0), pack-reused 348\u001b[K\n",
      "\u001b[KReceiving objects: 100% (348/348), 154.88 KiB | 3.23 MiB/s, done.\n",
      "\u001b[KResolving deltas: 100% (166/166), done.\n",
      "/Users/msarica/anaconda3/lib/python3.7/site-packages/Cython/Compiler/Main.py:369: FutureWarning: Cython directive 'language_level' not set, using 2 for now (Py2). This will change in a later release! File: /Users/msarica/Desktop/UMBC/DS601_Spring21/Week13/notebooks/line_profiler/_line_profiler.pyx\n",
      "  tree = Parsing.p_module(s, pxd, full_module_name)\n",
      "Processing /Users/msarica/Desktop/UMBC/DS601_Spring21/Week13/notebooks/line_profiler\n",
      "Requirement already satisfied: IPython>=0.13 in /Users/msarica/anaconda3/lib/python3.7/site-packages (from line-profiler==2.1.1) (7.8.0)\n",
      "Requirement already satisfied: pygments in /Users/msarica/anaconda3/lib/python3.7/site-packages (from IPython>=0.13->line-profiler==2.1.1) (2.4.2)\n",
      "Requirement already satisfied: jedi>=0.10 in /Users/msarica/anaconda3/lib/python3.7/site-packages (from IPython>=0.13->line-profiler==2.1.1) (0.15.1)\n",
      "Requirement already satisfied: prompt-toolkit<2.1.0,>=2.0.0 in /Users/msarica/anaconda3/lib/python3.7/site-packages (from IPython>=0.13->line-profiler==2.1.1) (2.0.10)\n",
      "Requirement already satisfied: setuptools>=18.5 in /Users/msarica/anaconda3/lib/python3.7/site-packages (from IPython>=0.13->line-profiler==2.1.1) (41.4.0)\n",
      "Requirement already satisfied: traitlets>=4.2 in /Users/msarica/anaconda3/lib/python3.7/site-packages (from IPython>=0.13->line-profiler==2.1.1) (4.3.3)\n",
      "Requirement already satisfied: decorator in /Users/msarica/anaconda3/lib/python3.7/site-packages (from IPython>=0.13->line-profiler==2.1.1) (4.4.0)\n",
      "Requirement already satisfied: appnope in /Users/msarica/anaconda3/lib/python3.7/site-packages (from IPython>=0.13->line-profiler==2.1.1) (0.1.0)\n",
      "Requirement already satisfied: backcall in /Users/msarica/anaconda3/lib/python3.7/site-packages (from IPython>=0.13->line-profiler==2.1.1) (0.1.0)\n",
      "Requirement already satisfied: pickleshare in /Users/msarica/anaconda3/lib/python3.7/site-packages (from IPython>=0.13->line-profiler==2.1.1) (0.7.5)\n",
      "Requirement already satisfied: pexpect in /Users/msarica/anaconda3/lib/python3.7/site-packages (from IPython>=0.13->line-profiler==2.1.1) (4.7.0)\n",
      "Requirement already satisfied: parso>=0.5.0 in /Users/msarica/anaconda3/lib/python3.7/site-packages (from jedi>=0.10->IPython>=0.13->line-profiler==2.1.1) (0.5.1)\n",
      "Requirement already satisfied: wcwidth in /Users/msarica/anaconda3/lib/python3.7/site-packages (from prompt-toolkit<2.1.0,>=2.0.0->IPython>=0.13->line-profiler==2.1.1) (0.1.7)\n",
      "Requirement already satisfied: six>=1.9.0 in /Users/msarica/anaconda3/lib/python3.7/site-packages (from prompt-toolkit<2.1.0,>=2.0.0->IPython>=0.13->line-profiler==2.1.1) (1.15.0)\n",
      "Requirement already satisfied: ipython-genutils in /Users/msarica/anaconda3/lib/python3.7/site-packages (from traitlets>=4.2->IPython>=0.13->line-profiler==2.1.1) (0.2.0)\n",
      "Requirement already satisfied: ptyprocess>=0.5 in /Users/msarica/anaconda3/lib/python3.7/site-packages (from pexpect->IPython>=0.13->line-profiler==2.1.1) (0.6.0)\n",
      "Building wheels for collected packages: line-profiler\n",
      "  Building wheel for line-profiler (setup.py) ... \u001b[?25ldone\n",
      "\u001b[?25h  Created wheel for line-profiler: filename=line_profiler-2.1.1-cp37-cp37m-macosx_10_9_x86_64.whl size=55093 sha256=5cf26cac3a8adaa1b17fc02bdedda8a639e900c1635175cbd3144695fcc8e215\n",
      "  Stored in directory: /private/var/folders/lj/kp1zv9lj6nx6pdndvtmq5lcm0000gn/T/pip-ephem-wheel-cache-icgy6f2l/wheels/c3/2b/82/aff44ecf35c94b12778306e1ff03363ab55a50daebd78844ca\n",
      "Successfully built line-profiler\n",
      "Installing collected packages: line-profiler\n",
      "\u001b[33m  WARNING: The script kernprof is installed in '/Users/msarica/.local/bin' which is not on PATH.\n",
      "  Consider adding this directory to PATH or, if you prefer to suppress this warning, use --no-warn-script-location.\n",
      "  NOTE: The current PATH contains path(s) starting with `~`, which may not be expanded by all applications.\u001b[0m\n",
      "Successfully installed line-profiler-2.1.1\n"
     ]
    }
   ],
   "source": [
    "# # if you are using a mac, do the following instead of \n",
    "# !git clone https://github.com/rkern/line_profiler.git\n",
    "# !find line_profiler -name '*.pyx' -exec cython {} \\;\n",
    "# !cd line_profiler && pip install . --user "
   ]
  },
  {
   "cell_type": "markdown",
   "metadata": {},
   "source": [
    "two functions that we will profile"
   ]
  },
  {
   "cell_type": "code",
   "execution_count": 6,
   "metadata": {},
   "outputs": [],
   "source": [
    "def mult_by(inpt):\n",
    "    \"\"\"\n",
    "    a simple function that is not complicated\n",
    "    \"\"\"\n",
    "    avalu = inpt*2\n",
    "    avalu+=1\n",
    "    return\n",
    "\n",
    "def primes(n=1000): \n",
    "    \"\"\"\n",
    "    A more complicated function to be profiled\n",
    "    \n",
    "    An underdocumented function with an unclear purpose\n",
    "    in-line comments added by Ben\n",
    "    \"\"\"\n",
    "    A = [True] * (n+1) # the name of this array is not descriptive :(\n",
    "    A[0] = False # there is no reasoning provided about why this would be \n",
    "    A[1] = False # no reasoning :(\n",
    "    for i in range(2, int(n**0.5)): # I dislike single-letter variable names\n",
    "        if A[i]: # again, this is difficult to reason about, both in terms of A and i\n",
    "            mult_by(i) # not actually relevant to determining a prime number\n",
    "            for j in range(i**2, n+1, i): # how did the author come up with this?\n",
    "                A[j] = False\n",
    "\n",
    "    return [x for x in range(2, n) if A[x]] # for me this is challenging to reason about"
   ]
  },
  {
   "cell_type": "markdown",
   "metadata": {},
   "source": [
    "# analysis in three parts\n",
    "1. total time\n",
    "1. time per function\n",
    "1. time per line in a specific function"
   ]
  },
  {
   "cell_type": "code",
   "execution_count": null,
   "metadata": {},
   "outputs": [],
   "source": []
  },
  {
   "cell_type": "markdown",
   "metadata": {},
   "source": [
    "# total time spent in execution using `time` magic function \n",
    "\n",
    "see https://ipython.readthedocs.io/en/stable/interactive/magics.html"
   ]
  },
  {
   "cell_type": "markdown",
   "metadata": {},
   "source": [
    "How long does execution of a function take?\n",
    "\n",
    "`%time` applies to a single line of code"
   ]
  },
  {
   "cell_type": "code",
   "execution_count": 7,
   "metadata": {},
   "outputs": [
    {
     "data": {
      "text/plain": [
       "[2, 3, 5, 7, 11, 13, 17, 19]"
      ]
     },
     "execution_count": 7,
     "metadata": {},
     "output_type": "execute_result"
    }
   ],
   "source": [
    "primes(20) "
   ]
  },
  {
   "cell_type": "code",
   "execution_count": 8,
   "metadata": {},
   "outputs": [
    {
     "name": "stdout",
     "output_type": "stream",
     "text": [
      "CPU times: user 14 µs, sys: 1e+03 ns, total: 15 µs\n",
      "Wall time: 17.2 µs\n"
     ]
    },
    {
     "data": {
      "text/plain": [
       "[2, 3, 5, 7, 11, 13, 17, 19]"
      ]
     },
     "execution_count": 8,
     "metadata": {},
     "output_type": "execute_result"
    }
   ],
   "source": [
    "%time primes(20) # call a function and provide an argument"
   ]
  },
  {
   "cell_type": "markdown",
   "metadata": {},
   "source": [
    "for \"microseconds\" (us, 1E-6) versus \"milliseconds\" (ms, 1E-3), see https://en.wikipedia.org/wiki/Metric_prefix#List_of_SI_prefixes\n",
    "\n",
    "user versus system versus total: see https://en.wikipedia.org/wiki/CPU_time#Subdivision\n",
    "\n",
    "We humans care about \"wall time\"; see https://en.wikipedia.org/wiki/Elapsed_real_time\n",
    "\n",
    "<BR>\n",
    "    \n",
    "Similarly, `%%time` applies to the entire cell"
   ]
  },
  {
   "cell_type": "code",
   "execution_count": 9,
   "metadata": {},
   "outputs": [
    {
     "name": "stdout",
     "output_type": "stream",
     "text": [
      "CPU times: user 35 µs, sys: 0 ns, total: 35 µs\n",
      "Wall time: 37.9 µs\n"
     ]
    },
    {
     "data": {
      "text/plain": [
       "[2, 3, 5, 7, 11, 13, 17, 19, 23, 25, 29]"
      ]
     },
     "execution_count": 9,
     "metadata": {},
     "output_type": "execute_result"
    }
   ],
   "source": [
    "%%time \n",
    "primes(20)\n",
    "primes(30)"
   ]
  },
  {
   "cell_type": "markdown",
   "metadata": {},
   "source": [
    "Although the two calls to `primes()` do output text, the display is overwritten by `time`\n",
    "\n",
    "Displaying output skews measurement results for cell execution, so best practice is to store output to a variable"
   ]
  },
  {
   "cell_type": "code",
   "execution_count": 10,
   "metadata": {},
   "outputs": [
    {
     "name": "stdout",
     "output_type": "stream",
     "text": [
      "CPU times: user 15 µs, sys: 1e+03 ns, total: 16 µs\n",
      "Wall time: 18.8 µs\n"
     ]
    }
   ],
   "source": [
    "%time reslt=primes(20)"
   ]
  },
  {
   "cell_type": "markdown",
   "metadata": {},
   "source": [
    "There's not much difference between times for multiple executions, but the variance increases when the duration is longer"
   ]
  },
  {
   "cell_type": "code",
   "execution_count": 11,
   "metadata": {},
   "outputs": [
    {
     "name": "stdout",
     "output_type": "stream",
     "text": [
      "CPU times: user 154 ms, sys: 5.12 ms, total: 160 ms\n",
      "Wall time: 158 ms\n",
      "length of array: 78498\n"
     ]
    }
   ],
   "source": [
    "%time reslt=primes(1000000)\n",
    "\n",
    "print('length of array:',len(reslt))"
   ]
  },
  {
   "cell_type": "markdown",
   "metadata": {},
   "source": [
    "To run multiple timing test, use `%timeit`"
   ]
  },
  {
   "cell_type": "code",
   "execution_count": 12,
   "metadata": {},
   "outputs": [
    {
     "name": "stdout",
     "output_type": "stream",
     "text": [
      "131 ms ± 10.8 ms per loop (mean ± std. dev. of 7 runs, 10 loops each)\n"
     ]
    }
   ],
   "source": [
    "%timeit reslt=primes(1000000)"
   ]
  },
  {
   "cell_type": "markdown",
   "metadata": {},
   "source": [
    "Want to capture the output of `timeit` to a variable? See https://stackoverflow.com/questions/24812253/how-can-i-capture-return-value-with-python-timeit-module"
   ]
  },
  {
   "cell_type": "markdown",
   "metadata": {},
   "source": [
    "# time spent per function using `cProfile`\n",
    "\n",
    "https://docs.python.org/3/library/profile.html"
   ]
  },
  {
   "cell_type": "code",
   "execution_count": 13,
   "metadata": {},
   "outputs": [],
   "source": [
    "import cProfile"
   ]
  },
  {
   "cell_type": "code",
   "execution_count": 14,
   "metadata": {},
   "outputs": [
    {
     "name": "stdout",
     "output_type": "stream",
     "text": [
      "         451 function calls in 1.978 seconds\n",
      "\n",
      "   Ordered by: standard name\n",
      "\n",
      "   ncalls  tottime  percall  cumtime  percall filename:lineno(function)\n",
      "      446    0.000    0.000    0.000    0.000 <ipython-input-6-2fc7f0ed043d>:1(mult_by)\n",
      "        1    0.416    0.416    0.416    0.416 <ipython-input-6-2fc7f0ed043d>:25(<listcomp>)\n",
      "        1    1.534    1.534    1.951    1.951 <ipython-input-6-2fc7f0ed043d>:9(primes)\n",
      "        1    0.027    0.027    1.978    1.978 <string>:1(<module>)\n",
      "        1    0.000    0.000    1.978    1.978 {built-in method builtins.exec}\n",
      "        1    0.000    0.000    0.000    0.000 {method 'disable' of '_lsprof.Profiler' objects}\n",
      "\n",
      "\n"
     ]
    }
   ],
   "source": [
    "cProfile.run('primes(10000000)')"
   ]
  },
  {
   "cell_type": "markdown",
   "metadata": {},
   "source": [
    "* `ncalls`:       How many times it was called\n",
    "* `tottime`:      for the total time spent in the given function (and excluding time made in calls to sub-functions)\n",
    "* `percall`:      is the quotient of tottime divided by ncalls\n",
    "* `cumtime`:      is the cumulative time spent in this and all subfunctions (from invocation till exit). This figure is accurate even for recursive functions.\n",
    "* `percall`:      is the quotient of cumtime divided by primitive calls\n",
    "* `filename:lineno(function)`:    provides the respective data of each function"
   ]
  },
  {
   "cell_type": "markdown",
   "metadata": {},
   "source": [
    "# time spent per line within specified function"
   ]
  },
  {
   "cell_type": "markdown",
   "metadata": {},
   "source": [
    "https://nyu-cds.github.io/python-performance-tuning/03-line_profiler/\n",
    "    \n",
    "https://jakevdp.github.io/PythonDataScienceHandbook/01.07-timing-and-profiling.html"
   ]
  },
  {
   "cell_type": "code",
   "execution_count": 15,
   "metadata": {},
   "outputs": [],
   "source": [
    "%load_ext line_profiler"
   ]
  },
  {
   "cell_type": "code",
   "execution_count": 16,
   "metadata": {},
   "outputs": [],
   "source": [
    "%lprun?"
   ]
  },
  {
   "cell_type": "markdown",
   "metadata": {},
   "source": [
    "Profile the lines of the `prime` function"
   ]
  },
  {
   "cell_type": "code",
   "execution_count": 17,
   "metadata": {},
   "outputs": [],
   "source": [
    "%lprun -f primes primes(10000)"
   ]
  },
  {
   "cell_type": "markdown",
   "metadata": {},
   "source": [
    "profile `mult_by` function when `primes()` is executed"
   ]
  },
  {
   "cell_type": "code",
   "execution_count": 18,
   "metadata": {},
   "outputs": [],
   "source": [
    "%lprun -f mult_by primes(10000)"
   ]
  },
  {
   "cell_type": "markdown",
   "metadata": {},
   "source": [
    "* `Line #`: The line number in the code\n",
    "* `Hits`: The number of times that line was executed\n",
    "* `Time`: The total amount of time spent executing the line in the timer’s units\n",
    "* `Per Hit`: The average amount of time spent executing the line once in the timer’s unit\n",
    "* `% Time`: The percentage of time spent on that line relative to the total amount of recorded time spent in the function\n",
    "* `Line Contents`: The actual source code of the line"
   ]
  },
  {
   "cell_type": "markdown",
   "metadata": {},
   "source": [
    "line_profiler generates profiles based on the lines in a program.\n",
    "\n",
    "Line based profiling can provide more information about where a program is performing badly."
   ]
  },
  {
   "cell_type": "code",
   "execution_count": null,
   "metadata": {},
   "outputs": [],
   "source": []
  },
  {
   "cell_type": "code",
   "execution_count": null,
   "metadata": {},
   "outputs": [],
   "source": []
  }
 ],
 "metadata": {
  "kernelspec": {
   "display_name": "Python 3",
   "language": "python",
   "name": "python3"
  },
  "language_info": {
   "codemirror_mode": {
    "name": "ipython",
    "version": 3
   },
   "file_extension": ".py",
   "mimetype": "text/x-python",
   "name": "python",
   "nbconvert_exporter": "python",
   "pygments_lexer": "ipython3",
   "version": "3.7.4"
  },
  "varInspector": {
   "cols": {
    "lenName": 16,
    "lenType": 16,
    "lenVar": 40
   },
   "kernels_config": {
    "python": {
     "delete_cmd_postfix": "",
     "delete_cmd_prefix": "del ",
     "library": "var_list.py",
     "varRefreshCmd": "print(var_dic_list())"
    },
    "r": {
     "delete_cmd_postfix": ") ",
     "delete_cmd_prefix": "rm(",
     "library": "var_list.r",
     "varRefreshCmd": "cat(var_dic_list()) "
    }
   },
   "types_to_exclude": [
    "module",
    "function",
    "builtin_function_or_method",
    "instance",
    "_Feature"
   ],
   "window_display": false
  }
 },
 "nbformat": 4,
 "nbformat_minor": 2
}
