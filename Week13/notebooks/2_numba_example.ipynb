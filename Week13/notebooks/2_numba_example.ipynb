{
 "cells": [
  {
   "cell_type": "markdown",
   "metadata": {},
   "source": [
    "https://stackoverflow.com/questions/51903350/python-vs-matlab-performance-on-algorithm"
   ]
  },
  {
   "cell_type": "markdown",
   "metadata": {},
   "source": [
    "First we measure the scaling of the serial implementation\n",
    "\n",
    "_Performance enhancement 1_: use Numba within a single array"
   ]
  },
  {
   "cell_type": "code",
   "execution_count": 1,
   "metadata": {},
   "outputs": [
    {
     "name": "stdout",
     "output_type": "stream",
     "text": [
      "MS.local\r\n"
     ]
    }
   ],
   "source": [
    "!hostname"
   ]
  },
  {
   "cell_type": "code",
   "execution_count": 2,
   "metadata": {},
   "outputs": [],
   "source": [
    "import numpy as np\n",
    "import time\n",
    "import matplotlib.pyplot as plt"
   ]
  },
  {
   "cell_type": "markdown",
   "metadata": {},
   "source": [
    "For Numpy, set how floating-point errors are handled.\n",
    "    \n",
    "https://docs.scipy.org/doc/numpy/reference/generated/numpy.seterr.html"
   ]
  },
  {
   "cell_type": "code",
   "execution_count": 3,
   "metadata": {},
   "outputs": [
    {
     "data": {
      "text/plain": [
       "{'divide': 'warn', 'over': 'warn', 'under': 'ignore', 'invalid': 'warn'}"
      ]
     },
     "execution_count": 3,
     "metadata": {},
     "output_type": "execute_result"
    }
   ],
   "source": [
    "np.seterr(divide='ignore', invalid='ignore')"
   ]
  },
  {
   "cell_type": "markdown",
   "metadata": {},
   "source": [
    "# original code to be profiled optimized\n",
    "The following is merely a computationally expective function"
   ]
  },
  {
   "cell_type": "code",
   "execution_count": 4,
   "metadata": {},
   "outputs": [],
   "source": [
    "# https://github.com/nikdon/pyEntropy\n",
    "def sample_entropy(time_series, sample_length, tolerance=None):\n",
    "    \"\"\"Calculate and return Sample Entropy of the given time series.\n",
    "    Distance between two vectors defined as Euclidean distance and can\n",
    "    be changed in future releases\n",
    "    Args:\n",
    "        time_series: Vector or string of the sample data\n",
    "        sample_length: Number of sequential points of the time series\n",
    "        tolerance: Tolerance (default = 0.1...0.2 * std(time_series))\n",
    "    Returns:\n",
    "        Vector containing Sample Entropy (float)\n",
    "    References:\n",
    "        [1] http://en.wikipedia.org/wiki/Sample_Entropy\n",
    "        [2] http://physionet.incor.usp.br/physiotools/sampen/\n",
    "        [3] Madalena Costa, Ary Goldberger, CK Peng. Multiscale entropy analysis\n",
    "            of biological signals\n",
    "    \"\"\"\n",
    "    if tolerance is None:\n",
    "        tolerance = 0.1 * np.std(time_series)\n",
    "\n",
    "    n = len(time_series)\n",
    "    prev = np.zeros(n)\n",
    "    curr = np.zeros(n)\n",
    "    A = np.zeros((sample_length, 1))  # number of matches for m = [1,...,template_length - 1]\n",
    "    B = np.zeros((sample_length, 1))  # number of matches for m = [1,...,template_length]\n",
    "\n",
    "    for i in range(n - 1):\n",
    "        nj = n - i - 1\n",
    "        ts1 = time_series[i]\n",
    "        for jj in range(nj):\n",
    "            j = jj + i + 1\n",
    "            if abs(time_series[j] - ts1) < tolerance:  # distance between two vectors\n",
    "                curr[jj] = prev[jj] + 1\n",
    "                temp_ts_length = min(sample_length, curr[jj])\n",
    "                for m in range(int(temp_ts_length)):\n",
    "                    A[m] += 1\n",
    "                    if j < n - 1:\n",
    "                        B[m] += 1\n",
    "            else:\n",
    "                curr[jj] = 0\n",
    "        for j in range(nj):\n",
    "            prev[j] = curr[j]\n",
    "\n",
    "    N = n * (n - 1) / 2\n",
    "    B = np.vstack(([N], B[:sample_length - 1]))\n",
    "    similarity_ratio = A / B\n",
    "    se = - np.log(similarity_ratio)\n",
    "    se = np.reshape(se, -1)\n",
    "    return se"
   ]
  },
  {
   "cell_type": "markdown",
   "metadata": {},
   "source": [
    "# profile code\n",
    "\n",
    "In order to optimize effectively, need to understand where hot spots are\n"
   ]
  },
  {
   "cell_type": "markdown",
   "metadata": {},
   "source": [
    "## start with function profiling\n",
    "Conclusion: Most of the time is spent in \"sample_entropy\""
   ]
  },
  {
   "cell_type": "code",
   "execution_count": 5,
   "metadata": {},
   "outputs": [],
   "source": [
    "%prun?"
   ]
  },
  {
   "cell_type": "code",
   "execution_count": 6,
   "metadata": {},
   "outputs": [
    {
     "name": "stdout",
     "output_type": "stream",
     "text": [
      " "
     ]
    }
   ],
   "source": [
    "a = np.random.rand(1, 100)[0]\n",
    "\n",
    "%prun -s tottime sample_entropy(a, 4, 0.1 * np.std(a))"
   ]
  },
  {
   "cell_type": "markdown",
   "metadata": {},
   "source": [
    "## after determining function hot spot, use line profiling\n",
    "\n",
    "Once we know that the majority of time is spent in \"Sample entropy\", investigate which lines are consuming most of the CPU time\n",
    "\n",
    "https://ipython-books.github.io/43-profiling-your-code-line-by-line-with-line_profiler/"
   ]
  },
  {
   "cell_type": "code",
   "execution_count": 8,
   "metadata": {},
   "outputs": [],
   "source": [
    "# !pip install line_profiler # we already did this in 1_..."
   ]
  },
  {
   "cell_type": "code",
   "execution_count": 9,
   "metadata": {},
   "outputs": [],
   "source": [
    "%load_ext line_profiler"
   ]
  },
  {
   "cell_type": "code",
   "execution_count": 10,
   "metadata": {},
   "outputs": [],
   "source": [
    "a = np.random.rand(1, 100)[0]\n",
    "\n",
    "%lprun -f sample_entropy sample_entropy(a, 4, 0.1 * np.std(a))"
   ]
  },
  {
   "cell_type": "markdown",
   "metadata": {},
   "source": [
    "We can see there are some lines that are taking most of the time (primarily the lines inside the loop). \n",
    "\n",
    "Therefore, when attempting to optimize the implementation, focus on those lines"
   ]
  },
  {
   "cell_type": "markdown",
   "metadata": {},
   "source": [
    "## scaling of serial function\n",
    "\n",
    "Before we try to make the code faster, start by measuring how the code scales as the size of the input increase"
   ]
  },
  {
   "cell_type": "code",
   "execution_count": 11,
   "metadata": {},
   "outputs": [
    {
     "name": "stdout",
     "output_type": "stream",
     "text": [
      "100 : 0.007067203521728516 seconds\n",
      "100 : 0.0065801143646240234 seconds\n",
      "100 : 0.006600379943847656 seconds\n",
      "1000 : 0.4781510829925537 seconds\n",
      "1000 : 0.46221399307250977 seconds\n",
      "1000 : 0.461456298828125 seconds\n",
      "2000 : 1.9636569023132324 seconds\n",
      "2000 : 1.9655771255493164 seconds\n",
      "2000 : 1.793503999710083 seconds\n"
     ]
    }
   ],
   "source": [
    "num_tests=3 # number of measurements for each array size\n",
    "serial_original_timing_dict={}\n",
    "serial_original_reslt_dict={}\n",
    "for arry_size in [100,1000,2000]:#,5000,10000]:  # vary the array size\n",
    "    reslt_ary=[]\n",
    "    for test_indx in range(num_tests): # take multiple measurements for each array size\n",
    "        a = np.random.rand(1, arry_size)[0] # create array of given size\n",
    "        start_time = time.time() # start timer\n",
    "        outp=sample_entropy(a, 4, 0.1 * np.std(a)) # call computationally expensive function\n",
    "        elapsed_time = time.time() - start_time # how long did that take?\n",
    "        serial_original_reslt_dict[(arry_size,test_indx)]=outp\n",
    "        print(arry_size,':',elapsed_time,'seconds')\n",
    "        reslt_ary.append(elapsed_time)\n",
    "    # store the average of the 3 runs\n",
    "    serial_original_timing_dict[arry_size]=sum(reslt_ary)/num_tests"
   ]
  },
  {
   "cell_type": "code",
   "execution_count": 12,
   "metadata": {},
   "outputs": [
    {
     "data": {
      "text/plain": [
       "{100: 0.0067492326100667315,\n",
       " 1000: 0.4672737916310628,\n",
       " 2000: 1.9075793425242107}"
      ]
     },
     "execution_count": 12,
     "metadata": {},
     "output_type": "execute_result"
    }
   ],
   "source": [
    "serial_original_timing_dict"
   ]
  },
  {
   "cell_type": "code",
   "execution_count": 13,
   "metadata": {},
   "outputs": [],
   "source": [
    "# unpacking operator * -- see https://realpython.com/python-kwargs-and-args/#unpacking-with-the-asterisk-operators\n",
    "# see https://realpython.com/python-zip-function/\n",
    "x_orig,y_orig=zip(*serial_original_timing_dict.items())"
   ]
  },
  {
   "cell_type": "code",
   "execution_count": 14,
   "metadata": {},
   "outputs": [
    {
     "data": {
      "text/plain": [
       "(100, 1000, 2000)"
      ]
     },
     "execution_count": 14,
     "metadata": {},
     "output_type": "execute_result"
    }
   ],
   "source": [
    "x_orig # array size"
   ]
  },
  {
   "cell_type": "code",
   "execution_count": 15,
   "metadata": {},
   "outputs": [
    {
     "data": {
      "text/plain": [
       "(0.0067492326100667315, 0.4672737916310628, 1.9075793425242107)"
      ]
     },
     "execution_count": 15,
     "metadata": {},
     "output_type": "execute_result"
    }
   ],
   "source": [
    "y_orig # time in seconds"
   ]
  },
  {
   "cell_type": "code",
   "execution_count": 16,
   "metadata": {},
   "outputs": [
    {
     "data": {
      "text/plain": [
       "array([ 4.88742945e-07, -2.59232856e-05,  4.45413171e-03])"
      ]
     },
     "execution_count": 16,
     "metadata": {},
     "output_type": "execute_result"
    }
   ],
   "source": [
    "z_orig = np.polyfit(x_orig, y_orig, 2) # fit data points with second order polynomial -- https://docs.scipy.org/doc/numpy/reference/generated/numpy.polyfit.html\n",
    "z_orig # coefficients of the second order polynomial"
   ]
  },
  {
   "cell_type": "code",
   "execution_count": 17,
   "metadata": {},
   "outputs": [
    {
     "name": "stdout",
     "output_type": "stream",
     "text": [
      "f =\n",
      "            2\n",
      "4.887e-07 x - 2.592e-05 x + 0.004454\n"
     ]
    }
   ],
   "source": [
    "f_orig = np.poly1d(z_orig) # convenience function for polynomials -- https://docs.scipy.org/doc/numpy/reference/generated/numpy.poly1d.html\n",
    "print('f =\\n',f_orig)"
   ]
  },
  {
   "cell_type": "code",
   "execution_count": 18,
   "metadata": {},
   "outputs": [],
   "source": [
    "x_orig_filled_in = np.linspace(0, 10000, 50) # https://docs.scipy.org/doc/numpy/reference/generated/numpy.linspace.html\n",
    "y_orig_filled_in = f_orig(x_orig_filled_in)"
   ]
  },
  {
   "cell_type": "code",
   "execution_count": 19,
   "metadata": {},
   "outputs": [
    {
     "data": {
      "image/png": "[encoded data removed]",
      "text/plain": [
       "<Figure size 432x288 with 1 Axes>"
      ]
     },
     "metadata": {
      "needs_background": "light"
     },
     "output_type": "display_data"
    }
   ],
   "source": [
    "_=plt.plot(x_orig,y_orig,'o', x_orig_filled_in, y_orig_filled_in)\n",
    "#plt.scatter(x,y)\n",
    "plt.ylabel('time [seconds]')\n",
    "plt.xlabel('array size')\n",
    "plt.title('serial; original')\n",
    "plt.show()"
   ]
  },
  {
   "cell_type": "markdown",
   "metadata": {},
   "source": [
    "# _optimization attempt_: replace `for` loop with `list comprehension`\n",
    "    \n",
    "According to line profiling, 30% of time is spent in a for loop that could be converted to a lambda function. Let's see what the performance enhancement is due to that change"
   ]
  },
  {
   "cell_type": "code",
   "execution_count": 20,
   "metadata": {},
   "outputs": [],
   "source": [
    "# https://github.com/nikdon/pyEntropy\n",
    "def sample_entropy(time_series, sample_length, tolerance=None):\n",
    "    \"\"\"Calculate and return Sample Entropy of the given time series.\n",
    "    Distance between two vectors defined as Euclidean distance and can\n",
    "    be changed in future releases\n",
    "    Args:\n",
    "        time_series: Vector or string of the sample data\n",
    "        sample_length: Number of sequential points of the time series\n",
    "        tolerance: Tolerance (default = 0.1...0.2 * std(time_series))\n",
    "    Returns:\n",
    "        Vector containing Sample Entropy (float)\n",
    "    References:\n",
    "        [1] http://en.wikipedia.org/wiki/Sample_Entropy\n",
    "        [2] http://physionet.incor.usp.br/physiotools/sampen/\n",
    "        [3] Madalena Costa, Ary Goldberger, CK Peng. Multiscale entropy analysis\n",
    "            of biological signals\n",
    "    \"\"\"\n",
    "    if tolerance is None:\n",
    "        tolerance = 0.1 * np.std(time_series)\n",
    "\n",
    "    n = len(time_series)\n",
    "    prev = np.zeros(n)\n",
    "    curr = np.zeros(n)\n",
    "    A = np.zeros((sample_length, 1))  # number of matches for m = [1,...,template_length - 1]\n",
    "    B = np.zeros((sample_length, 1))  # number of matches for m = [1,...,template_length]\n",
    "\n",
    "    for i in range(n - 1):\n",
    "        nj = n - i - 1\n",
    "        ts1 = time_series[i]\n",
    "        for jj in range(nj):\n",
    "            j = jj + i + 1\n",
    "            if abs(time_series[j] - ts1) < tolerance:  # distance between two vectors\n",
    "                curr[jj] = prev[jj] + 1\n",
    "                temp_ts_length = min(sample_length, curr[jj])\n",
    "                for m in range(int(temp_ts_length)):\n",
    "                    A[m] += 1\n",
    "                    if j < n - 1:\n",
    "                        B[m] += 1\n",
    "            else:\n",
    "                curr[jj] = 0\n",
    "#        for j in range(nj):                  # original\n",
    "#            prev[j] = curr[j]\n",
    "        prev = [curr[j] for j in range(nj)]   # list comprehension\n",
    "\n",
    "    N = n * (n - 1) / 2\n",
    "    B = np.vstack(([N], B[:sample_length - 1]))\n",
    "    similarity_ratio = A / B\n",
    "    se = - np.log(similarity_ratio)\n",
    "    se = np.reshape(se, -1)\n",
    "    return se"
   ]
  },
  {
   "cell_type": "code",
   "execution_count": 21,
   "metadata": {},
   "outputs": [],
   "source": [
    "a = np.random.rand(1, 100)[0]\n",
    "%lprun -f sample_entropy sample_entropy(a, 4, 0.1 * np.std(a))"
   ]
  },
  {
   "cell_type": "code",
   "execution_count": 22,
   "metadata": {},
   "outputs": [
    {
     "name": "stdout",
     "output_type": "stream",
     "text": [
      "100 : 0.006812334060668945 seconds\n",
      "100 : 0.006201028823852539 seconds\n",
      "100 : 0.0062007904052734375 seconds\n",
      "1000 : 0.4628119468688965 seconds\n",
      "1000 : 0.4406101703643799 seconds\n",
      "1000 : 0.46392297744750977 seconds\n",
      "2000 : 1.8212227821350098 seconds\n",
      "2000 : 1.7606921195983887 seconds\n",
      "2000 : 1.7503440380096436 seconds\n"
     ]
    }
   ],
   "source": [
    "num_tests=3\n",
    "serial_lambda_timing_dict={}\n",
    "serial_lambda_reslt_dict={}\n",
    "for arry_size in [100,1000,2000]:#,5000,10000]:\n",
    "    reslt_ary=[]\n",
    "    for test_indx in range(num_tests):\n",
    "        a = np.random.rand(1, arry_size)[0]\n",
    "        start_time = time.time()\n",
    "        outp=sample_entropy(a, 4, 0.1 * np.std(a))\n",
    "        elapsed_time = time.time() - start_time\n",
    "        serial_lambda_reslt_dict[(arry_size,test_indx)]=outp\n",
    "        print(arry_size,':',elapsed_time,'seconds')\n",
    "        reslt_ary.append(elapsed_time)\n",
    "    serial_lambda_timing_dict[arry_size]=sum(reslt_ary)/num_tests"
   ]
  },
  {
   "cell_type": "code",
   "execution_count": 23,
   "metadata": {},
   "outputs": [
    {
     "data": {
      "text/plain": [
       "{100: 0.006404717763264974, 1000: 0.4557816982269287, 2000: 1.777419646581014}"
      ]
     },
     "execution_count": 23,
     "metadata": {},
     "output_type": "execute_result"
    }
   ],
   "source": [
    "serial_lambda_timing_dict"
   ]
  },
  {
   "cell_type": "markdown",
   "metadata": {},
   "source": [
    "--> Slightly faster, but not significant"
   ]
  },
  {
   "cell_type": "code",
   "execution_count": 24,
   "metadata": {},
   "outputs": [],
   "source": [
    "x_lambda,y_lambda=zip(*serial_lambda_timing_dict.items())"
   ]
  },
  {
   "cell_type": "code",
   "execution_count": 25,
   "metadata": {},
   "outputs": [
    {
     "name": "stdout",
     "output_type": "stream",
     "text": [
      "f =\n",
      "            2\n",
      "4.328e-07 x + 2.322e-05 x - 0.0002455\n"
     ]
    }
   ],
   "source": [
    "z_lambda = np.polyfit(x_lambda, y_lambda, 2)\n",
    "f_lambda = np.poly1d(z_lambda)\n",
    "print('f =\\n',f_lambda)\n",
    "x_lambda_filled_in = np.linspace(0, 10000, 50)\n",
    "y_lambda_filled_in = f_lambda(x_lambda_filled_in)"
   ]
  },
  {
   "cell_type": "code",
   "execution_count": 26,
   "metadata": {},
   "outputs": [
    {
     "data": {
      "image/png": "[encoded data removed]",
      "text/plain": [
       "<Figure size 432x288 with 1 Axes>"
      ]
     },
     "metadata": {
      "needs_background": "light"
     },
     "output_type": "display_data"
    }
   ],
   "source": [
    "_=plt.plot(x_lambda,y_lambda,'o', x_lambda_filled_in, y_lambda_filled_in)\n",
    "#plt.scatter(x,y)\n",
    "plt.ylabel('time [seconds]')\n",
    "plt.xlabel('array size')\n",
    "plt.title('serial; lambda')\n",
    "plt.show()"
   ]
  },
  {
   "cell_type": "code",
   "execution_count": 27,
   "metadata": {},
   "outputs": [
    {
     "data": {
      "image/png": "[encoded data removed]",
      "text/plain": [
       "<Figure size 432x288 with 1 Axes>"
      ]
     },
     "metadata": {
      "needs_background": "light"
     },
     "output_type": "display_data"
    }
   ],
   "source": [
    "_=plt.plot(x_lambda,y_lambda,'o', x_lambda_filled_in, y_lambda_filled_in)\n",
    "_=plt.plot(x_orig,y_orig,'o', x_orig_filled_in, y_orig_filled_in)\n",
    "#plt.scatter(x,y)\n",
    "plt.ylabel('time [seconds]')\n",
    "plt.xlabel('array size')\n",
    "plt.title('serial; lambda')\n",
    "plt.show()"
   ]
  },
  {
   "cell_type": "markdown",
   "metadata": {},
   "source": [
    "_Side note; this path is not explored_:<BR>\n",
    "as far as I understand, in order to use joblib, need to change the for loop to a generator:<BR>\n",
    "https://joblib.readthedocs.io/en/latest/parallel.html#parallel<BR>\n",
    "\"The core idea is to write the code to be executed as a generator expression, and convert it to parallel computing"
   ]
  },
  {
   "cell_type": "markdown",
   "metadata": {},
   "source": [
    "## compare output of original and lambda-based"
   ]
  },
  {
   "cell_type": "markdown",
   "metadata": {},
   "source": [
    "--> I don't know how to interpret the outputs, so I don't know whether the comparisons are acceptable"
   ]
  },
  {
   "cell_type": "code",
   "execution_count": 28,
   "metadata": {},
   "outputs": [
    {
     "data": {
      "text/plain": [
       "{(100, 0): array([2.74509147, 2.91617964, 2.83321334,        inf]),\n",
       " (100, 1): array([2.88674199, 3.04817875,        inf,        nan]),\n",
       " (100, 2): array([2.84766064, 2.86931835, 2.01490302,        inf]),\n",
       " (1000, 0): array([2.86591648, 2.87582198, 3.07119068, 2.51230562]),\n",
       " (1000, 1): array([2.88340509, 2.90151484, 2.77914612, 2.47443535]),\n",
       " (1000, 2): array([2.880582  , 2.93139941, 2.88634761, 2.8094027 ]),\n",
       " (2000, 0): array([2.84369631, 2.82411112, 2.88242431, 3.12262403]),\n",
       " (2000, 1): array([2.85814334, 2.85056512, 2.84430515, 2.86220088]),\n",
       " (2000, 2): array([2.86189077, 2.876322  , 2.93900629, 3.0563569 ])}"
      ]
     },
     "execution_count": 28,
     "metadata": {},
     "output_type": "execute_result"
    }
   ],
   "source": [
    "serial_original_reslt_dict"
   ]
  },
  {
   "cell_type": "code",
   "execution_count": 29,
   "metadata": {},
   "outputs": [
    {
     "data": {
      "text/plain": [
       "{(100, 0): array([2.91243148, 2.9216243 ,        inf,        nan]),\n",
       " (100, 1): array([2.85465368, 3.06626242, 2.48490665,        inf]),\n",
       " (100, 2): array([2.86523578, 3.04452244, 2.56494936,        inf]),\n",
       " (1000, 0): array([2.85768656, 2.88035289, 2.87982248, 3.11351531]),\n",
       " (1000, 1): array([2.87669988, 2.91634724, 3.02240052,        inf]),\n",
       " (1000, 2): array([2.85479593, 2.86487097, 2.85304051, 2.75153531]),\n",
       " (2000, 0): array([2.87046026, 2.88086618, 2.8409733 , 2.91506437]),\n",
       " (2000, 1): array([2.86473912, 2.86596421, 2.91761628, 2.7668907 ]),\n",
       " (2000, 2): array([2.87174983, 2.88597545, 2.83798435, 2.77258872])}"
      ]
     },
     "execution_count": 29,
     "metadata": {},
     "output_type": "execute_result"
    }
   ],
   "source": [
    "serial_lambda_reslt_dict"
   ]
  },
  {
   "cell_type": "markdown",
   "metadata": {},
   "source": [
    "# optimization attempt: fine-grain concurrency: Numba\n",
    "### Numba = JIT compiler that translates Python and NumPy code into machine code\n",
    "\n",
    "https://numba.pydata.org/numba-doc/dev/user/performance-tips.html\n",
    "\n",
    "https://numba.pydata.org/numba-doc/latest/user/parallel.html\n",
    "https://numba.pydata.org/numba-doc/latest/user/jit.html#parallel-jit-option"
   ]
  },
  {
   "cell_type": "code",
   "execution_count": 30,
   "metadata": {},
   "outputs": [],
   "source": [
    "import numba as nb"
   ]
  },
  {
   "cell_type": "code",
   "execution_count": 31,
   "metadata": {},
   "outputs": [
    {
     "name": "stdout",
     "output_type": "stream",
     "text": [
      "0.45.1\n"
     ]
    }
   ],
   "source": [
    "print(nb.__version__)"
   ]
  },
  {
   "cell_type": "code",
   "execution_count": 32,
   "metadata": {},
   "outputs": [],
   "source": [
    "# https://numba.pydata.org/numba-doc/dev/reference/envvars.html#numba-envvars\n",
    "import os\n",
    "\n",
    "# If set to non-zero, printout of Numba warnings is enabled, otherwise the warnings are suppressed. The warnings can give insight into the compilation process.\n",
    "os.environ[\"NUMBA_WARNINGS\"] = \"1\"\n"
   ]
  },
  {
   "cell_type": "markdown",
   "metadata": {},
   "source": [
    "I recommend playing around with the various arguments to figure out which combination is best\n",
    "\n",
    "https://realpython.com/primer-on-python-decorators/<BR>\n",
    "https://www.geeksforgeeks.org/decorators-in-python/"
   ]
  },
  {
   "cell_type": "code",
   "execution_count": 33,
   "metadata": {},
   "outputs": [],
   "source": [
    "# this is the only modification to the function -- use of a decorator\n",
    "@nb.jit(fastmath=True,error_model='numpy',parallel=True,nopython=True)\n",
    "def sample_entropy(time_series, sample_length, tolerance=None):\n",
    "    \"\"\"Calculate and return Sample Entropy of the given time series.\n",
    "    Distance between two vectors defined as Euclidean distance and can\n",
    "    be changed in future releases\n",
    "    Args:\n",
    "        time_series: Vector or string of the sample data\n",
    "        sample_length: Number of sequential points of the time series\n",
    "        tolerance: Tolerance (default = 0.1...0.2 * std(time_series))\n",
    "    Returns:\n",
    "        Vector containing Sample Entropy (float)\n",
    "    References:\n",
    "        [1] http://en.wikipedia.org/wiki/Sample_Entropy\n",
    "        [2] http://physionet.incor.usp.br/physiotools/sampen/\n",
    "        [3] Madalena Costa, Ary Goldberger, CK Peng. Multiscale entropy analysis\n",
    "            of biological signals\n",
    "    \"\"\"\n",
    "    if tolerance is None:\n",
    "        tolerance = 0.1 * np.std(time_series)\n",
    "\n",
    "    n = len(time_series)\n",
    "    prev = np.zeros(n)\n",
    "    curr = np.zeros(n)\n",
    "    A = np.zeros((sample_length))  # number of matches for m = [1,...,template_length - 1]\n",
    "    B = np.zeros((sample_length))  # number of matches for m = [1,...,template_length]\n",
    "\n",
    "    for i in range(n - 1):\n",
    "        nj = n - i - 1\n",
    "        ts1 = time_series[i]\n",
    "        for jj in range(nj):\n",
    "            j = jj + i + 1\n",
    "            if abs(time_series[j] - ts1) < tolerance:  # distance between two vectors\n",
    "                curr[jj] = prev[jj] + 1\n",
    "                temp_ts_length = min(sample_length, curr[jj])\n",
    "                for m in range(int(temp_ts_length)):\n",
    "                    A[m] += 1\n",
    "                    if j < n - 1:\n",
    "                        B[m] += 1\n",
    "            else:\n",
    "                curr[jj] = 0\n",
    "        for j in range(nj):\n",
    "            prev[j] = curr[j]\n",
    "\n",
    "    N = n * (n - 1) // 2\n",
    "\n",
    "    B2=np.empty(sample_length)\n",
    "    B2[0]=N\n",
    "    B2[1:]=B[:sample_length - 1]\n",
    "    similarity_ratio = A / B2\n",
    "    se = - np.log(similarity_ratio)\n",
    "    return se"
   ]
  },
  {
   "cell_type": "raw",
   "metadata": {},
   "source": [
    "# https://numba.pydata.org/numba-doc/0.17.0/user/troubleshoot.html#troubleshooting\n",
    "sample_entropy.inspect_types()"
   ]
  },
  {
   "cell_type": "code",
   "execution_count": 34,
   "metadata": {},
   "outputs": [
    {
     "name": "stdout",
     "output_type": "stream",
     "text": [
      "100 : 2.3554067611694336 seconds\n",
      "100 : 0.00043511390686035156 seconds\n",
      "100 : 0.0001399517059326172 seconds\n",
      "1000 : 0.0016040802001953125 seconds\n",
      "1000 : 0.0013370513916015625 seconds\n",
      "1000 : 0.0011897087097167969 seconds\n",
      "5000 : 0.026727914810180664 seconds\n",
      "5000 : 0.025064945220947266 seconds\n",
      "5000 : 0.02519512176513672 seconds\n",
      "10000 : 0.10138607025146484 seconds\n",
      "10000 : 0.10489797592163086 seconds\n",
      "10000 : 0.11962413787841797 seconds\n",
      "50000 : 2.788696050643921 seconds\n",
      "50000 : 2.788231134414673 seconds\n",
      "50000 : 2.790757179260254 seconds\n",
      "100000 : 11.260524988174438 seconds\n",
      "100000 : 11.612228155136108 seconds\n",
      "100000 : 11.865181922912598 seconds\n"
     ]
    }
   ],
   "source": [
    "num_tests=3\n",
    "numba_reslt_dict={}\n",
    "for arry_size in [100,1000,5000,10000,50000,100000]:\n",
    "    reslt_ary=[]\n",
    "    for test_indx in range(num_tests):\n",
    "        a = np.random.rand(1, arry_size)[0]\n",
    "        start_time = time.time()\n",
    "        sample_entropy(a, 4, 0.1 * np.std(a))\n",
    "        elapsed_time = time.time() - start_time\n",
    "        print(arry_size,':',elapsed_time,'seconds')\n",
    "        reslt_ary.append(elapsed_time)\n",
    "    numba_reslt_dict[arry_size]=sum(reslt_ary)/num_tests"
   ]
  },
  {
   "cell_type": "code",
   "execution_count": 35,
   "metadata": {},
   "outputs": [
    {
     "data": {
      "image/png": "[encoded data removed]",
      "text/plain": [
       "<Figure size 432x288 with 1 Axes>"
      ]
     },
     "metadata": {
      "needs_background": "light"
     },
     "output_type": "display_data"
    }
   ],
   "source": [
    "x_numba,y_numba=zip(*numba_reslt_dict.items())\n",
    "plt.scatter(x_numba,y_numba)\n",
    "plt.ylabel('time [seconds]')\n",
    "plt.xlabel('array size')\n",
    "plt.show()"
   ]
  },
  {
   "cell_type": "code",
   "execution_count": 36,
   "metadata": {},
   "outputs": [],
   "source": [
    "z_numba = np.polyfit(x_numba, y_numba, 2)"
   ]
  },
  {
   "cell_type": "code",
   "execution_count": 37,
   "metadata": {},
   "outputs": [
    {
     "name": "stdout",
     "output_type": "stream",
     "text": [
      "           2\n",
      "1.296e-09 x - 1.634e-05 x + 0.273\n"
     ]
    }
   ],
   "source": [
    "f_numba = np.poly1d(z_numba)\n",
    "print(f_numba)"
   ]
  },
  {
   "cell_type": "code",
   "execution_count": 38,
   "metadata": {},
   "outputs": [],
   "source": [
    "x_numba_filled_in = np.linspace(0, 100000, 50)\n",
    "y_numba_filled_in = f_numba(x_numba_filled_in)"
   ]
  },
  {
   "cell_type": "code",
   "execution_count": 39,
   "metadata": {},
   "outputs": [
    {
     "data": {
      "image/png": "[encoded data removed]",
      "text/plain": [
       "<Figure size 432x288 with 1 Axes>"
      ]
     },
     "metadata": {
      "needs_background": "light"
     },
     "output_type": "display_data"
    }
   ],
   "source": [
    "_=plt.plot(x_numba,y_numba,'o', x_numba_filled_in, y_numba_filled_in)\n",
    "_=plt.ylabel('time [seconds]')\n",
    "_=plt.xlabel('array size')"
   ]
  },
  {
   "cell_type": "code",
   "execution_count": 40,
   "metadata": {},
   "outputs": [
    {
     "data": {
      "image/png": "[encoded data removed]",
      "text/plain": [
       "<Figure size 432x288 with 1 Axes>"
      ]
     },
     "metadata": {
      "needs_background": "light"
     },
     "output_type": "display_data"
    }
   ],
   "source": [
    "_=plt.plot(x_numba,y_numba,'o', x_numba_filled_in, y_numba_filled_in)\n",
    "_=plt.plot(x_lambda,y_lambda,'o', x_lambda_filled_in, y_lambda_filled_in)\n",
    "_=plt.plot(x_orig,y_orig,'o', x_orig_filled_in, y_orig_filled_in)\n",
    "_=plt.ylabel('time [seconds]')\n",
    "_=plt.xlabel('array size')"
   ]
  },
  {
   "cell_type": "code",
   "execution_count": 41,
   "metadata": {},
   "outputs": [
    {
     "name": "stdout",
     "output_type": "stream",
     "text": [
      "677710.7990299999 seconds\n"
     ]
    }
   ],
   "source": [
    "x=18000000 # array size\n",
    "print((2.092e-09*x*x) - (5.401e-06*x) + 0.01703,'seconds')"
   ]
  },
  {
   "cell_type": "markdown",
   "metadata": {},
   "source": [
    "677710.7990299999 seconds = 8 days"
   ]
  },
  {
   "cell_type": "code",
   "execution_count": 42,
   "metadata": {},
   "outputs": [
    {
     "name": "stdout",
     "output_type": "stream",
     "text": [
      "1.7377999999999998 seconds\n"
     ]
    }
   ],
   "source": [
    "x=30000 # array size\n",
    "print((2.092e-09*x*x) - (5.401e-06*x) + 0.01703,'seconds')"
   ]
  },
  {
   "cell_type": "code",
   "execution_count": null,
   "metadata": {},
   "outputs": [],
   "source": []
  }
 ],
 "metadata": {
  "kernelspec": {
   "display_name": "Python 3",
   "language": "python",
   "name": "python3"
  },
  "language_info": {
   "codemirror_mode": {
    "name": "ipython",
    "version": 3
   },
   "file_extension": ".py",
   "mimetype": "text/x-python",
   "name": "python",
   "nbconvert_exporter": "python",
   "pygments_lexer": "ipython3",
   "version": "3.7.4"
  },
  "varInspector": {
   "cols": {
    "lenName": 16,
    "lenType": 16,
    "lenVar": 40
   },
   "kernels_config": {
    "python": {
     "delete_cmd_postfix": "",
     "delete_cmd_prefix": "del ",
     "library": "var_list.py",
     "varRefreshCmd": "print(var_dic_list())"
    },
    "r": {
     "delete_cmd_postfix": ") ",
     "delete_cmd_prefix": "rm(",
     "library": "var_list.r",
     "varRefreshCmd": "cat(var_dic_list()) "
    }
   },
   "types_to_exclude": [
    "module",
    "function",
    "builtin_function_or_method",
    "instance",
    "_Feature"
   ],
   "window_display": false
  }
 },
 "nbformat": 4,
 "nbformat_minor": 2
}
