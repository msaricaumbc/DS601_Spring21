{
 "cells": [
  {
   "cell_type": "markdown",
   "metadata": {},
   "source": [
    "https://docs.python.org/3.4/library/multiprocessing.html"
   ]
  },
  {
   "cell_type": "code",
   "execution_count": 1,
   "metadata": {},
   "outputs": [
    {
     "name": "stdout",
     "output_type": "stream",
     "text": [
      "3.6.6 | packaged by conda-forge | (default, Oct 12 2018, 14:08:43) \n",
      "[GCC 4.8.2 20140120 (Red Hat 4.8.2-15)]\n",
      "pandas 0.23.4\n",
      "numpy 1.13.3\n"
     ]
    }
   ],
   "source": [
    "import sys\n",
    "print(sys.version)\n",
    "import pandas\n",
    "print('pandas',pandas.__version__)\n",
    "import numpy\n",
    "print('numpy',numpy.__version__)\n",
    "from multiprocessing import Process\n",
    "from multiprocessing import Pool\n",
    "import os\n",
    "import time"
   ]
  },
  {
   "cell_type": "markdown",
   "metadata": {},
   "source": [
    "# introduction to processes\n",
    "\n",
    "Your computer automatically assigns a \"process ID\" (pid) to each process\n",
    "\n",
    "https://en.wikipedia.org/wiki/Process_identifier"
   ]
  },
  {
   "cell_type": "code",
   "execution_count": 23,
   "metadata": {},
   "outputs": [
    {
     "name": "stdout",
     "output_type": "stream",
     "text": [
      "process ID = 798\n"
     ]
    }
   ],
   "source": [
    "print('process ID =',os.getpid())"
   ]
  },
  {
   "cell_type": "code",
   "execution_count": 33,
   "metadata": {},
   "outputs": [
    {
     "name": "stdout",
     "output_type": "stream",
     "text": [
      "parent process = 6\n"
     ]
    }
   ],
   "source": [
    "# what launched this program?\n",
    "print('parent process =', os.getppid())"
   ]
  },
  {
   "cell_type": "markdown",
   "metadata": {},
   "source": [
    "before using multiprocessing, inspect the processes of a normal python execution"
   ]
  },
  {
   "cell_type": "code",
   "execution_count": 35,
   "metadata": {},
   "outputs": [],
   "source": [
    "def proc_info(some_str):\n",
    "    print('  Now in \"proc_info\"')\n",
    "    print('  arg =',some_str) # string that was passed in\n",
    "#    print('  module name:', __name__)\n",
    "    print('  process id:', os.getpid())\n",
    "\n",
    "def myfunc(a_name):\n",
    "    \"\"\" this function calls another function \"\"\"\n",
    "    print('Now in \"myfunc\"')\n",
    "    print('process ID =',os.getpid())\n",
    "    proc_info(a_name)\n",
    "    print('end of \"myfunc\"')"
   ]
  },
  {
   "cell_type": "code",
   "execution_count": 36,
   "metadata": {},
   "outputs": [
    {
     "name": "stdout",
     "output_type": "stream",
     "text": [
      "Now in \"myfunc\"\n",
      "process ID = 798\n",
      "  Now in \"proc_info\"\n",
      "  arg = mary\n",
      "  process id: 798\n",
      "end of \"myfunc\"\n"
     ]
    }
   ],
   "source": [
    "myfunc('mary')"
   ]
  },
  {
   "cell_type": "markdown",
   "metadata": {},
   "source": [
    "<BR>\n",
    "<BR>\n",
    "<BR>\n",
    "\n",
    "--> functions run in the current process\n",
    "<BR>\n",
    "<BR>\n"
   ]
  },
  {
   "cell_type": "markdown",
   "metadata": {},
   "source": [
    "# launch a separate (serial) process<BR> using multiprocessing module"
   ]
  },
  {
   "cell_type": "code",
   "execution_count": 44,
   "metadata": {},
   "outputs": [
    {
     "name": "stdout",
     "output_type": "stream",
     "text": [
      "process ID = 798\n",
      "  Now in \"proc_info\"\n",
      "  arg = cool stuff\n",
      "  process id: 798\n",
      "\n",
      "create process\n",
      "\n",
      "start process\n",
      "Now in \"myfunc\"\n",
      "process ID = 946\n",
      "  Now in \"proc_info\"\n",
      "  arg = bob\n",
      "  process id: 946\n",
      "end of \"myfunc\"\n"
     ]
    }
   ],
   "source": [
    "if __name__ == '__main__':\n",
    "    print('process ID =',os.getpid())\n",
    "    proc_info('cool stuff') # display info about this process\n",
    "    \n",
    "    print('\\ncreate process')\n",
    "    p = Process(target=myfunc, args=('bob',)) # from main, call a function\n",
    "    \n",
    "    print('\\nstart process')\n",
    "    p.start()"
   ]
  },
  {
   "cell_type": "markdown",
   "metadata": {},
   "source": [
    "# multiprocessing for concurrent operations\n",
    "Now that we've explored having multiple processes, use the processes concurrently\n",
    "\n",
    "https://docs.python.org/3.4/library/multiprocessing.html#using-a-pool-of-workers"
   ]
  },
  {
   "cell_type": "code",
   "execution_count": 6,
   "metadata": {},
   "outputs": [],
   "source": [
    "from multiprocessing import Pool"
   ]
  },
  {
   "cell_type": "markdown",
   "metadata": {},
   "source": [
    "## _example_: map function to list"
   ]
  },
  {
   "cell_type": "code",
   "execution_count": 7,
   "metadata": {},
   "outputs": [],
   "source": [
    "def sq_fun(x):\n",
    "    \"\"\"\n",
    "    square the input\n",
    "    \"\"\"\n",
    "    return x*x"
   ]
  },
  {
   "cell_type": "code",
   "execution_count": 47,
   "metadata": {},
   "outputs": [
    {
     "name": "stdout",
     "output_type": "stream",
     "text": [
      "1.82 µs ± 345 ns per loop (mean ± std. dev. of 7 runs, 100000 loops each)\n"
     ]
    }
   ],
   "source": [
    "%timeit [sq_fun(x) for x in [1, 2, 3]]"
   ]
  },
  {
   "cell_type": "code",
   "execution_count": 8,
   "metadata": {},
   "outputs": [
    {
     "name": "stdout",
     "output_type": "stream",
     "text": [
      "[1, 4, 9]\n",
      "CPU times: user 33.5 ms, sys: 86.7 ms, total: 120 ms\n",
      "Wall time: 245 ms\n"
     ]
    }
   ],
   "source": [
    "%%time\n",
    "\n",
    "if __name__ == '__main__': # only the parent thread runs the pool\n",
    "    \n",
    "    with Pool(5) as p: # use of 'with' means we can avoid use of close\n",
    "        print(p.map(sq_fun, [1, 2, 3]))"
   ]
  },
  {
   "cell_type": "markdown",
   "metadata": {},
   "source": [
    "for \"microseconds\" (us, 1E-6) versus \"milliseconds\" (ms, 1E-3), see https://en.wikipedia.org/wiki/Metric_prefix#List_of_SI_prefixes\n",
    "\n",
    "1 ms = 1000 us\n",
    "\n",
    "--> Why did it take so much longer?"
   ]
  },
  {
   "cell_type": "raw",
   "metadata": {},
   "source": [
    "# can't pass a lambda to the processes because it is not serializable\n",
    "\n",
    "# https://stackoverflow.com/questions/4827432/how-to-let-pool-map-take-a-lambda-function\n",
    "\n",
    "if __name__ == '__main__': # only the parent thread runs the pool\n",
    "    \n",
    "    with Pool(5) as p:\n",
    "        print(p.map(lambda x: x*x, [1, 2, 3]))"
   ]
  },
  {
   "cell_type": "markdown",
   "metadata": {},
   "source": [
    "## _example_: dataframe operation"
   ]
  },
  {
   "cell_type": "markdown",
   "metadata": {},
   "source": [
    "Objective: instead of applying a function to a dataframe row-by-row, \n",
    "split the dataframe into chunks and apply the function concurrently using multiple processes\n",
    "\n",
    "First, create a random dataframe"
   ]
  },
  {
   "cell_type": "markdown",
   "metadata": {},
   "source": [
    "https://stackoverflow.com/questions/32752292/how-to-create-a-data-frame-of-random-integers-with-pandas"
   ]
  },
  {
   "cell_type": "code",
   "execution_count": 9,
   "metadata": {},
   "outputs": [],
   "source": [
    "df = pandas.DataFrame(\n",
    "    numpy.random.randint(0,100,size=(100, 4)), \n",
    "    columns=list('ABCD')\n",
    "    )"
   ]
  },
  {
   "cell_type": "code",
   "execution_count": 10,
   "metadata": {},
   "outputs": [
    {
     "name": "stdout",
     "output_type": "stream",
     "text": [
      "df shape: (100, 4)\n"
     ]
    },
    {
     "data": {
      "text/html": [
       "<div>\n",
       "<style scoped>\n",
       "    .dataframe tbody tr th:only-of-type {\n",
       "        vertical-align: middle;\n",
       "    }\n",
       "\n",
       "    .dataframe tbody tr th {\n",
       "        vertical-align: top;\n",
       "    }\n",
       "\n",
       "    .dataframe thead th {\n",
       "        text-align: right;\n",
       "    }\n",
       "</style>\n",
       "<table border=\"1\" class=\"dataframe\">\n",
       "  <thead>\n",
       "    <tr style=\"text-align: right;\">\n",
       "      <th></th>\n",
       "      <th>A</th>\n",
       "      <th>B</th>\n",
       "      <th>C</th>\n",
       "      <th>D</th>\n",
       "    </tr>\n",
       "  </thead>\n",
       "  <tbody>\n",
       "    <tr>\n",
       "      <th>0</th>\n",
       "      <td>72</td>\n",
       "      <td>87</td>\n",
       "      <td>20</td>\n",
       "      <td>17</td>\n",
       "    </tr>\n",
       "    <tr>\n",
       "      <th>1</th>\n",
       "      <td>71</td>\n",
       "      <td>60</td>\n",
       "      <td>26</td>\n",
       "      <td>26</td>\n",
       "    </tr>\n",
       "    <tr>\n",
       "      <th>2</th>\n",
       "      <td>12</td>\n",
       "      <td>85</td>\n",
       "      <td>4</td>\n",
       "      <td>63</td>\n",
       "    </tr>\n",
       "    <tr>\n",
       "      <th>3</th>\n",
       "      <td>71</td>\n",
       "      <td>38</td>\n",
       "      <td>31</td>\n",
       "      <td>88</td>\n",
       "    </tr>\n",
       "    <tr>\n",
       "      <th>4</th>\n",
       "      <td>56</td>\n",
       "      <td>14</td>\n",
       "      <td>87</td>\n",
       "      <td>96</td>\n",
       "    </tr>\n",
       "  </tbody>\n",
       "</table>\n",
       "</div>"
      ],
      "text/plain": [
       "    A   B   C   D\n",
       "0  72  87  20  17\n",
       "1  71  60  26  26\n",
       "2  12  85   4  63\n",
       "3  71  38  31  88\n",
       "4  56  14  87  96"
      ]
     },
     "execution_count": 10,
     "metadata": {},
     "output_type": "execute_result"
    }
   ],
   "source": [
    "print('df shape:',df.shape)\n",
    "df.head()"
   ]
  },
  {
   "cell_type": "markdown",
   "metadata": {},
   "source": [
    "http://www.racketracer.com/2016/07/06/pandas-in-parallel/"
   ]
  },
  {
   "cell_type": "code",
   "execution_count": 11,
   "metadata": {},
   "outputs": [],
   "source": [
    "num_partitions = 7 #number of partitions to split dataframe\n",
    "num_cores = 4 #number of cores on your machine"
   ]
  },
  {
   "cell_type": "raw",
   "metadata": {},
   "source": [
    "def parallelize_dataframe(df, func, num_cores):\n",
    "    \"\"\"\n",
    "    Apply a function to chunks of a dataframe concurrently\n",
    "    \"\"\"\n",
    "    df_split = numpy.array_split(df, num_partitions)\n",
    "    pool = Pool(num_cores)\n",
    "    df = pandas.concat(pool.map(func, df_split))\n",
    "    pool.close()\n",
    "    pool.join()\n",
    "    return df"
   ]
  },
  {
   "cell_type": "code",
   "execution_count": 12,
   "metadata": {},
   "outputs": [],
   "source": [
    "def parallelize_dataframe(df, func,num_cores):\n",
    "    \"\"\"\n",
    "    Apply a function to chunks of a dataframe concurrently\n",
    "    \"\"\"\n",
    "    df_split = numpy.array_split(df, num_partitions)\n",
    "    with Pool(num_cores) as pool:\n",
    "        df = pandas.concat(pool.map(func, df_split))\n",
    "    return df"
   ]
  },
  {
   "cell_type": "code",
   "execution_count": 13,
   "metadata": {},
   "outputs": [],
   "source": [
    "def multiply_columns(data):\n",
    "    data['K'] = data['A'].apply(lambda x: x*2)\n",
    "    return data"
   ]
  },
  {
   "cell_type": "code",
   "execution_count": 14,
   "metadata": {},
   "outputs": [
    {
     "name": "stdout",
     "output_type": "stream",
     "text": [
      "CPU times: user 54.8 ms, sys: 69 ms, total: 124 ms\n",
      "Wall time: 208 ms\n"
     ]
    }
   ],
   "source": [
    "%time df_modified = parallelize_dataframe(df, multiply_columns,num_cores)"
   ]
  },
  {
   "cell_type": "code",
   "execution_count": 15,
   "metadata": {},
   "outputs": [
    {
     "data": {
      "text/html": [
       "<div>\n",
       "<style scoped>\n",
       "    .dataframe tbody tr th:only-of-type {\n",
       "        vertical-align: middle;\n",
       "    }\n",
       "\n",
       "    .dataframe tbody tr th {\n",
       "        vertical-align: top;\n",
       "    }\n",
       "\n",
       "    .dataframe thead th {\n",
       "        text-align: right;\n",
       "    }\n",
       "</style>\n",
       "<table border=\"1\" class=\"dataframe\">\n",
       "  <thead>\n",
       "    <tr style=\"text-align: right;\">\n",
       "      <th></th>\n",
       "      <th>A</th>\n",
       "      <th>B</th>\n",
       "      <th>C</th>\n",
       "      <th>D</th>\n",
       "      <th>K</th>\n",
       "    </tr>\n",
       "  </thead>\n",
       "  <tbody>\n",
       "    <tr>\n",
       "      <th>0</th>\n",
       "      <td>72</td>\n",
       "      <td>87</td>\n",
       "      <td>20</td>\n",
       "      <td>17</td>\n",
       "      <td>144</td>\n",
       "    </tr>\n",
       "    <tr>\n",
       "      <th>1</th>\n",
       "      <td>71</td>\n",
       "      <td>60</td>\n",
       "      <td>26</td>\n",
       "      <td>26</td>\n",
       "      <td>142</td>\n",
       "    </tr>\n",
       "    <tr>\n",
       "      <th>2</th>\n",
       "      <td>12</td>\n",
       "      <td>85</td>\n",
       "      <td>4</td>\n",
       "      <td>63</td>\n",
       "      <td>24</td>\n",
       "    </tr>\n",
       "    <tr>\n",
       "      <th>3</th>\n",
       "      <td>71</td>\n",
       "      <td>38</td>\n",
       "      <td>31</td>\n",
       "      <td>88</td>\n",
       "      <td>142</td>\n",
       "    </tr>\n",
       "    <tr>\n",
       "      <th>4</th>\n",
       "      <td>56</td>\n",
       "      <td>14</td>\n",
       "      <td>87</td>\n",
       "      <td>96</td>\n",
       "      <td>112</td>\n",
       "    </tr>\n",
       "  </tbody>\n",
       "</table>\n",
       "</div>"
      ],
      "text/plain": [
       "    A   B   C   D    K\n",
       "0  72  87  20  17  144\n",
       "1  71  60  26  26  142\n",
       "2  12  85   4  63   24\n",
       "3  71  38  31  88  142\n",
       "4  56  14  87  96  112"
      ]
     },
     "execution_count": 15,
     "metadata": {},
     "output_type": "execute_result"
    }
   ],
   "source": [
    "df_modified.head()"
   ]
  },
  {
   "cell_type": "markdown",
   "metadata": {},
   "source": [
    "compare the above method of split/apply/combine to just \"apply\""
   ]
  },
  {
   "cell_type": "code",
   "execution_count": 16,
   "metadata": {},
   "outputs": [
    {
     "name": "stdout",
     "output_type": "stream",
     "text": [
      "CPU times: user 14.9 ms, sys: 10 ms, total: 25 ms\n",
      "Wall time: 60.3 ms\n"
     ]
    }
   ],
   "source": [
    "%time df['K'] = df['A'].apply(lambda x: x*2)"
   ]
  },
  {
   "cell_type": "markdown",
   "metadata": {},
   "source": [
    "Applying the function to chunks took much more time! \n",
    "\n",
    "_Reason_: `multiprocessing` has to serialize the data, send the serialized data to each thread, then apply the transformation, then send the data back to main"
   ]
  },
  {
   "cell_type": "markdown",
   "metadata": {},
   "source": [
    "# --> When would concurrency be useful?\n",
    "\n",
    "Need to be able to amortize cost of concurrency"
   ]
  },
  {
   "cell_type": "code",
   "execution_count": null,
   "metadata": {},
   "outputs": [],
   "source": []
  },
  {
   "cell_type": "code",
   "execution_count": null,
   "metadata": {},
   "outputs": [],
   "source": []
  },
  {
   "cell_type": "markdown",
   "metadata": {},
   "source": [
    "For your reference, here's how I typically structure my concurrency"
   ]
  },
  {
   "cell_type": "code",
   "execution_count": 17,
   "metadata": {},
   "outputs": [],
   "source": [
    "import multiprocessing\n",
    "import time"
   ]
  },
  {
   "cell_type": "code",
   "execution_count": 18,
   "metadata": {},
   "outputs": [],
   "source": [
    "def serial_func(arg1):\n",
    "    return arg1*2"
   ]
  },
  {
   "cell_type": "code",
   "execution_count": 19,
   "metadata": {},
   "outputs": [
    {
     "name": "stdout",
     "output_type": "stream",
     "text": [
      "CPU times: user 24 µs, sys: 0 ns, total: 24 µs\n",
      "Wall time: 34.6 µs\n"
     ]
    },
    {
     "data": {
      "text/plain": [
       "[6, 8, 10]"
      ]
     },
     "execution_count": 19,
     "metadata": {},
     "output_type": "execute_result"
    }
   ],
   "source": [
    "%time list(map(serial_func,[3,4,5]))"
   ]
  },
  {
   "cell_type": "code",
   "execution_count": 20,
   "metadata": {},
   "outputs": [
    {
     "name": "stdout",
     "output_type": "stream",
     "text": [
      "main elapsed: 0.3887605667114258 seconds\n"
     ]
    }
   ],
   "source": [
    "if __name__ == '__main__':\n",
    "    start_time=time.time()\n",
    "    res_list=[]\n",
    "    with multiprocessing.Pool(processes=multiprocessing.cpu_count()) as pool:   # start worker processes\n",
    "        res_list = pool.map(serial_func,[3,4,5]) # see https://docs.python.org/3/library/multiprocessing.html\n",
    "\n",
    "    print('main elapsed:',time.time()-start_time,'seconds')"
   ]
  },
  {
   "cell_type": "code",
   "execution_count": 21,
   "metadata": {},
   "outputs": [
    {
     "data": {
      "text/plain": [
       "[6, 8, 10]"
      ]
     },
     "execution_count": 21,
     "metadata": {},
     "output_type": "execute_result"
    }
   ],
   "source": [
    "res_list"
   ]
  },
  {
   "cell_type": "code",
   "execution_count": null,
   "metadata": {},
   "outputs": [],
   "source": []
  }
 ],
 "metadata": {
  "kernelspec": {
   "display_name": "Python 3",
   "language": "python",
   "name": "python3"
  },
  "language_info": {
   "codemirror_mode": {
    "name": "ipython",
    "version": 3
   },
   "file_extension": ".py",
   "mimetype": "text/x-python",
   "name": "python",
   "nbconvert_exporter": "python",
   "pygments_lexer": "ipython3",
   "version": "3.6.6"
  }
 },
 "nbformat": 4,
 "nbformat_minor": 2
}
