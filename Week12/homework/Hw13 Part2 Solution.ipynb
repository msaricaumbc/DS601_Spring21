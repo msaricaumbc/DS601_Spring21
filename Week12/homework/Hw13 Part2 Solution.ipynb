{
 "cells": [
  {
   "cell_type": "markdown",
   "metadata": {},
   "source": [
    "# Part2\n",
    "\n",
    "A sample code given to generate a large csv file (bigger than pandas can handle)\n",
    "Create a histogram of ages.\n",
    "List the top 20 occupations \n",
    "\n",
    "Submit your python notebook (.ipynb file) containing the code for the experiment and the results. "
   ]
  },
  {
   "cell_type": "code",
   "execution_count": 1,
   "metadata": {},
   "outputs": [
    {
     "data": {
      "text/plain": [
       "('47', 'Advertising copywriter')"
      ]
     },
     "execution_count": 1,
     "metadata": {},
     "output_type": "execute_result"
    }
   ],
   "source": [
    "def get_age_and_profession(row):\n",
    "    # print (row)\n",
    "    values = row.split(',')\n",
    "   \n",
    "    age = values[3]\n",
    "    job = values[4]\n",
    "    \n",
    "    return age, job\n",
    "\n",
    "get_age_and_profession('Mark,Bender,1974,47,Advertising copywriter,746-65-3104,adfafdad;lfkajdk;lf') \n",
    "# this row keeps going but it doesn't matter, we only need 4th and 5th values"
   ]
  },
  {
   "cell_type": "code",
   "execution_count": 2,
   "metadata": {},
   "outputs": [
    {
     "name": "stdout",
     "output_type": "stream",
     "text": [
      "processed 1000\n",
      "processed 2000\n",
      "processed 3000\n",
      "processed 4000\n",
      "processed 5000\n",
      "processed 6000\n",
      "processed 7000\n",
      "processed 8000\n",
      "processed 9000\n",
      "processed 10000\n",
      "processed 11000\n",
      "processed 12000\n",
      "processed 13000\n",
      "processed 14000\n",
      "processed 15000\n",
      "processed 16000\n",
      "processed 17000\n",
      "processed 18000\n",
      "processed 19000\n",
      "processed 20000\n",
      "processed 21000\n",
      "processed 22000\n",
      "processed 23000\n",
      "processed 24000\n",
      "processed 25000\n",
      "processed 26000\n",
      "processed 27000\n",
      "processed 28000\n",
      "processed 29000\n",
      "processed 30000\n",
      "processed 31000\n",
      "processed 32000\n",
      "processed 33000\n",
      "processed 34000\n",
      "processed 35000\n",
      "processed 36000\n",
      "processed 37000\n",
      "processed 38000\n",
      "processed 39000\n",
      "processed 40000\n",
      "processed 41000\n",
      "processed 42000\n",
      "processed 43000\n",
      "processed 44000\n",
      "processed 45000\n",
      "processed 46000\n",
      "processed 47000\n",
      "processed 48000\n",
      "processed 49000\n",
      "processed 50000\n",
      "processed 51000\n",
      "processed 52000\n",
      "processed 53000\n",
      "processed 54000\n",
      "processed 55000\n",
      "processed 56000\n",
      "processed 57000\n",
      "processed 58000\n",
      "processed 59000\n",
      "processed 60000\n",
      "processed 61000\n",
      "processed 62000\n",
      "processed 63000\n",
      "processed 64000\n",
      "processed 65000\n",
      "processed 66000\n",
      "processed 67000\n",
      "processed 68000\n",
      "processed 69000\n",
      "processed 70000\n",
      "processed 71000\n",
      "processed 72000\n",
      "processed 73000\n",
      "processed 74000\n",
      "processed 75000\n",
      "processed 76000\n",
      "processed 77000\n",
      "processed 78000\n",
      "processed 79000\n",
      "processed 80000\n",
      "processed 81000\n",
      "processed 82000\n",
      "processed 83000\n",
      "processed 84000\n",
      "processed 85000\n",
      "processed 86000\n",
      "processed 87000\n",
      "processed 88000\n",
      "processed 89000\n",
      "processed 90000\n",
      "processed 91000\n",
      "processed 92000\n",
      "processed 93000\n",
      "processed 94000\n",
      "processed 95000\n",
      "processed 96000\n",
      "processed 97000\n",
      "processed 98000\n",
      "processed 99000\n",
      "processed 100000\n",
      "processed 101000\n",
      "processed 102000\n",
      "processed 103000\n",
      "processed 104000\n",
      "processed 105000\n",
      "processed 106000\n",
      "processed 107000\n",
      "processed 108000\n",
      "processed 109000\n",
      "processed 110000\n",
      "processed 111000\n",
      "processed 112000\n",
      "processed 113000\n",
      "processed 114000\n",
      "processed 115000\n",
      "processed 116000\n",
      "processed 117000\n",
      "processed 118000\n",
      "processed 119000\n",
      "processed 120000\n",
      "processed 121000\n",
      "processed 122000\n",
      "processed 123000\n",
      "processed 124000\n",
      "processed 125000\n",
      "processed 126000\n",
      "processed 127000\n",
      "processed 128000\n",
      "processed 129000\n",
      "processed 130000\n",
      "processed 131000\n",
      "processed 132000\n",
      "processed 133000\n",
      "processed 134000\n",
      "processed 135000\n",
      "processed 136000\n",
      "processed 137000\n",
      "processed 138000\n",
      "processed 139000\n",
      "processed 140000\n",
      "processed 141000\n",
      "processed 142000\n",
      "processed 143000\n",
      "processed 144000\n",
      "processed 145000\n",
      "processed 146000\n",
      "processed 147000\n",
      "processed 148000\n",
      "processed 149000\n",
      "processed 150000\n",
      "processed 151000\n",
      "processed 152000\n",
      "processed 153000\n",
      "processed 154000\n",
      "processed 155000\n",
      "processed 156000\n",
      "processed 157000\n",
      "processed 158000\n",
      "processed 159000\n",
      "processed 160000\n",
      "processed 161000\n",
      "processed 162000\n",
      "processed 163000\n",
      "processed 164000\n",
      "processed 165000\n",
      "processed 166000\n",
      "processed 167000\n",
      "processed 168000\n",
      "processed 169000\n",
      "processed 170000\n",
      "processed 171000\n",
      "processed 172000\n",
      "processed 173000\n",
      "processed 174000\n",
      "processed 175000\n",
      "processed 176000\n",
      "processed 177000\n",
      "processed 178000\n",
      "processed 179000\n",
      "processed 180000\n",
      "processed 181000\n",
      "processed 182000\n",
      "processed 183000\n",
      "processed 184000\n",
      "processed 185000\n",
      "processed 186000\n",
      "processed 187000\n",
      "processed 188000\n",
      "processed 189000\n",
      "processed 190000\n",
      "processed 191000\n",
      "processed 192000\n",
      "processed 193000\n",
      "processed 194000\n",
      "processed 195000\n",
      "processed 196000\n",
      "processed 197000\n",
      "processed 198000\n",
      "processed 199000\n",
      "processed 200000\n",
      "processed 201000\n",
      "processed 202000\n",
      "processed 203000\n",
      "processed 204000\n",
      "processed 205000\n"
     ]
    }
   ],
   "source": [
    "ages = []\n",
    "jobs = []\n",
    "\n",
    "with open('data_big.csv') as file:\n",
    "    c = 0\n",
    "    while True:\n",
    "        c += 1\n",
    "        line = file.readline()\n",
    "        \n",
    "        if not line:\n",
    "            break\n",
    "        \n",
    "        age, job = get_age_and_profession(line)\n",
    "        \n",
    "        ages.append(age)\n",
    "        jobs.append(job)\n",
    "            \n",
    "        if c % 1000 == 0:\n",
    "            print('processed', c)"
   ]
  },
  {
   "cell_type": "code",
   "execution_count": 3,
   "metadata": {},
   "outputs": [],
   "source": [
    "import pandas as pd\n",
    "from matplotlib import pyplot as plt"
   ]
  },
  {
   "cell_type": "code",
   "execution_count": 4,
   "metadata": {},
   "outputs": [
    {
     "data": {
      "text/plain": [
       "['47', '59', '49', '38', '126']"
      ]
     },
     "execution_count": 4,
     "metadata": {},
     "output_type": "execute_result"
    }
   ],
   "source": [
    "ages[:5] # ages are strings, we need to convert them to integer so we can histogram"
   ]
  },
  {
   "cell_type": "code",
   "execution_count": 5,
   "metadata": {},
   "outputs": [],
   "source": [
    "ages_number = [int(n) for n in ages]"
   ]
  },
  {
   "cell_type": "code",
   "execution_count": 6,
   "metadata": {},
   "outputs": [],
   "source": [
    "# if you want to use pandas\n",
    "# df_age = pd.DataFrame({ 'age': ages_number })\n",
    "# df_age['age'].hist()"
   ]
  },
  {
   "cell_type": "code",
   "execution_count": 7,
   "metadata": {},
   "outputs": [
    {
     "data": {
      "image/png": "[encoded data removed]",
      "text/plain": [
       "<Figure size 432x288 with 1 Axes>"
      ]
     },
     "metadata": {
      "needs_background": "light"
     },
     "output_type": "display_data"
    }
   ],
   "source": [
    "# or without pandas\n",
    "_=plt.hist(ages_number)"
   ]
  },
  {
   "cell_type": "code",
   "execution_count": 11,
   "metadata": {},
   "outputs": [
    {
     "data": {
      "text/plain": [
       "10531"
      ]
     },
     "execution_count": 11,
     "metadata": {},
     "output_type": "execute_result"
    }
   ],
   "source": [
    "# huh? age 125 and older \n",
    "# (actually while generating we knew that would happen but in a real scenerio explore if your data is valid)\n",
    "\n",
    "sum([ age > 100 for age in ages_number])  # would be better the check the data (if it was real data)"
   ]
  },
  {
   "cell_type": "code",
   "execution_count": 12,
   "metadata": {},
   "outputs": [],
   "source": [
    "# with pandas\n",
    "# df_jobs = pd.DataFrame({ 'jobs': jobs })\n",
    "# df_jobs['jobs'].value_counts()[:20]"
   ]
  },
  {
   "cell_type": "code",
   "execution_count": 13,
   "metadata": {},
   "outputs": [
    {
     "data": {
      "text/plain": [
       "[('Public house manager', 386),\n",
       " ('Public relations officer', 381),\n",
       " ('Research officer- trade union', 377),\n",
       " ('Land/geomatics surveyor', 374),\n",
       " ('Programmer- systems', 371),\n",
       " ('Designer- graphic', 368),\n",
       " ('Conservation officer- nature', 366),\n",
       " ('Manufacturing engineer', 366),\n",
       " ('Mechanical engineer', 366),\n",
       " ('Clothing/textile technologist', 362),\n",
       " ('Designer- multimedia', 361),\n",
       " ('Science writer', 360),\n",
       " ('Surveyor- rural practice', 360),\n",
       " ('Social researcher', 360),\n",
       " ('Chief of Staff', 359),\n",
       " ('Senior tax professional/tax inspector', 358),\n",
       " ('Engineer- biomedical', 358),\n",
       " ('Architectural technologist', 357),\n",
       " ('Clinical cytogeneticist', 355),\n",
       " ('Merchandiser- retail', 355)]"
      ]
     },
     "execution_count": 13,
     "metadata": {},
     "output_type": "execute_result"
    }
   ],
   "source": [
    "# without pandas\n",
    "from collections import Counter\n",
    "\n",
    "top_20_jobs = Counter(jobs).most_common(20) \n",
    "top_20_jobs\n",
    "# but this is not the correct answer, it looks like a correct answer \n",
    "# and contains the correct answer but it asks for top 20 occupacition\n",
    "# this is a LIST of TUPPLES with occupation and count"
   ]
  },
  {
   "cell_type": "code",
   "execution_count": 14,
   "metadata": {},
   "outputs": [
    {
     "data": {
      "text/plain": [
       "['Public house manager',\n",
       " 'Public relations officer',\n",
       " 'Research officer- trade union',\n",
       " 'Land/geomatics surveyor',\n",
       " 'Programmer- systems',\n",
       " 'Designer- graphic',\n",
       " 'Conservation officer- nature',\n",
       " 'Manufacturing engineer',\n",
       " 'Mechanical engineer',\n",
       " 'Clothing/textile technologist',\n",
       " 'Designer- multimedia',\n",
       " 'Science writer',\n",
       " 'Surveyor- rural practice',\n",
       " 'Social researcher',\n",
       " 'Chief of Staff',\n",
       " 'Senior tax professional/tax inspector',\n",
       " 'Engineer- biomedical',\n",
       " 'Architectural technologist',\n",
       " 'Clinical cytogeneticist',\n",
       " 'Merchandiser- retail']"
      ]
     },
     "execution_count": 14,
     "metadata": {},
     "output_type": "execute_result"
    }
   ],
   "source": [
    "[job for job, count in top_20_jobs]"
   ]
  },
  {
   "cell_type": "code",
   "execution_count": null,
   "metadata": {},
   "outputs": [],
   "source": []
  }
 ],
 "metadata": {
  "kernelspec": {
   "display_name": "Python 3",
   "language": "python",
   "name": "python3"
  },
  "language_info": {
   "codemirror_mode": {
    "name": "ipython",
    "version": 3
   },
   "file_extension": ".py",
   "mimetype": "text/x-python",
   "name": "python",
   "nbconvert_exporter": "python",
   "pygments_lexer": "ipython3",
   "version": "3.7.4"
  },
  "varInspector": {
   "cols": {
    "lenName": 16,
    "lenType": 16,
    "lenVar": 40
   },
   "kernels_config": {
    "python": {
     "delete_cmd_postfix": "",
     "delete_cmd_prefix": "del ",
     "library": "var_list.py",
     "varRefreshCmd": "print(var_dic_list())"
    },
    "r": {
     "delete_cmd_postfix": ") ",
     "delete_cmd_prefix": "rm(",
     "library": "var_list.r",
     "varRefreshCmd": "cat(var_dic_list()) "
    }
   },
   "types_to_exclude": [
    "module",
    "function",
    "builtin_function_or_method",
    "instance",
    "_Feature"
   ],
   "window_display": false
  }
 },
 "nbformat": 4,
 "nbformat_minor": 2
}
