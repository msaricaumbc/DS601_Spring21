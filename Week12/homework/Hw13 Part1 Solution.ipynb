{
 "cells": [
  {
   "cell_type": "markdown",
   "metadata": {},
   "source": [
    "Write Python code that can create a CSV containing 10 columns of text data​.<br>\n",
    "Each entry should be between 5 and 20 characters​.<br>\n",
    "Generate  files of size {0.1, 1, 5, 10, 100, 500} MB of data​.<br>\n",
    "Measure how much time it takes to write the files to disk. Do not include the time used in creating the random entries.​<br>\n",
    "Repeat the above test three times​.<br>\n",
    "Measure how much time it takes for your computer to load the data into a Pandas dataframe.​<br>\n",
    "Plot both the write times and load times versus file size​.<br>\n",
    "​<br>\n",
    "Submit your python notebook (.ipynb file) containing the code for the experiment and the results. Results are a table of values and plots. ​<br>"
   ]
  },
  {
   "cell_type": "code",
   "execution_count": 1,
   "metadata": {},
   "outputs": [],
   "source": [
    "# from sys import getsizeof\n",
    "import pandas as pd\n",
    "import random\n",
    "import string\n",
    "from time import time\n",
    "import os\n",
    "import matplotlib.pyplot as plt\n",
    "\n",
    "%matplotlib inline\n",
    "\n",
    "MIN_LENGTH = 5\n",
    "MAX_LENGTH = 20"
   ]
  },
  {
   "cell_type": "code",
   "execution_count": 2,
   "metadata": {},
   "outputs": [],
   "source": [
    "def getsizeof(text):\n",
    "    return len(text) "
   ]
  },
  {
   "cell_type": "code",
   "execution_count": 3,
   "metadata": {},
   "outputs": [],
   "source": [
    "def rand_string(N=10):\n",
    "    return ''.join(random.choices(string.ascii_letters, k=N))\n",
    "\n",
    "#rand_string()"
   ]
  },
  {
   "cell_type": "code",
   "execution_count": 4,
   "metadata": {},
   "outputs": [],
   "source": [
    "def create_a_line(columns=10):\n",
    "    return ','.join([ rand_string(random.randint(MIN_LENGTH,MAX_LENGTH)) for _ in range(columns)])\n",
    "\n",
    "#create_a_line()"
   ]
  },
  {
   "cell_type": "code",
   "execution_count": 5,
   "metadata": {},
   "outputs": [],
   "source": [
    "def mb_to_byte(mb):\n",
    "    return mb* 1048576\n",
    "\n",
    "def byte_to_mb(byte):\n",
    "    return byte/1048576"
   ]
  },
  {
   "cell_type": "code",
   "execution_count": 6,
   "metadata": {},
   "outputs": [],
   "source": [
    "def create_str_size_of(size=1, data=None): #size in mb\n",
    "    size = mb_to_byte(size) \n",
    "    text = \"\"\n",
    "    \n",
    "    if (data!=None):\n",
    "        data_size = getsizeof(data)\n",
    "        times = int(size / data_size)+1\n",
    "        #print (times)\n",
    "        text = data * times\n",
    "    \n",
    "    while(getsizeof(text) < size):\n",
    "        line = create_a_line()\n",
    "        text += line + '\\n'\n",
    "        \n",
    "    return text\n",
    "\n",
    "#getsizeof(create_str_size_of(1))"
   ]
  },
  {
   "cell_type": "code",
   "execution_count": 7,
   "metadata": {},
   "outputs": [],
   "source": [
    "def write_to_file(text, filename):\n",
    "    with open( filename, 'w') as file:\n",
    "        file.write(text)\n",
    "\n",
    "#write_to_file('blah,blah', 'test.csv')"
   ]
  },
  {
   "cell_type": "code",
   "execution_count": 8,
   "metadata": {},
   "outputs": [],
   "source": [
    "def read_from_csv(filename):\n",
    "    return pd.read_csv(filename)\n",
    "\n",
    "def get_filesize(filename):\n",
    "    return os.path.getsize(filename)"
   ]
  },
  {
   "cell_type": "code",
   "execution_count": 9,
   "metadata": {},
   "outputs": [],
   "source": [
    "mbs = [0.1,1,5,10,100,500]\n",
    "\n",
    "def run_tests_for(mbs_list = mbs):\n",
    "    write_secs = []\n",
    "    read_secs = []\n",
    "    actual_filesize_list = []\n",
    "    \n",
    "    data = None\n",
    "    for mb in mbs_list:\n",
    "        print ('-for ' , mb , 'mb')\n",
    "        filename = 'file_' + str(mb).replace('.','_') + '.csv'\n",
    "\n",
    "        data = create_str_size_of(mb, data)\n",
    "        #writing\n",
    "        start = time()\n",
    "        write_to_file(data, filename)\n",
    "        elapsed_write = time() - start\n",
    "        print('Write Time for {} mb is {} seconds'.format(mb, elapsed_write))\n",
    "        write_secs.append(elapsed_write)\n",
    "        \n",
    "        #reading\n",
    "        start = time()\n",
    "        _ = read_from_csv(filename)\n",
    "        elapsed_read = time() - start\n",
    "        print('Read Time for {} mb is {} seconds'.format(mb, elapsed_read))\n",
    "        read_secs.append(elapsed_read)\n",
    "        \n",
    "        actual_file_size = get_filesize(filename)\n",
    "        #print (actual_file_size)\n",
    "        actual_filesize_list.append(byte_to_mb(actual_file_size))\n",
    "        \n",
    "    stats = pd.DataFrame({\n",
    "        'MB': mbs_list,\n",
    "        'Write': write_secs,\n",
    "        'Read': read_secs,\n",
    "        'Actual Size': actual_filesize_list\n",
    "    })\n",
    "    return stats\n",
    "\n",
    "#stats = run_tests_for()\n",
    "#stats"
   ]
  },
  {
   "cell_type": "code",
   "execution_count": 10,
   "metadata": {},
   "outputs": [],
   "source": [
    "def calculate_average_times(run_times=3):\n",
    "    stats = pd.DataFrame()\n",
    "    start = time()\n",
    "    for i in range(run_times):\n",
    "        print('Run: ', i+1)\n",
    "        test_stats = run_tests_for()\n",
    "        stats = pd.concat([stats, test_stats])\n",
    "        print('----------------------')\n",
    "\n",
    "    total_elapsed = time()-start\n",
    "    print ('Total elapsed time {} seconds'.format(total_elapsed))\n",
    "\n",
    "    stats = stats.groupby(['MB']).mean()\n",
    "    stats = stats.reset_index()\n",
    "    \n",
    "    return stats"
   ]
  },
  {
   "cell_type": "code",
   "execution_count": 11,
   "metadata": {},
   "outputs": [],
   "source": [
    "def draw_graph(stats):\n",
    "    read_ax = plt.plot(stats['MB'],stats['Read'])\n",
    "    write_ax = plt.plot(stats['MB'],stats['Write'])\n",
    "    plt.legend( ['Read', 'Write'])\n",
    "    plt.xlabel('File Size in MB')\n",
    "    plt.ylabel('Time in seconds')\n",
    "    \n",
    "# draw_graph(stats)"
   ]
  },
  {
   "cell_type": "code",
   "execution_count": 12,
   "metadata": {},
   "outputs": [
    {
     "name": "stdout",
     "output_type": "stream",
     "text": [
      "Run:  1\n",
      "-for  0.1 mb\n",
      "Write Time for 0.1 mb is 0.0006129741668701172 seconds\n",
      "Read Time for 0.1 mb is 0.0069119930267333984 seconds\n",
      "-for  1 mb\n",
      "Write Time for 1 mb is 0.0010852813720703125 seconds\n",
      "Read Time for 1 mb is 0.018918991088867188 seconds\n",
      "-for  5 mb\n",
      "Write Time for 5 mb is 0.004251956939697266 seconds\n",
      "Read Time for 5 mb is 0.0819249153137207 seconds\n",
      "-for  10 mb\n",
      "Write Time for 10 mb is 0.016269207000732422 seconds\n",
      "Read Time for 10 mb is 0.14171385765075684 seconds\n",
      "-for  100 mb\n",
      "Write Time for 100 mb is 0.11493396759033203 seconds\n",
      "Read Time for 100 mb is 1.1351120471954346 seconds\n",
      "-for  500 mb\n",
      "Write Time for 500 mb is 0.633540153503418 seconds\n",
      "Read Time for 500 mb is 5.924921035766602 seconds\n",
      "----------------------\n",
      "Run:  2\n",
      "-for  0.1 mb\n",
      "Write Time for 0.1 mb is 0.0006289482116699219 seconds\n",
      "Read Time for 0.1 mb is 0.004091739654541016 seconds\n",
      "-for  1 mb\n",
      "Write Time for 1 mb is 0.0010728836059570312 seconds\n",
      "Read Time for 1 mb is 0.014867782592773438 seconds\n",
      "-for  5 mb\n",
      "Write Time for 5 mb is 0.0031707286834716797 seconds\n",
      "Read Time for 5 mb is 0.07342910766601562 seconds\n",
      "-for  10 mb\n",
      "Write Time for 10 mb is 0.010071992874145508 seconds\n",
      "Read Time for 10 mb is 0.13834190368652344 seconds\n",
      "-for  100 mb\n",
      "Write Time for 100 mb is 0.10940790176391602 seconds\n",
      "Read Time for 100 mb is 1.2863109111785889 seconds\n",
      "-for  500 mb\n",
      "Write Time for 500 mb is 0.58638596534729 seconds\n",
      "Read Time for 500 mb is 6.1965367794036865 seconds\n",
      "----------------------\n",
      "Run:  3\n",
      "-for  0.1 mb\n",
      "Write Time for 0.1 mb is 0.0006570816040039062 seconds\n",
      "Read Time for 0.1 mb is 0.00475001335144043 seconds\n",
      "-for  1 mb\n",
      "Write Time for 1 mb is 0.000942230224609375 seconds\n",
      "Read Time for 1 mb is 0.0171048641204834 seconds\n",
      "-for  5 mb\n",
      "Write Time for 5 mb is 0.00410008430480957 seconds\n",
      "Read Time for 5 mb is 0.07670903205871582 seconds\n",
      "-for  10 mb\n",
      "Write Time for 10 mb is 0.010089874267578125 seconds\n",
      "Read Time for 10 mb is 0.14650321006774902 seconds\n",
      "-for  100 mb\n",
      "Write Time for 100 mb is 0.10618805885314941 seconds\n",
      "Read Time for 100 mb is 1.2467598915100098 seconds\n",
      "-for  500 mb\n",
      "Write Time for 500 mb is 0.6284060478210449 seconds\n",
      "Read Time for 500 mb is 6.125791072845459 seconds\n",
      "----------------------\n",
      "Total elapsed time 26.368460178375244 seconds\n"
     ]
    }
   ],
   "source": [
    "stats = calculate_average_times()"
   ]
  },
  {
   "cell_type": "code",
   "execution_count": 13,
   "metadata": {},
   "outputs": [
    {
     "data": {
      "text/html": [
       "<div>\n",
       "<style scoped>\n",
       "    .dataframe tbody tr th:only-of-type {\n",
       "        vertical-align: middle;\n",
       "    }\n",
       "\n",
       "    .dataframe tbody tr th {\n",
       "        vertical-align: top;\n",
       "    }\n",
       "\n",
       "    .dataframe thead th {\n",
       "        text-align: right;\n",
       "    }\n",
       "</style>\n",
       "<table border=\"1\" class=\"dataframe\">\n",
       "  <thead>\n",
       "    <tr style=\"text-align: right;\">\n",
       "      <th></th>\n",
       "      <th>MB</th>\n",
       "      <th>Write</th>\n",
       "      <th>Read</th>\n",
       "      <th>Actual Size</th>\n",
       "    </tr>\n",
       "  </thead>\n",
       "  <tbody>\n",
       "    <tr>\n",
       "      <td>0</td>\n",
       "      <td>0.1</td>\n",
       "      <td>0.000633</td>\n",
       "      <td>0.005251</td>\n",
       "      <td>0.100065</td>\n",
       "    </tr>\n",
       "    <tr>\n",
       "      <td>1</td>\n",
       "      <td>1.0</td>\n",
       "      <td>0.001033</td>\n",
       "      <td>0.016964</td>\n",
       "      <td>1.000649</td>\n",
       "    </tr>\n",
       "    <tr>\n",
       "      <td>2</td>\n",
       "      <td>5.0</td>\n",
       "      <td>0.003841</td>\n",
       "      <td>0.077354</td>\n",
       "      <td>5.003246</td>\n",
       "    </tr>\n",
       "    <tr>\n",
       "      <td>3</td>\n",
       "      <td>10.0</td>\n",
       "      <td>0.012144</td>\n",
       "      <td>0.142186</td>\n",
       "      <td>10.006491</td>\n",
       "    </tr>\n",
       "    <tr>\n",
       "      <td>4</td>\n",
       "      <td>100.0</td>\n",
       "      <td>0.110177</td>\n",
       "      <td>1.222728</td>\n",
       "      <td>100.064913</td>\n",
       "    </tr>\n",
       "    <tr>\n",
       "      <td>5</td>\n",
       "      <td>500.0</td>\n",
       "      <td>0.616111</td>\n",
       "      <td>6.082416</td>\n",
       "      <td>500.324567</td>\n",
       "    </tr>\n",
       "  </tbody>\n",
       "</table>\n",
       "</div>"
      ],
      "text/plain": [
       "      MB     Write      Read  Actual Size\n",
       "0    0.1  0.000633  0.005251     0.100065\n",
       "1    1.0  0.001033  0.016964     1.000649\n",
       "2    5.0  0.003841  0.077354     5.003246\n",
       "3   10.0  0.012144  0.142186    10.006491\n",
       "4  100.0  0.110177  1.222728   100.064913\n",
       "5  500.0  0.616111  6.082416   500.324567"
      ]
     },
     "execution_count": 13,
     "metadata": {},
     "output_type": "execute_result"
    }
   ],
   "source": [
    "stats"
   ]
  },
  {
   "cell_type": "code",
   "execution_count": 14,
   "metadata": {},
   "outputs": [
    {
     "data": {
      "image/png": "[encoded data removed]",
      "text/plain": [
       "<Figure size 432x288 with 1 Axes>"
      ]
     },
     "metadata": {
      "needs_background": "light"
     },
     "output_type": "display_data"
    }
   ],
   "source": [
    "draw_graph(stats)"
   ]
  },
  {
   "cell_type": "code",
   "execution_count": 16,
   "metadata": {},
   "outputs": [],
   "source": [
    "# !rm file*.csv"
   ]
  },
  {
   "cell_type": "code",
   "execution_count": null,
   "metadata": {},
   "outputs": [],
   "source": []
  }
 ],
 "metadata": {
  "kernelspec": {
   "display_name": "Python 3",
   "language": "python",
   "name": "python3"
  },
  "language_info": {
   "codemirror_mode": {
    "name": "ipython",
    "version": 3
   },
   "file_extension": ".py",
   "mimetype": "text/x-python",
   "name": "python",
   "nbconvert_exporter": "python",
   "pygments_lexer": "ipython3",
   "version": "3.7.4"
  },
  "varInspector": {
   "cols": {
    "lenName": 16,
    "lenType": 16,
    "lenVar": 40
   },
   "kernels_config": {
    "python": {
     "delete_cmd_postfix": "",
     "delete_cmd_prefix": "del ",
     "library": "var_list.py",
     "varRefreshCmd": "print(var_dic_list())"
    },
    "r": {
     "delete_cmd_postfix": ") ",
     "delete_cmd_prefix": "rm(",
     "library": "var_list.r",
     "varRefreshCmd": "cat(var_dic_list()) "
    }
   },
   "types_to_exclude": [
    "module",
    "function",
    "builtin_function_or_method",
    "instance",
    "_Feature"
   ],
   "window_display": false
  }
 },
 "nbformat": 4,
 "nbformat_minor": 2
}
