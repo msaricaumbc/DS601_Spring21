{
 "cells": [
  {
   "cell_type": "markdown",
   "metadata": {},
   "source": [
    "# measure the scaling of applying a function to dataframes which vary in size"
   ]
  },
  {
   "cell_type": "markdown",
   "metadata": {},
   "source": [
    "import python modules used in this notebook"
   ]
  },
  {
   "cell_type": "code",
   "execution_count": 1,
   "metadata": {},
   "outputs": [],
   "source": [
    "import pandas\n",
    "import numpy\n",
    "import pickle\n",
    "import matplotlib.pyplot as plt\n",
    "import time"
   ]
  },
  {
   "cell_type": "markdown",
   "metadata": {},
   "source": [
    "# First I'm going to show the outcome"
   ]
  },
  {
   "cell_type": "markdown",
   "metadata": {},
   "source": [
    "create a function that doubles the value of column 'A'"
   ]
  },
  {
   "cell_type": "code",
   "execution_count": 2,
   "metadata": {},
   "outputs": [],
   "source": [
    "def double_col_a(row):\n",
    "    row_as_dict=dict(row)\n",
    "    return row_as_dict['A']*2"
   ]
  },
  {
   "cell_type": "markdown",
   "metadata": {},
   "source": [
    "To measure how well this scales, run 5 tests for a dataframe with 100 rows, then run 5 tests for a dataframe with 1000 rows, and finally run 5 tests for a dataframe with 10,000 rows."
   ]
  },
  {
   "cell_type": "code",
   "execution_count": 3,
   "metadata": {},
   "outputs": [],
   "source": [
    "number_of_tests=5\n",
    "list_of_row_size=[100, 1000, 10000]"
   ]
  },
  {
   "cell_type": "markdown",
   "metadata": {},
   "source": [
    "These nested loops implement the scaling experiment"
   ]
  },
  {
   "cell_type": "code",
   "execution_count": 4,
   "metadata": {},
   "outputs": [
    {
     "name": "stdout",
     "output_type": "stream",
     "text": [
      "elapsed time: 0.03 for 100\n",
      "elapsed time: 0.22 for 1000\n",
      "elapsed time: 2.04 for 10000\n"
     ]
    }
   ],
   "source": [
    "serial_reslts={}\n",
    "scaling_start=time.time()\n",
    "for row_count in list_of_row_size:\n",
    "    test_reslts=[]\n",
    "    for test_indx in range(number_of_tests): # run the same experiment multiple times \n",
    "        # create a dataframe with random content of a specified size\n",
    "        # this isn't the section relevant to the scaling measurement, so timing isn't performed\n",
    "        df = pandas.DataFrame(\n",
    "                numpy.random.randint(0,1000,\n",
    "                                     size=(row_count, 4)), \n",
    "                                     columns=list('ABCD'))\n",
    "        # wrap the line of the code we are measuring with timing \n",
    "        start_time = time.time()\n",
    "        df['K'] = df.apply(double_col_a,axis=1)\n",
    "        test_reslts.append(time.time() - start_time) # store elapsed time to a list\n",
    "\n",
    "    # after running the experiment multiple times, record the average result to a dictionary\n",
    "    serial_reslts[row_count]=sum(test_reslts)/number_of_tests\n",
    "    \n",
    "    # progress indicator as we scale up\n",
    "    print('elapsed time:',round(time.time() - scaling_start,2),'for',row_count)"
   ]
  },
  {
   "cell_type": "markdown",
   "metadata": {},
   "source": [
    "The results from the experiment are stored in a dictionary. I've already averaged the measurements from the 10 runs."
   ]
  },
  {
   "cell_type": "code",
   "execution_count": 5,
   "metadata": {},
   "outputs": [
    {
     "data": {
      "text/plain": [
       "{100: 0.00568242073059082,\n",
       " 1000: 0.03752455711364746,\n",
       " 10000: 0.3643056392669678}"
      ]
     },
     "execution_count": 5,
     "metadata": {},
     "output_type": "execute_result"
    }
   ],
   "source": [
    "serial_reslts"
   ]
  },
  {
   "cell_type": "markdown",
   "metadata": {},
   "source": [
    "Plot the data to see linear scaling. I've included a linear fit of the data points."
   ]
  },
  {
   "cell_type": "code",
   "execution_count": 6,
   "metadata": {},
   "outputs": [
    {
     "data": {
      "image/png": "[encoded data removed]",
      "text/plain": [
       "<Figure size 432x288 with 1 Axes>"
      ]
     },
     "metadata": {
      "needs_background": "light"
     },
     "output_type": "display_data"
    }
   ],
   "source": [
    "serial_x = list(serial_reslts.keys()) # list_of_row_size\n",
    "serial_y = list(serial_reslts.values())\n",
    "_=plt.scatter(serial_x,serial_y,color='blue')\n",
    "_=plt.ylabel('average time in seconds',fontsize=14)\n",
    "_=plt.xlabel('number of rows in dataframe',fontsize=14)\n",
    "\n",
    "_=plt.plot(numpy.unique(serial_x), numpy.poly1d(numpy.polyfit(serial_x, serial_y, 1))(numpy.unique(serial_x))) # https://stackoverflow.com/questions/22239691/code-for-line-of-best-fit-of-a-scatter-plot-in-python"
   ]
  },
  {
   "cell_type": "markdown",
   "metadata": {},
   "source": [
    "# Now I show how I created that code through iterative development"
   ]
  },
  {
   "cell_type": "markdown",
   "metadata": {},
   "source": [
    "The `time.time()` command show what time it is in seconds since 12:00 am on January 1, 1970. This specific time is called \"epoch.\" For more on that, see \n",
    "\n",
    "https://en.wikipedia.org/wiki/Epoch_(reference_date)#Computing\n",
    "\n",
    "https://en.wikipedia.org/wiki/Unix_time\n",
    "\n",
    "https://stackoverflow.com/questions/2533563/why-are-dates-calculated-from-january-1st-1970/2533567"
   ]
  },
  {
   "cell_type": "code",
   "execution_count": 7,
   "metadata": {},
   "outputs": [
    {
     "data": {
      "text/plain": [
       "1618195019.788169"
      ]
     },
     "execution_count": 7,
     "metadata": {},
     "output_type": "execute_result"
    }
   ],
   "source": [
    "time.time()"
   ]
  },
  {
   "cell_type": "markdown",
   "metadata": {},
   "source": [
    "create a dataframe with randomly populated integers"
   ]
  },
  {
   "cell_type": "code",
   "execution_count": 8,
   "metadata": {},
   "outputs": [
    {
     "name": "stdout",
     "output_type": "stream",
     "text": [
      "cell elapsed: 0.0 seconds\n"
     ]
    }
   ],
   "source": [
    "start_time=time.time()\n",
    "row_count=10000\n",
    "df = pandas.DataFrame(numpy.random.randint(0,1000,\n",
    "                                           size=(row_count, 4)), \n",
    "                                           columns=list('ABCD'))\n",
    "print('cell elapsed:',round(time.time()-start_time,2),'seconds')"
   ]
  },
  {
   "cell_type": "code",
   "execution_count": 9,
   "metadata": {},
   "outputs": [
    {
     "data": {
      "text/plain": [
       "(10000, 4)"
      ]
     },
     "execution_count": 9,
     "metadata": {},
     "output_type": "execute_result"
    }
   ],
   "source": [
    "df.shape"
   ]
  },
  {
   "cell_type": "code",
   "execution_count": 10,
   "metadata": {},
   "outputs": [
    {
     "data": {
      "text/html": [
       "<div>\n",
       "<style scoped>\n",
       "    .dataframe tbody tr th:only-of-type {\n",
       "        vertical-align: middle;\n",
       "    }\n",
       "\n",
       "    .dataframe tbody tr th {\n",
       "        vertical-align: top;\n",
       "    }\n",
       "\n",
       "    .dataframe thead th {\n",
       "        text-align: right;\n",
       "    }\n",
       "</style>\n",
       "<table border=\"1\" class=\"dataframe\">\n",
       "  <thead>\n",
       "    <tr style=\"text-align: right;\">\n",
       "      <th></th>\n",
       "      <th>A</th>\n",
       "      <th>B</th>\n",
       "      <th>C</th>\n",
       "      <th>D</th>\n",
       "    </tr>\n",
       "  </thead>\n",
       "  <tbody>\n",
       "    <tr>\n",
       "      <td>0</td>\n",
       "      <td>439</td>\n",
       "      <td>897</td>\n",
       "      <td>594</td>\n",
       "      <td>721</td>\n",
       "    </tr>\n",
       "    <tr>\n",
       "      <td>1</td>\n",
       "      <td>723</td>\n",
       "      <td>632</td>\n",
       "      <td>498</td>\n",
       "      <td>493</td>\n",
       "    </tr>\n",
       "    <tr>\n",
       "      <td>2</td>\n",
       "      <td>565</td>\n",
       "      <td>995</td>\n",
       "      <td>90</td>\n",
       "      <td>75</td>\n",
       "    </tr>\n",
       "    <tr>\n",
       "      <td>3</td>\n",
       "      <td>67</td>\n",
       "      <td>709</td>\n",
       "      <td>945</td>\n",
       "      <td>275</td>\n",
       "    </tr>\n",
       "    <tr>\n",
       "      <td>4</td>\n",
       "      <td>737</td>\n",
       "      <td>773</td>\n",
       "      <td>505</td>\n",
       "      <td>502</td>\n",
       "    </tr>\n",
       "  </tbody>\n",
       "</table>\n",
       "</div>"
      ],
      "text/plain": [
       "     A    B    C    D\n",
       "0  439  897  594  721\n",
       "1  723  632  498  493\n",
       "2  565  995   90   75\n",
       "3   67  709  945  275\n",
       "4  737  773  505  502"
      ]
     },
     "execution_count": 10,
     "metadata": {},
     "output_type": "execute_result"
    }
   ],
   "source": [
    "df.head()"
   ]
  },
  {
   "cell_type": "markdown",
   "metadata": {},
   "source": [
    "Given a dataframe with numeric values, I create a simple function that can operate on the rows"
   ]
  },
  {
   "cell_type": "code",
   "execution_count": 11,
   "metadata": {},
   "outputs": [],
   "source": [
    "def double_col_a(row):\n",
    "    row_as_dict=dict(row)\n",
    "    return row_as_dict['A']*2"
   ]
  },
  {
   "cell_type": "markdown",
   "metadata": {},
   "source": [
    "To use the function, "
   ]
  },
  {
   "cell_type": "code",
   "execution_count": 12,
   "metadata": {},
   "outputs": [],
   "source": [
    "df['K'] = df.apply(double_col_a,axis=1)"
   ]
  },
  {
   "cell_type": "markdown",
   "metadata": {},
   "source": [
    "The shape of the dataframe should be different because a new colum was added"
   ]
  },
  {
   "cell_type": "code",
   "execution_count": 13,
   "metadata": {},
   "outputs": [
    {
     "data": {
      "text/plain": [
       "(10000, 5)"
      ]
     },
     "execution_count": 13,
     "metadata": {},
     "output_type": "execute_result"
    }
   ],
   "source": [
    "df.shape"
   ]
  },
  {
   "cell_type": "code",
   "execution_count": 14,
   "metadata": {},
   "outputs": [
    {
     "data": {
      "text/html": [
       "<div>\n",
       "<style scoped>\n",
       "    .dataframe tbody tr th:only-of-type {\n",
       "        vertical-align: middle;\n",
       "    }\n",
       "\n",
       "    .dataframe tbody tr th {\n",
       "        vertical-align: top;\n",
       "    }\n",
       "\n",
       "    .dataframe thead th {\n",
       "        text-align: right;\n",
       "    }\n",
       "</style>\n",
       "<table border=\"1\" class=\"dataframe\">\n",
       "  <thead>\n",
       "    <tr style=\"text-align: right;\">\n",
       "      <th></th>\n",
       "      <th>A</th>\n",
       "      <th>B</th>\n",
       "      <th>C</th>\n",
       "      <th>D</th>\n",
       "      <th>K</th>\n",
       "    </tr>\n",
       "  </thead>\n",
       "  <tbody>\n",
       "    <tr>\n",
       "      <td>0</td>\n",
       "      <td>439</td>\n",
       "      <td>897</td>\n",
       "      <td>594</td>\n",
       "      <td>721</td>\n",
       "      <td>878</td>\n",
       "    </tr>\n",
       "    <tr>\n",
       "      <td>1</td>\n",
       "      <td>723</td>\n",
       "      <td>632</td>\n",
       "      <td>498</td>\n",
       "      <td>493</td>\n",
       "      <td>1446</td>\n",
       "    </tr>\n",
       "    <tr>\n",
       "      <td>2</td>\n",
       "      <td>565</td>\n",
       "      <td>995</td>\n",
       "      <td>90</td>\n",
       "      <td>75</td>\n",
       "      <td>1130</td>\n",
       "    </tr>\n",
       "    <tr>\n",
       "      <td>3</td>\n",
       "      <td>67</td>\n",
       "      <td>709</td>\n",
       "      <td>945</td>\n",
       "      <td>275</td>\n",
       "      <td>134</td>\n",
       "    </tr>\n",
       "    <tr>\n",
       "      <td>4</td>\n",
       "      <td>737</td>\n",
       "      <td>773</td>\n",
       "      <td>505</td>\n",
       "      <td>502</td>\n",
       "      <td>1474</td>\n",
       "    </tr>\n",
       "  </tbody>\n",
       "</table>\n",
       "</div>"
      ],
      "text/plain": [
       "     A    B    C    D     K\n",
       "0  439  897  594  721   878\n",
       "1  723  632  498  493  1446\n",
       "2  565  995   90   75  1130\n",
       "3   67  709  945  275   134\n",
       "4  737  773  505  502  1474"
      ]
     },
     "execution_count": 14,
     "metadata": {},
     "output_type": "execute_result"
    }
   ],
   "source": [
    "df.head()"
   ]
  },
  {
   "cell_type": "markdown",
   "metadata": {},
   "source": [
    "In order to know how the function scales as the number of rows increases, I want to time that operation\n",
    "\n",
    "<BR>\n",
    "<BR>\n",
    "\n",
    "To show the timing, I'll first reset the dataframe"
   ]
  },
  {
   "cell_type": "code",
   "execution_count": 15,
   "metadata": {},
   "outputs": [],
   "source": [
    "df = pandas.DataFrame(numpy.random.randint(0,1000,\n",
    "                                           size=(row_count, 4)), \n",
    "                                           columns=list('ABCD'))"
   ]
  },
  {
   "cell_type": "code",
   "execution_count": 16,
   "metadata": {},
   "outputs": [
    {
     "name": "stdout",
     "output_type": "stream",
     "text": [
      "0.35828471183776855 seconds\n"
     ]
    }
   ],
   "source": [
    "start_time = time.time()\n",
    "df['K'] = df.apply(double_col_a,axis=1)\n",
    "print(time.time() - start_time,'seconds')"
   ]
  },
  {
   "cell_type": "markdown",
   "metadata": {},
   "source": [
    "Yay, a data point. Now we want to re-run that same test multiple times. \n",
    "\n",
    "Doing a task repeatedly means using a loop"
   ]
  },
  {
   "cell_type": "code",
   "execution_count": 17,
   "metadata": {},
   "outputs": [
    {
     "name": "stdout",
     "output_type": "stream",
     "text": [
      "0.43581318855285645 seconds\n",
      "0.39962005615234375 seconds\n",
      "0.43563222885131836 seconds\n",
      "0.4286379814147949 seconds\n",
      "0.41959095001220703 seconds\n"
     ]
    }
   ],
   "source": [
    "number_of_tests=5\n",
    "for test_indx in range(number_of_tests):\n",
    "    start_time = time.time()\n",
    "    df['K'] = df.apply(double_col_a,axis=1)\n",
    "    print(time.time() - start_time,'seconds')"
   ]
  },
  {
   "cell_type": "markdown",
   "metadata": {},
   "source": [
    "To ensure a fair test, reset the dataframe being used in every experiment"
   ]
  },
  {
   "cell_type": "code",
   "execution_count": 18,
   "metadata": {},
   "outputs": [
    {
     "name": "stdout",
     "output_type": "stream",
     "text": [
      "0.351207971572876 seconds\n",
      "0.36959218978881836 seconds\n",
      "0.3714931011199951 seconds\n",
      "0.3548469543457031 seconds\n",
      "0.3701050281524658 seconds\n"
     ]
    }
   ],
   "source": [
    "number_of_tests=5\n",
    "for test_indx in range(number_of_tests):\n",
    "    df = pandas.DataFrame(numpy.random.randint(0,1000,\n",
    "                                               size=(row_count, 4)), \n",
    "                                               columns=list('ABCD'))\n",
    "    start_time = time.time()\n",
    "    df['K'] = df.apply(double_col_a,axis=1)\n",
    "    print(time.time() - start_time,'seconds')"
   ]
  },
  {
   "cell_type": "markdown",
   "metadata": {},
   "source": [
    "Rather than print the results of each test to screen, save to a list"
   ]
  },
  {
   "cell_type": "code",
   "execution_count": 19,
   "metadata": {},
   "outputs": [],
   "source": [
    "number_of_tests=5\n",
    "test_reslts=[]\n",
    "for test_indx in range(number_of_tests):\n",
    "    df = pandas.DataFrame(numpy.random.randint(0,1000,\n",
    "                                               size=(row_count, 4)), \n",
    "                                               columns=list('ABCD'))\n",
    "    start_time = time.time()\n",
    "    df['K'] = df.apply(double_col_a,axis=1)\n",
    "    test_reslts.append(time.time() - start_time)"
   ]
  },
  {
   "cell_type": "code",
   "execution_count": 20,
   "metadata": {},
   "outputs": [
    {
     "name": "stdout",
     "output_type": "stream",
     "text": [
      "[0.35651302337646484, 0.3536849021911621, 0.3603048324584961, 0.3515300750732422, 0.3596329689025879]\n"
     ]
    }
   ],
   "source": [
    "print(test_reslts)"
   ]
  },
  {
   "cell_type": "markdown",
   "metadata": {},
   "source": [
    "Rather than caring about each outcome, I want to know the average outcome"
   ]
  },
  {
   "cell_type": "code",
   "execution_count": 21,
   "metadata": {},
   "outputs": [],
   "source": [
    "serial_reslts=sum(test_reslts)/number_of_tests"
   ]
  },
  {
   "cell_type": "code",
   "execution_count": 22,
   "metadata": {},
   "outputs": [
    {
     "name": "stdout",
     "output_type": "stream",
     "text": [
      "0.35633316040039065 seconds\n"
     ]
    }
   ],
   "source": [
    "print(serial_reslts,'seconds')"
   ]
  },
  {
   "cell_type": "markdown",
   "metadata": {},
   "source": [
    "Put the calculation of the average at the end of the loop"
   ]
  },
  {
   "cell_type": "code",
   "execution_count": 23,
   "metadata": {},
   "outputs": [],
   "source": [
    "number_of_tests=5\n",
    "test_reslts=[]\n",
    "for test_indx in range(number_of_tests):\n",
    "    df = pandas.DataFrame(numpy.random.randint(0,1000,\n",
    "                                               size=(row_count, 4)), \n",
    "                                               columns=list('ABCD'))\n",
    "    start_time = time.time()\n",
    "    df['K'] = df.apply(double_col_a,axis=1)\n",
    "    test_reslts.append(time.time() - start_time)\n",
    "    \n",
    "# after running the experiment multiple times, record the average result to a dictionary\n",
    "serial_reslts=sum(test_reslts)/number_of_tests"
   ]
  },
  {
   "cell_type": "code",
   "execution_count": 24,
   "metadata": {},
   "outputs": [
    {
     "name": "stdout",
     "output_type": "stream",
     "text": [
      "0.3563088893890381 seconds\n"
     ]
    }
   ],
   "source": [
    "print(serial_reslts,'seconds')"
   ]
  },
  {
   "cell_type": "markdown",
   "metadata": {},
   "source": [
    "That was 5 tests of the timing for a dataframe where row_count=10000\n",
    "\n",
    "In order to determine how the `double_col_a` function scales, we need to alter how many rows are in the dataframe"
   ]
  },
  {
   "cell_type": "code",
   "execution_count": 25,
   "metadata": {},
   "outputs": [],
   "source": [
    "number_of_tests=5\n",
    "list_of_row_size=[100, 1000, 10000]"
   ]
  },
  {
   "cell_type": "markdown",
   "metadata": {},
   "source": [
    "Create a loop that runs tests for each of these row counts\n",
    "\n",
    "Rather than store the test results to a scalar, store to a dictionary. The dictionary key is the number of rows in the dataframe."
   ]
  },
  {
   "cell_type": "code",
   "execution_count": 26,
   "metadata": {},
   "outputs": [],
   "source": [
    "serial_reslts={}\n",
    "for row_count in list_of_row_size:\n",
    "    test_reslts=[]\n",
    "    for test_indx in range(number_of_tests):\n",
    "        df = pandas.DataFrame(\n",
    "                numpy.random.randint(0,1000,\n",
    "                                     size=(row_count, 4)), \n",
    "                                     columns=list('ABCD'))\n",
    "        start_time = time.time()\n",
    "        df['K'] = df.apply(double_col_a,axis=1)\n",
    "        test_reslts.append(time.time() - start_time)\n",
    "        \n",
    "    # after running the experiment multiple times, record the average result to a dictionary\n",
    "    serial_reslts[row_count]=sum(test_reslts)/number_of_tests"
   ]
  },
  {
   "cell_type": "code",
   "execution_count": 27,
   "metadata": {},
   "outputs": [
    {
     "name": "stdout",
     "output_type": "stream",
     "text": [
      "{100: 0.005198478698730469, 1000: 0.03824262619018555, 10000: 0.3595461368560791}\n"
     ]
    }
   ],
   "source": [
    "print(serial_reslts)"
   ]
  },
  {
   "cell_type": "markdown",
   "metadata": {},
   "source": [
    "Now we can plot"
   ]
  },
  {
   "cell_type": "code",
   "execution_count": 28,
   "metadata": {},
   "outputs": [
    {
     "data": {
      "text/plain": [
       "Text(0.5, 1.0, 'timing a function call')"
      ]
     },
     "execution_count": 28,
     "metadata": {},
     "output_type": "execute_result"
    },
    {
     "data": {
      "image/png": "[encoded data removed]",
      "text/plain": [
       "<Figure size 432x288 with 1 Axes>"
      ]
     },
     "metadata": {
      "needs_background": "light"
     },
     "output_type": "display_data"
    }
   ],
   "source": [
    "serial_x = list(serial_reslts.keys()) # list_of_row_size\n",
    "serial_y = list(serial_reslts.values())\n",
    "_=plt.scatter(serial_x,serial_y,color='blue')\n",
    "_=plt.ylabel('average time in seconds',fontsize=14)\n",
    "_=plt.xlabel('number of rows in dataframe',fontsize=14)\n",
    "plt.title('timing a function call',fontsize=14)"
   ]
  },
  {
   "cell_type": "markdown",
   "metadata": {},
   "source": [
    "And to provide a guide for the reader's eye, add a linear fit"
   ]
  },
  {
   "cell_type": "code",
   "execution_count": 29,
   "metadata": {},
   "outputs": [
    {
     "data": {
      "image/png": "[encoded data removed]",
      "text/plain": [
       "<Figure size 432x288 with 1 Axes>"
      ]
     },
     "metadata": {
      "needs_background": "light"
     },
     "output_type": "display_data"
    }
   ],
   "source": [
    "serial_x = list(serial_reslts.keys()) # list_of_row_size\n",
    "serial_y = list(serial_reslts.values())\n",
    "plt.scatter(serial_x,serial_y,color='blue')\n",
    "plt.ylabel('average time in seconds',fontsize=14)\n",
    "plt.xlabel('number of rows in dataframe',fontsize=14)\n",
    "plt.title('timing a function call',fontsize=14)\n",
    "\n",
    "plt.plot(numpy.unique(serial_x), numpy.poly1d(numpy.polyfit(serial_x, serial_y, 1))(numpy.unique(serial_x))); # https://stackoverflow.com/questions/22239691/code-for-line-of-best-fit-of-a-scatter-plot-in-python"
   ]
  },
  {
   "cell_type": "code",
   "execution_count": null,
   "metadata": {},
   "outputs": [],
   "source": []
  },
  {
   "cell_type": "code",
   "execution_count": null,
   "metadata": {},
   "outputs": [],
   "source": []
  },
  {
   "cell_type": "code",
   "execution_count": null,
   "metadata": {},
   "outputs": [],
   "source": []
  }
 ],
 "metadata": {
  "kernelspec": {
   "display_name": "Python 3",
   "language": "python",
   "name": "python3"
  },
  "language_info": {
   "codemirror_mode": {
    "name": "ipython",
    "version": 3
   },
   "file_extension": ".py",
   "mimetype": "text/x-python",
   "name": "python",
   "nbconvert_exporter": "python",
   "pygments_lexer": "ipython3",
   "version": "3.7.4"
  },
  "varInspector": {
   "cols": {
    "lenName": 16,
    "lenType": 16,
    "lenVar": 40
   },
   "kernels_config": {
    "python": {
     "delete_cmd_postfix": "",
     "delete_cmd_prefix": "del ",
     "library": "var_list.py",
     "varRefreshCmd": "print(var_dic_list())"
    },
    "r": {
     "delete_cmd_postfix": ") ",
     "delete_cmd_prefix": "rm(",
     "library": "var_list.r",
     "varRefreshCmd": "cat(var_dic_list()) "
    }
   },
   "types_to_exclude": [
    "module",
    "function",
    "builtin_function_or_method",
    "instance",
    "_Feature"
   ],
   "window_display": false
  }
 },
 "nbformat": 4,
 "nbformat_minor": 2
}
