{
 "cells": [
  {
   "cell_type": "markdown",
   "metadata": {},
   "source": [
    "# saving data to disk"
   ]
  },
  {
   "cell_type": "code",
   "execution_count": 1,
   "metadata": {},
   "outputs": [
    {
     "name": "stdout",
     "output_type": "stream",
     "text": [
      "Requirement already satisfied: tables in /Users/msarica/anaconda3/lib/python3.7/site-packages (3.5.2)\n",
      "Requirement already satisfied: numpy>=1.9.3 in /Users/msarica/anaconda3/lib/python3.7/site-packages (from tables) (1.17.2)\n",
      "Requirement already satisfied: six>=1.9.0 in /Users/msarica/anaconda3/lib/python3.7/site-packages (from tables) (1.15.0)\n",
      "Requirement already satisfied: mock>=2.0 in /Users/msarica/anaconda3/lib/python3.7/site-packages (from tables) (3.0.5)\n",
      "Requirement already satisfied: numexpr>=2.6.2 in /Users/msarica/anaconda3/lib/python3.7/site-packages (from tables) (2.7.0)\n",
      "\u001b[33mWARNING: You are using pip version 20.2.3; however, version 21.0.1 is available.\n",
      "You should consider upgrading via the '/Users/msarica/anaconda3/bin/python -m pip install --upgrade pip' command.\u001b[0m\n"
     ]
    }
   ],
   "source": [
    "# https://stackoverflow.com/questions/25980018/importerror-hdfstore-requires-pytables-no-module-named-tables\n",
    "!pip install tables"
   ]
  },
  {
   "cell_type": "code",
   "execution_count": 2,
   "metadata": {},
   "outputs": [
    {
     "name": "stdout",
     "output_type": "stream",
     "text": [
      "3.7.4 (default, Aug 13 2019, 15:17:50) \n",
      "[Clang 4.0.1 (tags/RELEASE_401/final)]\n",
      "pandas 0.25.1\n",
      "numpy 1.17.2\n",
      "sqlite3 2.6.0\n"
     ]
    }
   ],
   "source": [
    "import os\n",
    "import sys\n",
    "print(sys.version)\n",
    "import h5py\n",
    "import pandas\n",
    "print('pandas',pandas.__version__)\n",
    "import numpy\n",
    "print('numpy',numpy.__version__)\n",
    "import sqlite3\n",
    "print('sqlite3',sqlite3.version)\n",
    "import pickle\n",
    "from faker import Faker\n",
    "fake = Faker()\n",
    "import time"
   ]
  },
  {
   "cell_type": "markdown",
   "metadata": {},
   "source": [
    "# create a couple dataframes to save"
   ]
  },
  {
   "cell_type": "code",
   "execution_count": 3,
   "metadata": {},
   "outputs": [
    {
     "name": "stdout",
     "output_type": "stream",
     "text": [
      "(1000000, 4)\n"
     ]
    },
    {
     "data": {
      "text/html": [
       "<div>\n",
       "<style scoped>\n",
       "    .dataframe tbody tr th:only-of-type {\n",
       "        vertical-align: middle;\n",
       "    }\n",
       "\n",
       "    .dataframe tbody tr th {\n",
       "        vertical-align: top;\n",
       "    }\n",
       "\n",
       "    .dataframe thead th {\n",
       "        text-align: right;\n",
       "    }\n",
       "</style>\n",
       "<table border=\"1\" class=\"dataframe\">\n",
       "  <thead>\n",
       "    <tr style=\"text-align: right;\">\n",
       "      <th></th>\n",
       "      <th>A</th>\n",
       "      <th>B</th>\n",
       "      <th>C</th>\n",
       "      <th>D</th>\n",
       "    </tr>\n",
       "  </thead>\n",
       "  <tbody>\n",
       "    <tr>\n",
       "      <td>0</td>\n",
       "      <td>277</td>\n",
       "      <td>292</td>\n",
       "      <td>585</td>\n",
       "      <td>690</td>\n",
       "    </tr>\n",
       "    <tr>\n",
       "      <td>1</td>\n",
       "      <td>429</td>\n",
       "      <td>356</td>\n",
       "      <td>177</td>\n",
       "      <td>935</td>\n",
       "    </tr>\n",
       "    <tr>\n",
       "      <td>2</td>\n",
       "      <td>848</td>\n",
       "      <td>692</td>\n",
       "      <td>493</td>\n",
       "      <td>236</td>\n",
       "    </tr>\n",
       "    <tr>\n",
       "      <td>3</td>\n",
       "      <td>376</td>\n",
       "      <td>140</td>\n",
       "      <td>877</td>\n",
       "      <td>290</td>\n",
       "    </tr>\n",
       "    <tr>\n",
       "      <td>4</td>\n",
       "      <td>140</td>\n",
       "      <td>222</td>\n",
       "      <td>166</td>\n",
       "      <td>238</td>\n",
       "    </tr>\n",
       "  </tbody>\n",
       "</table>\n",
       "</div>"
      ],
      "text/plain": [
       "     A    B    C    D\n",
       "0  277  292  585  690\n",
       "1  429  356  177  935\n",
       "2  848  692  493  236\n",
       "3  376  140  877  290\n",
       "4  140  222  166  238"
      ]
     },
     "execution_count": 3,
     "metadata": {},
     "output_type": "execute_result"
    }
   ],
   "source": [
    "row_count=1000000\n",
    "df_numeric = pandas.DataFrame(numpy.random.randint(0,1000,\n",
    "                      size=(row_count, 4)), \n",
    "                      columns=list('ABCD'))\n",
    "\n",
    "print(df_numeric.shape)\n",
    "\n",
    "df_numeric.head()"
   ]
  },
  {
   "cell_type": "code",
   "execution_count": 4,
   "metadata": {},
   "outputs": [
    {
     "name": "stdout",
     "output_type": "stream",
     "text": [
      "elapsed 5.5 seconds\n"
     ]
    },
    {
     "data": {
      "text/html": [
       "<div>\n",
       "<style scoped>\n",
       "    .dataframe tbody tr th:only-of-type {\n",
       "        vertical-align: middle;\n",
       "    }\n",
       "\n",
       "    .dataframe tbody tr th {\n",
       "        vertical-align: top;\n",
       "    }\n",
       "\n",
       "    .dataframe thead th {\n",
       "        text-align: right;\n",
       "    }\n",
       "</style>\n",
       "<table border=\"1\" class=\"dataframe\">\n",
       "  <thead>\n",
       "    <tr style=\"text-align: right;\">\n",
       "      <th></th>\n",
       "      <th>name</th>\n",
       "      <th>date</th>\n",
       "      <th>domain name</th>\n",
       "      <th>day of month</th>\n",
       "      <th>day of week</th>\n",
       "      <th>country</th>\n",
       "      <th>company</th>\n",
       "      <th>city</th>\n",
       "      <th>email</th>\n",
       "      <th>bank</th>\n",
       "    </tr>\n",
       "  </thead>\n",
       "  <tbody>\n",
       "    <tr>\n",
       "      <td>0</td>\n",
       "      <td>Lisa Campbell</td>\n",
       "      <td>2017-05-04</td>\n",
       "      <td>williams-pratt.com</td>\n",
       "      <td>18</td>\n",
       "      <td>Tuesday</td>\n",
       "      <td>Bulgaria</td>\n",
       "      <td>Haynes, Johnson and Bautista</td>\n",
       "      <td>Port Derrickville</td>\n",
       "      <td>thomasmartin@anderson.org</td>\n",
       "      <td>GB</td>\n",
       "    </tr>\n",
       "    <tr>\n",
       "      <td>1</td>\n",
       "      <td>Kyle Barr</td>\n",
       "      <td>1972-04-25</td>\n",
       "      <td>kramer-mack.biz</td>\n",
       "      <td>12</td>\n",
       "      <td>Tuesday</td>\n",
       "      <td>Norfolk Island</td>\n",
       "      <td>Rogers, Russell and Vargas</td>\n",
       "      <td>Perezville</td>\n",
       "      <td>ktrujillo@hotmail.com</td>\n",
       "      <td>GB</td>\n",
       "    </tr>\n",
       "    <tr>\n",
       "      <td>2</td>\n",
       "      <td>Nathan Brown DVM</td>\n",
       "      <td>2014-05-13</td>\n",
       "      <td>sandoval-moore.biz</td>\n",
       "      <td>14</td>\n",
       "      <td>Saturday</td>\n",
       "      <td>Iceland</td>\n",
       "      <td>Crane Ltd</td>\n",
       "      <td>Dennisfurt</td>\n",
       "      <td>heather05@daniel.com</td>\n",
       "      <td>GB</td>\n",
       "    </tr>\n",
       "    <tr>\n",
       "      <td>3</td>\n",
       "      <td>Pamela Bailey</td>\n",
       "      <td>2001-01-19</td>\n",
       "      <td>christensen.net</td>\n",
       "      <td>20</td>\n",
       "      <td>Saturday</td>\n",
       "      <td>Niger</td>\n",
       "      <td>Huffman-Li</td>\n",
       "      <td>Robertland</td>\n",
       "      <td>dbaldwin@gmail.com</td>\n",
       "      <td>GB</td>\n",
       "    </tr>\n",
       "    <tr>\n",
       "      <td>4</td>\n",
       "      <td>Christopher Sanchez</td>\n",
       "      <td>2015-09-11</td>\n",
       "      <td>gill.com</td>\n",
       "      <td>25</td>\n",
       "      <td>Wednesday</td>\n",
       "      <td>Saint Barthelemy</td>\n",
       "      <td>Cowan LLC</td>\n",
       "      <td>Lake Christopher</td>\n",
       "      <td>annaking@morris.biz</td>\n",
       "      <td>GB</td>\n",
       "    </tr>\n",
       "  </tbody>\n",
       "</table>\n",
       "</div>"
      ],
      "text/plain": [
       "                  name        date         domain name day of month  \\\n",
       "0        Lisa Campbell  2017-05-04  williams-pratt.com           18   \n",
       "1            Kyle Barr  1972-04-25     kramer-mack.biz           12   \n",
       "2     Nathan Brown DVM  2014-05-13  sandoval-moore.biz           14   \n",
       "3        Pamela Bailey  2001-01-19     christensen.net           20   \n",
       "4  Christopher Sanchez  2015-09-11            gill.com           25   \n",
       "\n",
       "  day of week           country                       company  \\\n",
       "0     Tuesday          Bulgaria  Haynes, Johnson and Bautista   \n",
       "1     Tuesday    Norfolk Island    Rogers, Russell and Vargas   \n",
       "2    Saturday           Iceland                     Crane Ltd   \n",
       "3    Saturday             Niger                    Huffman-Li   \n",
       "4   Wednesday  Saint Barthelemy                     Cowan LLC   \n",
       "\n",
       "                city                      email bank  \n",
       "0  Port Derrickville  thomasmartin@anderson.org   GB  \n",
       "1         Perezville      ktrujillo@hotmail.com   GB  \n",
       "2         Dennisfurt       heather05@daniel.com   GB  \n",
       "3         Robertland         dbaldwin@gmail.com   GB  \n",
       "4   Lake Christopher        annaking@morris.biz   GB  "
      ]
     },
     "execution_count": 4,
     "metadata": {},
     "output_type": "execute_result"
    }
   ],
   "source": [
    "start_time=time.time()\n",
    "list_of_dicts=[]\n",
    "num_rows=8500 # 850 is ~1MB CSV and takes 1.5 seconds; 8500 takes 15 seconds\n",
    "for indx in range(num_rows):\n",
    "    list_of_dicts.append({'name':fake.name(),\n",
    "                    'date':fake.date(),\n",
    "                    'domain name':fake.domain_name(),\n",
    "                    'day of month':fake.day_of_month(),\n",
    "                    'day of week':fake.day_of_week(),\n",
    "                    'country':fake.country(),\n",
    "                    'company':fake.company(),\n",
    "                    'city':fake.city(),\n",
    "                    'email':fake.ascii_email(),\n",
    "                    'bank':fake.bank_country()})\n",
    "    \n",
    "df_text = pandas.DataFrame(list_of_dicts)\n",
    "\n",
    "print('elapsed',round(time.time()-start_time,2),'seconds')\n",
    "df_text.head()"
   ]
  },
  {
   "cell_type": "markdown",
   "metadata": {},
   "source": [
    "# compare size of disk for single dataframe "
   ]
  },
  {
   "cell_type": "markdown",
   "metadata": {},
   "source": [
    "## HDF5\n",
    "HDF overview:\n",
    "\n",
    "https://en.wikipedia.org/wiki/Hierarchical_Data_Format\n",
    "\n",
    "Python package:\n",
    "\n",
    "https://www.h5py.org/<BR>\n",
    "http://docs.h5py.org/en/stable/\n",
    "\n",
    "Pandas integration:\n",
    "\n",
    "https://glowingpython.blogspot.com/2014/08/quick-hdf5-with-pandas.html<BR>\n",
    "https://stackoverflow.com/questions/28170623/how-to-read-hdf5-files-in-python<BR>\n",
    "https://medium.com/@jerilkuriakose/using-hdf5-with-python-6c5242d08773<BR>\n",
    "https://pandas.pydata.org/pandas-docs/stable/user_guide/io.html"
   ]
  },
  {
   "cell_type": "code",
   "execution_count": 5,
   "metadata": {},
   "outputs": [],
   "source": [
    "# https://stackoverflow.com/questions/41173254/how-should-i-use-h5py-lib-for-storing-time-series-data\n",
    "\n",
    "with pandas.HDFStore('temp.h5', 'w') as h:\n",
    "    df_numeric.to_hdf(h, 'temp') # https://pandas.pydata.org/pandas-docs/stable/reference/api/pandas.DataFrame.to_hdf.html"
   ]
  },
  {
   "cell_type": "code",
   "execution_count": 6,
   "metadata": {},
   "outputs": [
    {
     "name": "stdout",
     "output_type": "stream",
     "text": [
      "38.15387725830078 MB file on disk\n"
     ]
    }
   ],
   "source": [
    "print(os.path.getsize(\"temp.h5\")/(1024*1024),'MB file on disk')"
   ]
  },
  {
   "cell_type": "markdown",
   "metadata": {},
   "source": [
    "to read the content, use"
   ]
  },
  {
   "cell_type": "code",
   "execution_count": 7,
   "metadata": {},
   "outputs": [],
   "source": [
    "df_out = pandas.read_hdf('temp.h5', 'temp')"
   ]
  },
  {
   "cell_type": "markdown",
   "metadata": {},
   "source": [
    "## compare to CSV on disk"
   ]
  },
  {
   "cell_type": "code",
   "execution_count": 8,
   "metadata": {},
   "outputs": [],
   "source": [
    "df_numeric.to_csv('temp.csv')"
   ]
  },
  {
   "cell_type": "code",
   "execution_count": 9,
   "metadata": {},
   "outputs": [
    {
     "name": "stdout",
     "output_type": "stream",
     "text": [
      "21.40876579284668 MB file on disk\n"
     ]
    }
   ],
   "source": [
    "print(os.path.getsize(\"temp.csv\")/(1024*1024),'MB file on disk')"
   ]
  },
  {
   "cell_type": "markdown",
   "metadata": {},
   "source": [
    "## compare to SQLite\n",
    "\n",
    "https://www.dataquest.io/blog/python-pandas-databases/<BR>\n",
    "https://stackoverflow.com/questions/14431646/how-to-write-pandas-dataframe-to-sqlite-with-index<BR>\n",
    "https://pythonspot.com/sqlite-database-with-pandas/<BR>\n",
    "https://datacarpentry.org/python-ecology-lesson/09-working-with-sql/index.html<BR>\n",
    "http://sdsawtelle.github.io/blog/output/large-data-files-pandas-sqlite.html"
   ]
  },
  {
   "cell_type": "code",
   "execution_count": 10,
   "metadata": {},
   "outputs": [],
   "source": [
    "conn = sqlite3.connect(\"temp.db\")\n",
    "cur = conn.cursor() # https://docs.python.org/3/library/sqlite3.html#cursor-objects"
   ]
  },
  {
   "cell_type": "code",
   "execution_count": 11,
   "metadata": {},
   "outputs": [],
   "source": [
    "# https://pandas.pydata.org/pandas-docs/stable/reference/api/pandas.DataFrame.to_sql.html\n",
    "\n",
    "df_numeric.to_sql(name=\"data\", con=conn, if_exists=\"append\", index=False)"
   ]
  },
  {
   "cell_type": "code",
   "execution_count": 12,
   "metadata": {},
   "outputs": [
    {
     "name": "stdout",
     "output_type": "stream",
     "text": [
      "17.734375 MB file on disk\n"
     ]
    }
   ],
   "source": [
    "print(os.path.getsize(\"temp.db\")/(1024*1024),'MB file on disk')"
   ]
  },
  {
   "cell_type": "markdown",
   "metadata": {},
   "source": [
    "## Python pickle serialization"
   ]
  },
  {
   "cell_type": "code",
   "execution_count": 13,
   "metadata": {},
   "outputs": [],
   "source": [
    "df_numeric.to_pickle(\"temp.pkl\")"
   ]
  },
  {
   "cell_type": "code",
   "execution_count": 14,
   "metadata": {},
   "outputs": [
    {
     "name": "stdout",
     "output_type": "stream",
     "text": [
      "30.51826000213623 MB file on disk\n"
     ]
    }
   ],
   "source": [
    "print(os.path.getsize(\"temp.pkl\")/(1024*1024),'MB file on disk')"
   ]
  },
  {
   "cell_type": "markdown",
   "metadata": {},
   "source": [
    "# save two dataframes to file"
   ]
  },
  {
   "cell_type": "markdown",
   "metadata": {},
   "source": [
    "## HDF5\n",
    "\n",
    "https://datascience.stackexchange.com/questions/33171/what-s-the-best-way-to-save-many-pandas-dataframes-together"
   ]
  },
  {
   "cell_type": "code",
   "execution_count": 15,
   "metadata": {},
   "outputs": [],
   "source": [
    "h5_fout = h5py.File('temp.h5')\n",
    "\n",
    "h5_fout.create_dataset(\n",
    "        name='numeric',\n",
    "        data=df_numeric,\n",
    "        compression='gzip', compression_opts=4)\n",
    "\n",
    "h5_fout.create_dataset(\n",
    "        name='text',\n",
    "        data=df_text,\n",
    "        compression='gzip', compression_opts=4,\n",
    "        dtype=h5py.special_dtype(vlen=str)) # http://docs.h5py.org/en/stable/special.html\n",
    "\n",
    "h5_fout.create_dataset('description', data='some dataframes')\n",
    "h5_fout.close()"
   ]
  },
  {
   "cell_type": "code",
   "execution_count": null,
   "metadata": {},
   "outputs": [],
   "source": []
  },
  {
   "cell_type": "markdown",
   "metadata": {},
   "source": [
    "## Python pickle serialization"
   ]
  },
  {
   "cell_type": "code",
   "execution_count": 16,
   "metadata": {},
   "outputs": [],
   "source": [
    "with open('temp.pkl', \"wb\") as f:\n",
    "    pickle.dump(df_text, f)\n",
    "    pickle.dump(df_numeric, f)"
   ]
  },
  {
   "cell_type": "code",
   "execution_count": 17,
   "metadata": {},
   "outputs": [
    {
     "name": "stdout",
     "output_type": "stream",
     "text": [
      "32.026352882385254 MB file on disk\n"
     ]
    }
   ],
   "source": [
    "print(os.path.getsize(\"temp.pkl\")/(1024*1024),'MB file on disk')"
   ]
  },
  {
   "cell_type": "code",
   "execution_count": 18,
   "metadata": {},
   "outputs": [],
   "source": [
    "# https://stackoverflow.com/questions/20716812/saving-and-loading-multiple-objects-in-pickle-file\n",
    "def loadall(filename):\n",
    "    with open(filename, \"rb\") as f:\n",
    "        while True:\n",
    "            try:\n",
    "                yield pickle.load(f)\n",
    "            except EOFError:\n",
    "                break"
   ]
  },
  {
   "cell_type": "code",
   "execution_count": 19,
   "metadata": {},
   "outputs": [],
   "source": [
    "items = list(loadall('temp.pkl'))"
   ]
  },
  {
   "cell_type": "code",
   "execution_count": 20,
   "metadata": {},
   "outputs": [
    {
     "data": {
      "text/plain": [
       "2"
      ]
     },
     "execution_count": 20,
     "metadata": {},
     "output_type": "execute_result"
    }
   ],
   "source": [
    "len(items)"
   ]
  },
  {
   "cell_type": "code",
   "execution_count": 21,
   "metadata": {},
   "outputs": [
    {
     "data": {
      "text/html": [
       "<div>\n",
       "<style scoped>\n",
       "    .dataframe tbody tr th:only-of-type {\n",
       "        vertical-align: middle;\n",
       "    }\n",
       "\n",
       "    .dataframe tbody tr th {\n",
       "        vertical-align: top;\n",
       "    }\n",
       "\n",
       "    .dataframe thead th {\n",
       "        text-align: right;\n",
       "    }\n",
       "</style>\n",
       "<table border=\"1\" class=\"dataframe\">\n",
       "  <thead>\n",
       "    <tr style=\"text-align: right;\">\n",
       "      <th></th>\n",
       "      <th>name</th>\n",
       "      <th>date</th>\n",
       "      <th>domain name</th>\n",
       "      <th>day of month</th>\n",
       "      <th>day of week</th>\n",
       "      <th>country</th>\n",
       "      <th>company</th>\n",
       "      <th>city</th>\n",
       "      <th>email</th>\n",
       "      <th>bank</th>\n",
       "    </tr>\n",
       "  </thead>\n",
       "  <tbody>\n",
       "    <tr>\n",
       "      <td>0</td>\n",
       "      <td>Lisa Campbell</td>\n",
       "      <td>2017-05-04</td>\n",
       "      <td>williams-pratt.com</td>\n",
       "      <td>18</td>\n",
       "      <td>Tuesday</td>\n",
       "      <td>Bulgaria</td>\n",
       "      <td>Haynes, Johnson and Bautista</td>\n",
       "      <td>Port Derrickville</td>\n",
       "      <td>thomasmartin@anderson.org</td>\n",
       "      <td>GB</td>\n",
       "    </tr>\n",
       "    <tr>\n",
       "      <td>1</td>\n",
       "      <td>Kyle Barr</td>\n",
       "      <td>1972-04-25</td>\n",
       "      <td>kramer-mack.biz</td>\n",
       "      <td>12</td>\n",
       "      <td>Tuesday</td>\n",
       "      <td>Norfolk Island</td>\n",
       "      <td>Rogers, Russell and Vargas</td>\n",
       "      <td>Perezville</td>\n",
       "      <td>ktrujillo@hotmail.com</td>\n",
       "      <td>GB</td>\n",
       "    </tr>\n",
       "    <tr>\n",
       "      <td>2</td>\n",
       "      <td>Nathan Brown DVM</td>\n",
       "      <td>2014-05-13</td>\n",
       "      <td>sandoval-moore.biz</td>\n",
       "      <td>14</td>\n",
       "      <td>Saturday</td>\n",
       "      <td>Iceland</td>\n",
       "      <td>Crane Ltd</td>\n",
       "      <td>Dennisfurt</td>\n",
       "      <td>heather05@daniel.com</td>\n",
       "      <td>GB</td>\n",
       "    </tr>\n",
       "    <tr>\n",
       "      <td>3</td>\n",
       "      <td>Pamela Bailey</td>\n",
       "      <td>2001-01-19</td>\n",
       "      <td>christensen.net</td>\n",
       "      <td>20</td>\n",
       "      <td>Saturday</td>\n",
       "      <td>Niger</td>\n",
       "      <td>Huffman-Li</td>\n",
       "      <td>Robertland</td>\n",
       "      <td>dbaldwin@gmail.com</td>\n",
       "      <td>GB</td>\n",
       "    </tr>\n",
       "    <tr>\n",
       "      <td>4</td>\n",
       "      <td>Christopher Sanchez</td>\n",
       "      <td>2015-09-11</td>\n",
       "      <td>gill.com</td>\n",
       "      <td>25</td>\n",
       "      <td>Wednesday</td>\n",
       "      <td>Saint Barthelemy</td>\n",
       "      <td>Cowan LLC</td>\n",
       "      <td>Lake Christopher</td>\n",
       "      <td>annaking@morris.biz</td>\n",
       "      <td>GB</td>\n",
       "    </tr>\n",
       "  </tbody>\n",
       "</table>\n",
       "</div>"
      ],
      "text/plain": [
       "                  name        date         domain name day of month  \\\n",
       "0        Lisa Campbell  2017-05-04  williams-pratt.com           18   \n",
       "1            Kyle Barr  1972-04-25     kramer-mack.biz           12   \n",
       "2     Nathan Brown DVM  2014-05-13  sandoval-moore.biz           14   \n",
       "3        Pamela Bailey  2001-01-19     christensen.net           20   \n",
       "4  Christopher Sanchez  2015-09-11            gill.com           25   \n",
       "\n",
       "  day of week           country                       company  \\\n",
       "0     Tuesday          Bulgaria  Haynes, Johnson and Bautista   \n",
       "1     Tuesday    Norfolk Island    Rogers, Russell and Vargas   \n",
       "2    Saturday           Iceland                     Crane Ltd   \n",
       "3    Saturday             Niger                    Huffman-Li   \n",
       "4   Wednesday  Saint Barthelemy                     Cowan LLC   \n",
       "\n",
       "                city                      email bank  \n",
       "0  Port Derrickville  thomasmartin@anderson.org   GB  \n",
       "1         Perezville      ktrujillo@hotmail.com   GB  \n",
       "2         Dennisfurt       heather05@daniel.com   GB  \n",
       "3         Robertland         dbaldwin@gmail.com   GB  \n",
       "4   Lake Christopher        annaking@morris.biz   GB  "
      ]
     },
     "execution_count": 21,
     "metadata": {},
     "output_type": "execute_result"
    }
   ],
   "source": [
    "items[0].head()"
   ]
  },
  {
   "cell_type": "code",
   "execution_count": 22,
   "metadata": {},
   "outputs": [
    {
     "data": {
      "text/html": [
       "<div>\n",
       "<style scoped>\n",
       "    .dataframe tbody tr th:only-of-type {\n",
       "        vertical-align: middle;\n",
       "    }\n",
       "\n",
       "    .dataframe tbody tr th {\n",
       "        vertical-align: top;\n",
       "    }\n",
       "\n",
       "    .dataframe thead th {\n",
       "        text-align: right;\n",
       "    }\n",
       "</style>\n",
       "<table border=\"1\" class=\"dataframe\">\n",
       "  <thead>\n",
       "    <tr style=\"text-align: right;\">\n",
       "      <th></th>\n",
       "      <th>A</th>\n",
       "      <th>B</th>\n",
       "      <th>C</th>\n",
       "      <th>D</th>\n",
       "    </tr>\n",
       "  </thead>\n",
       "  <tbody>\n",
       "    <tr>\n",
       "      <td>0</td>\n",
       "      <td>277</td>\n",
       "      <td>292</td>\n",
       "      <td>585</td>\n",
       "      <td>690</td>\n",
       "    </tr>\n",
       "    <tr>\n",
       "      <td>1</td>\n",
       "      <td>429</td>\n",
       "      <td>356</td>\n",
       "      <td>177</td>\n",
       "      <td>935</td>\n",
       "    </tr>\n",
       "    <tr>\n",
       "      <td>2</td>\n",
       "      <td>848</td>\n",
       "      <td>692</td>\n",
       "      <td>493</td>\n",
       "      <td>236</td>\n",
       "    </tr>\n",
       "    <tr>\n",
       "      <td>3</td>\n",
       "      <td>376</td>\n",
       "      <td>140</td>\n",
       "      <td>877</td>\n",
       "      <td>290</td>\n",
       "    </tr>\n",
       "    <tr>\n",
       "      <td>4</td>\n",
       "      <td>140</td>\n",
       "      <td>222</td>\n",
       "      <td>166</td>\n",
       "      <td>238</td>\n",
       "    </tr>\n",
       "  </tbody>\n",
       "</table>\n",
       "</div>"
      ],
      "text/plain": [
       "     A    B    C    D\n",
       "0  277  292  585  690\n",
       "1  429  356  177  935\n",
       "2  848  692  493  236\n",
       "3  376  140  877  290\n",
       "4  140  222  166  238"
      ]
     },
     "execution_count": 22,
     "metadata": {},
     "output_type": "execute_result"
    }
   ],
   "source": [
    "items[1].head()"
   ]
  },
  {
   "cell_type": "code",
   "execution_count": null,
   "metadata": {},
   "outputs": [],
   "source": []
  },
  {
   "cell_type": "code",
   "execution_count": null,
   "metadata": {},
   "outputs": [],
   "source": []
  }
 ],
 "metadata": {
  "kernelspec": {
   "display_name": "Python 3",
   "language": "python",
   "name": "python3"
  },
  "language_info": {
   "codemirror_mode": {
    "name": "ipython",
    "version": 3
   },
   "file_extension": ".py",
   "mimetype": "text/x-python",
   "name": "python",
   "nbconvert_exporter": "python",
   "pygments_lexer": "ipython3",
   "version": "3.7.4"
  },
  "varInspector": {
   "cols": {
    "lenName": 16,
    "lenType": 16,
    "lenVar": 40
   },
   "kernels_config": {
    "python": {
     "delete_cmd_postfix": "",
     "delete_cmd_prefix": "del ",
     "library": "var_list.py",
     "varRefreshCmd": "print(var_dic_list())"
    },
    "r": {
     "delete_cmd_postfix": ") ",
     "delete_cmd_prefix": "rm(",
     "library": "var_list.r",
     "varRefreshCmd": "cat(var_dic_list()) "
    }
   },
   "types_to_exclude": [
    "module",
    "function",
    "builtin_function_or_method",
    "instance",
    "_Feature"
   ],
   "window_display": false
  }
 },
 "nbformat": 4,
 "nbformat_minor": 2
}
