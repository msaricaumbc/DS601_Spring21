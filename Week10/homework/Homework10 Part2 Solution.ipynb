{
 "cells": [
  {
   "cell_type": "code",
   "execution_count": 34,
   "metadata": {},
   "outputs": [],
   "source": [
    "from file_processor import FileProcessor\n",
    "from nltk.corpus import stopwords\n",
    "from nltk.tokenize import word_tokenize \n",
    "import docx\n",
    "import string\n",
    "import re"
   ]
  },
  {
   "cell_type": "code",
   "execution_count": 37,
   "metadata": {},
   "outputs": [],
   "source": [
    "class DocumentProcessor(FileProcessor):\n",
    "    \n",
    "    def process_file(self, file):\n",
    "        content = self.get_content(file)\n",
    "        \n",
    "        return self.get_word_array(content)\n",
    "    \n",
    "    \n",
    "    def get_word_array(self, content):\n",
    "        \"\"\"\n",
    "        content: string (content of the file)\n",
    "        \n",
    "        returns words array\n",
    "        \"\"\"\n",
    "        # get stop words as a set\n",
    "        en_stops = set(stopwords.words('english'))\n",
    "        \n",
    "        # remove punctuation from content thru regular expr.\n",
    "        # https://stackoverflow.com/questions/265960/best-way-to-strip-punctuation-from-a-string\n",
    "        content = content.translate(str.maketrans('', '', string.punctuation))\n",
    "        content = re.sub(r'(–|—|’|“|”)', '', content)\n",
    "        \n",
    "        # lower case\n",
    "        content = content.lower()\n",
    "        \n",
    "        # tokenize content into an array\n",
    "        words = word_tokenize(content)\n",
    "    \n",
    "        # convert to set\n",
    "        words_set = set(words)\n",
    "        \n",
    "        # substract  stop words set from the words set\n",
    "        words_set = words_set - en_stops\n",
    "        \n",
    "        # convert to list \n",
    "        # sort the array\n",
    "        # return the list\n",
    "        return sorted(list(words_set))\n",
    "        \n",
    "\n",
    "    def get_content(self, file):\n",
    "        \n",
    "        if '.doc' in file: \n",
    "            return self.read_doc(file)\n",
    "        \n",
    "        elif '.txt' in file: \n",
    "            return self.read_txt(file)\n",
    "            \n",
    "        # ... other file formats\n",
    "        else:\n",
    "            print (file, ' unknown file') # should not happen for this assignment\n",
    "            return '' # return string so the application will not fail\n",
    "        \n",
    "        \n",
    "    def read_doc(self, file):\n",
    "        \"\"\"\n",
    "        reads doc/docx files\n",
    "        \n",
    "        return file content as a string\n",
    "        \"\"\"\n",
    "        # https://www.pythonprogramming.in/how-to-read-data-from-docx-file-in-python.html\n",
    "        try:\n",
    "            doc = docx.Document(file)  # Creating word reader object.\n",
    "            data = \"\"\n",
    "            fullText = []\n",
    "            for para in doc.paragraphs:\n",
    "                fullText.append(para.text)\n",
    "                data = ' '.join(fullText)\n",
    "\n",
    "            return data\n",
    "\n",
    "        except IOError:\n",
    "            print('There was an error opening the file!')\n",
    "            return \"\"\n",
    "    \n",
    "    \n",
    "    def read_txt(self, file):\n",
    "        \"\"\"\n",
    "        reads txt files \n",
    "        \n",
    "        returns file content as a string\n",
    "        \"\"\"\n",
    "        \n",
    "        with open(file) as f:\n",
    "            lines = f.readlines()\n",
    "            return '\\n'.join(lines)"
   ]
  },
  {
   "cell_type": "code",
   "execution_count": 38,
   "metadata": {},
   "outputs": [
    {
     "name": "stdout",
     "output_type": "stream",
     "text": [
      "Processing:  week_10_document1.docx\n",
      "Processing:  random_text.txt\n",
      "Processing:  how_rubber_goods_are_made.txt\n",
      "Processing:  52256-0.txt\n",
      "Processing:  pg43994.txt\n",
      "Processing:  most_boring_part2.txt\n",
      "Processing:  blind_text.txt\n",
      "Processing:  pg14895.txt\n",
      "Processing:  53031-0.txt\n",
      "Processing:  58108-0.txt\n",
      "Processing:  pg12814.txt\n",
      "Processing:  smiley_the_bunny.txt\n",
      "Processing:  most_boring_ever.txt\n",
      "Processing:  dr_yawn.txt\n",
      "Processing:  week_10_document2.docx\n",
      "Saving File\n",
      "Process Finished\n"
     ]
    }
   ],
   "source": [
    "DocumentProcessor().start()"
   ]
  },
  {
   "cell_type": "code",
   "execution_count": null,
   "metadata": {},
   "outputs": [],
   "source": []
  }
 ],
 "metadata": {
  "kernelspec": {
   "display_name": "Python 3",
   "language": "python",
   "name": "python3"
  },
  "language_info": {
   "codemirror_mode": {
    "name": "ipython",
    "version": 3
   },
   "file_extension": ".py",
   "mimetype": "text/x-python",
   "name": "python",
   "nbconvert_exporter": "python",
   "pygments_lexer": "ipython3",
   "version": "3.7.4"
  },
  "varInspector": {
   "cols": {
    "lenName": 16,
    "lenType": 16,
    "lenVar": 40
   },
   "kernels_config": {
    "python": {
     "delete_cmd_postfix": "",
     "delete_cmd_prefix": "del ",
     "library": "var_list.py",
     "varRefreshCmd": "print(var_dic_list())"
    },
    "r": {
     "delete_cmd_postfix": ") ",
     "delete_cmd_prefix": "rm(",
     "library": "var_list.r",
     "varRefreshCmd": "cat(var_dic_list()) "
    }
   },
   "types_to_exclude": [
    "module",
    "function",
    "builtin_function_or_method",
    "instance",
    "_Feature"
   ],
   "window_display": false
  }
 },
 "nbformat": 4,
 "nbformat_minor": 2
}
